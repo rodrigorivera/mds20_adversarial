{
  "nbformat": 4,
  "nbformat_minor": 0,
  "metadata": {
    "colab": {
      "name": "Копия блокнота \"MaskedLM2.ipynb\"",
      "provenance": [],
      "collapsed_sections": []
    },
    "kernelspec": {
      "name": "python3",
      "display_name": "Python 3"
    },
    "widgets": {
      "application/vnd.jupyter.widget-state+json": {
        "d1bd555dd01d4eceb383ed063d653f54": {
          "model_module": "@jupyter-widgets/controls",
          "model_name": "HBoxModel",
          "state": {
            "_view_name": "HBoxView",
            "_dom_classes": [],
            "_model_name": "HBoxModel",
            "_view_module": "@jupyter-widgets/controls",
            "_model_module_version": "1.5.0",
            "_view_count": null,
            "_view_module_version": "1.5.0",
            "box_style": "",
            "layout": "IPY_MODEL_18c7ed2695234285bc952a65351e16f8",
            "_model_module": "@jupyter-widgets/controls",
            "children": [
              "IPY_MODEL_96d67e28339143b8a5719d13908fa7e5",
              "IPY_MODEL_63c47370ad4e41e7b6b5f9d28d8ff690"
            ]
          }
        },
        "18c7ed2695234285bc952a65351e16f8": {
          "model_module": "@jupyter-widgets/base",
          "model_name": "LayoutModel",
          "state": {
            "_view_name": "LayoutView",
            "grid_template_rows": null,
            "right": null,
            "justify_content": null,
            "_view_module": "@jupyter-widgets/base",
            "overflow": null,
            "_model_module_version": "1.2.0",
            "_view_count": null,
            "flex_flow": null,
            "width": null,
            "min_width": null,
            "border": null,
            "align_items": null,
            "bottom": null,
            "_model_module": "@jupyter-widgets/base",
            "top": null,
            "grid_column": null,
            "overflow_y": null,
            "overflow_x": null,
            "grid_auto_flow": null,
            "grid_area": null,
            "grid_template_columns": null,
            "flex": null,
            "_model_name": "LayoutModel",
            "justify_items": null,
            "grid_row": null,
            "max_height": null,
            "align_content": null,
            "visibility": null,
            "align_self": null,
            "height": null,
            "min_height": null,
            "padding": null,
            "grid_auto_rows": null,
            "grid_gap": null,
            "max_width": null,
            "order": null,
            "_view_module_version": "1.2.0",
            "grid_template_areas": null,
            "object_position": null,
            "object_fit": null,
            "grid_auto_columns": null,
            "margin": null,
            "display": null,
            "left": null
          }
        },
        "96d67e28339143b8a5719d13908fa7e5": {
          "model_module": "@jupyter-widgets/controls",
          "model_name": "FloatProgressModel",
          "state": {
            "_view_name": "ProgressView",
            "style": "IPY_MODEL_7d9c3e8ac3d14cb8aee33cd22b94a83e",
            "_dom_classes": [],
            "description": "Downloading: 100%",
            "_model_name": "FloatProgressModel",
            "bar_style": "success",
            "max": 433,
            "_view_module": "@jupyter-widgets/controls",
            "_model_module_version": "1.5.0",
            "value": 433,
            "_view_count": null,
            "_view_module_version": "1.5.0",
            "orientation": "horizontal",
            "min": 0,
            "description_tooltip": null,
            "_model_module": "@jupyter-widgets/controls",
            "layout": "IPY_MODEL_b60711424ad94527bd29c56cc79a7886"
          }
        },
        "63c47370ad4e41e7b6b5f9d28d8ff690": {
          "model_module": "@jupyter-widgets/controls",
          "model_name": "HTMLModel",
          "state": {
            "_view_name": "HTMLView",
            "style": "IPY_MODEL_85abc23aa07b4bac9e94554635a837ad",
            "_dom_classes": [],
            "description": "",
            "_model_name": "HTMLModel",
            "placeholder": "​",
            "_view_module": "@jupyter-widgets/controls",
            "_model_module_version": "1.5.0",
            "value": " 433/433 [00:07&lt;00:00, 57.6B/s]",
            "_view_count": null,
            "_view_module_version": "1.5.0",
            "description_tooltip": null,
            "_model_module": "@jupyter-widgets/controls",
            "layout": "IPY_MODEL_ded90678924144a581472555c853de2b"
          }
        },
        "7d9c3e8ac3d14cb8aee33cd22b94a83e": {
          "model_module": "@jupyter-widgets/controls",
          "model_name": "ProgressStyleModel",
          "state": {
            "_view_name": "StyleView",
            "_model_name": "ProgressStyleModel",
            "description_width": "initial",
            "_view_module": "@jupyter-widgets/base",
            "_model_module_version": "1.5.0",
            "_view_count": null,
            "_view_module_version": "1.2.0",
            "bar_color": null,
            "_model_module": "@jupyter-widgets/controls"
          }
        },
        "b60711424ad94527bd29c56cc79a7886": {
          "model_module": "@jupyter-widgets/base",
          "model_name": "LayoutModel",
          "state": {
            "_view_name": "LayoutView",
            "grid_template_rows": null,
            "right": null,
            "justify_content": null,
            "_view_module": "@jupyter-widgets/base",
            "overflow": null,
            "_model_module_version": "1.2.0",
            "_view_count": null,
            "flex_flow": null,
            "width": null,
            "min_width": null,
            "border": null,
            "align_items": null,
            "bottom": null,
            "_model_module": "@jupyter-widgets/base",
            "top": null,
            "grid_column": null,
            "overflow_y": null,
            "overflow_x": null,
            "grid_auto_flow": null,
            "grid_area": null,
            "grid_template_columns": null,
            "flex": null,
            "_model_name": "LayoutModel",
            "justify_items": null,
            "grid_row": null,
            "max_height": null,
            "align_content": null,
            "visibility": null,
            "align_self": null,
            "height": null,
            "min_height": null,
            "padding": null,
            "grid_auto_rows": null,
            "grid_gap": null,
            "max_width": null,
            "order": null,
            "_view_module_version": "1.2.0",
            "grid_template_areas": null,
            "object_position": null,
            "object_fit": null,
            "grid_auto_columns": null,
            "margin": null,
            "display": null,
            "left": null
          }
        },
        "85abc23aa07b4bac9e94554635a837ad": {
          "model_module": "@jupyter-widgets/controls",
          "model_name": "DescriptionStyleModel",
          "state": {
            "_view_name": "StyleView",
            "_model_name": "DescriptionStyleModel",
            "description_width": "",
            "_view_module": "@jupyter-widgets/base",
            "_model_module_version": "1.5.0",
            "_view_count": null,
            "_view_module_version": "1.2.0",
            "_model_module": "@jupyter-widgets/controls"
          }
        },
        "ded90678924144a581472555c853de2b": {
          "model_module": "@jupyter-widgets/base",
          "model_name": "LayoutModel",
          "state": {
            "_view_name": "LayoutView",
            "grid_template_rows": null,
            "right": null,
            "justify_content": null,
            "_view_module": "@jupyter-widgets/base",
            "overflow": null,
            "_model_module_version": "1.2.0",
            "_view_count": null,
            "flex_flow": null,
            "width": null,
            "min_width": null,
            "border": null,
            "align_items": null,
            "bottom": null,
            "_model_module": "@jupyter-widgets/base",
            "top": null,
            "grid_column": null,
            "overflow_y": null,
            "overflow_x": null,
            "grid_auto_flow": null,
            "grid_area": null,
            "grid_template_columns": null,
            "flex": null,
            "_model_name": "LayoutModel",
            "justify_items": null,
            "grid_row": null,
            "max_height": null,
            "align_content": null,
            "visibility": null,
            "align_self": null,
            "height": null,
            "min_height": null,
            "padding": null,
            "grid_auto_rows": null,
            "grid_gap": null,
            "max_width": null,
            "order": null,
            "_view_module_version": "1.2.0",
            "grid_template_areas": null,
            "object_position": null,
            "object_fit": null,
            "grid_auto_columns": null,
            "margin": null,
            "display": null,
            "left": null
          }
        },
        "9b76daa768414416b4a9405ee913baf6": {
          "model_module": "@jupyter-widgets/controls",
          "model_name": "HBoxModel",
          "state": {
            "_view_name": "HBoxView",
            "_dom_classes": [],
            "_model_name": "HBoxModel",
            "_view_module": "@jupyter-widgets/controls",
            "_model_module_version": "1.5.0",
            "_view_count": null,
            "_view_module_version": "1.5.0",
            "box_style": "",
            "layout": "IPY_MODEL_c9eafbbac8064242b2c996a6f74f3bcf",
            "_model_module": "@jupyter-widgets/controls",
            "children": [
              "IPY_MODEL_53a79ddf45194f8d888a3c372b708792",
              "IPY_MODEL_b65bd6b80453477f868e8974ec58c650"
            ]
          }
        },
        "c9eafbbac8064242b2c996a6f74f3bcf": {
          "model_module": "@jupyter-widgets/base",
          "model_name": "LayoutModel",
          "state": {
            "_view_name": "LayoutView",
            "grid_template_rows": null,
            "right": null,
            "justify_content": null,
            "_view_module": "@jupyter-widgets/base",
            "overflow": null,
            "_model_module_version": "1.2.0",
            "_view_count": null,
            "flex_flow": null,
            "width": null,
            "min_width": null,
            "border": null,
            "align_items": null,
            "bottom": null,
            "_model_module": "@jupyter-widgets/base",
            "top": null,
            "grid_column": null,
            "overflow_y": null,
            "overflow_x": null,
            "grid_auto_flow": null,
            "grid_area": null,
            "grid_template_columns": null,
            "flex": null,
            "_model_name": "LayoutModel",
            "justify_items": null,
            "grid_row": null,
            "max_height": null,
            "align_content": null,
            "visibility": null,
            "align_self": null,
            "height": null,
            "min_height": null,
            "padding": null,
            "grid_auto_rows": null,
            "grid_gap": null,
            "max_width": null,
            "order": null,
            "_view_module_version": "1.2.0",
            "grid_template_areas": null,
            "object_position": null,
            "object_fit": null,
            "grid_auto_columns": null,
            "margin": null,
            "display": null,
            "left": null
          }
        },
        "53a79ddf45194f8d888a3c372b708792": {
          "model_module": "@jupyter-widgets/controls",
          "model_name": "FloatProgressModel",
          "state": {
            "_view_name": "ProgressView",
            "style": "IPY_MODEL_6c7d797f37784fc780d227c0ed2c5e8a",
            "_dom_classes": [],
            "description": "Downloading: 100%",
            "_model_name": "FloatProgressModel",
            "bar_style": "success",
            "max": 440473133,
            "_view_module": "@jupyter-widgets/controls",
            "_model_module_version": "1.5.0",
            "value": 440473133,
            "_view_count": null,
            "_view_module_version": "1.5.0",
            "orientation": "horizontal",
            "min": 0,
            "description_tooltip": null,
            "_model_module": "@jupyter-widgets/controls",
            "layout": "IPY_MODEL_e7603c9927704c27b05dc4aa62f6ee7f"
          }
        },
        "b65bd6b80453477f868e8974ec58c650": {
          "model_module": "@jupyter-widgets/controls",
          "model_name": "HTMLModel",
          "state": {
            "_view_name": "HTMLView",
            "style": "IPY_MODEL_14f7143a1e4f40f1aa0c8c87705f78f7",
            "_dom_classes": [],
            "description": "",
            "_model_name": "HTMLModel",
            "placeholder": "​",
            "_view_module": "@jupyter-widgets/controls",
            "_model_module_version": "1.5.0",
            "value": " 440M/440M [00:06&lt;00:00, 63.8MB/s]",
            "_view_count": null,
            "_view_module_version": "1.5.0",
            "description_tooltip": null,
            "_model_module": "@jupyter-widgets/controls",
            "layout": "IPY_MODEL_d8e1622ebf9b4e948e3f12f768ac2f72"
          }
        },
        "6c7d797f37784fc780d227c0ed2c5e8a": {
          "model_module": "@jupyter-widgets/controls",
          "model_name": "ProgressStyleModel",
          "state": {
            "_view_name": "StyleView",
            "_model_name": "ProgressStyleModel",
            "description_width": "initial",
            "_view_module": "@jupyter-widgets/base",
            "_model_module_version": "1.5.0",
            "_view_count": null,
            "_view_module_version": "1.2.0",
            "bar_color": null,
            "_model_module": "@jupyter-widgets/controls"
          }
        },
        "e7603c9927704c27b05dc4aa62f6ee7f": {
          "model_module": "@jupyter-widgets/base",
          "model_name": "LayoutModel",
          "state": {
            "_view_name": "LayoutView",
            "grid_template_rows": null,
            "right": null,
            "justify_content": null,
            "_view_module": "@jupyter-widgets/base",
            "overflow": null,
            "_model_module_version": "1.2.0",
            "_view_count": null,
            "flex_flow": null,
            "width": null,
            "min_width": null,
            "border": null,
            "align_items": null,
            "bottom": null,
            "_model_module": "@jupyter-widgets/base",
            "top": null,
            "grid_column": null,
            "overflow_y": null,
            "overflow_x": null,
            "grid_auto_flow": null,
            "grid_area": null,
            "grid_template_columns": null,
            "flex": null,
            "_model_name": "LayoutModel",
            "justify_items": null,
            "grid_row": null,
            "max_height": null,
            "align_content": null,
            "visibility": null,
            "align_self": null,
            "height": null,
            "min_height": null,
            "padding": null,
            "grid_auto_rows": null,
            "grid_gap": null,
            "max_width": null,
            "order": null,
            "_view_module_version": "1.2.0",
            "grid_template_areas": null,
            "object_position": null,
            "object_fit": null,
            "grid_auto_columns": null,
            "margin": null,
            "display": null,
            "left": null
          }
        },
        "14f7143a1e4f40f1aa0c8c87705f78f7": {
          "model_module": "@jupyter-widgets/controls",
          "model_name": "DescriptionStyleModel",
          "state": {
            "_view_name": "StyleView",
            "_model_name": "DescriptionStyleModel",
            "description_width": "",
            "_view_module": "@jupyter-widgets/base",
            "_model_module_version": "1.5.0",
            "_view_count": null,
            "_view_module_version": "1.2.0",
            "_model_module": "@jupyter-widgets/controls"
          }
        },
        "d8e1622ebf9b4e948e3f12f768ac2f72": {
          "model_module": "@jupyter-widgets/base",
          "model_name": "LayoutModel",
          "state": {
            "_view_name": "LayoutView",
            "grid_template_rows": null,
            "right": null,
            "justify_content": null,
            "_view_module": "@jupyter-widgets/base",
            "overflow": null,
            "_model_module_version": "1.2.0",
            "_view_count": null,
            "flex_flow": null,
            "width": null,
            "min_width": null,
            "border": null,
            "align_items": null,
            "bottom": null,
            "_model_module": "@jupyter-widgets/base",
            "top": null,
            "grid_column": null,
            "overflow_y": null,
            "overflow_x": null,
            "grid_auto_flow": null,
            "grid_area": null,
            "grid_template_columns": null,
            "flex": null,
            "_model_name": "LayoutModel",
            "justify_items": null,
            "grid_row": null,
            "max_height": null,
            "align_content": null,
            "visibility": null,
            "align_self": null,
            "height": null,
            "min_height": null,
            "padding": null,
            "grid_auto_rows": null,
            "grid_gap": null,
            "max_width": null,
            "order": null,
            "_view_module_version": "1.2.0",
            "grid_template_areas": null,
            "object_position": null,
            "object_fit": null,
            "grid_auto_columns": null,
            "margin": null,
            "display": null,
            "left": null
          }
        },
        "c9aa9d5e465445358cfd93a9ada71873": {
          "model_module": "@jupyter-widgets/controls",
          "model_name": "HBoxModel",
          "state": {
            "_view_name": "HBoxView",
            "_dom_classes": [],
            "_model_name": "HBoxModel",
            "_view_module": "@jupyter-widgets/controls",
            "_model_module_version": "1.5.0",
            "_view_count": null,
            "_view_module_version": "1.5.0",
            "box_style": "",
            "layout": "IPY_MODEL_08a0d6ad76c24e1c8e774d648b5983ad",
            "_model_module": "@jupyter-widgets/controls",
            "children": [
              "IPY_MODEL_b815a4d8e1af420687817a0377494819",
              "IPY_MODEL_34b60b500b93478297f1d632f55f2203"
            ]
          }
        },
        "08a0d6ad76c24e1c8e774d648b5983ad": {
          "model_module": "@jupyter-widgets/base",
          "model_name": "LayoutModel",
          "state": {
            "_view_name": "LayoutView",
            "grid_template_rows": null,
            "right": null,
            "justify_content": null,
            "_view_module": "@jupyter-widgets/base",
            "overflow": null,
            "_model_module_version": "1.2.0",
            "_view_count": null,
            "flex_flow": null,
            "width": null,
            "min_width": null,
            "border": null,
            "align_items": null,
            "bottom": null,
            "_model_module": "@jupyter-widgets/base",
            "top": null,
            "grid_column": null,
            "overflow_y": null,
            "overflow_x": null,
            "grid_auto_flow": null,
            "grid_area": null,
            "grid_template_columns": null,
            "flex": null,
            "_model_name": "LayoutModel",
            "justify_items": null,
            "grid_row": null,
            "max_height": null,
            "align_content": null,
            "visibility": null,
            "align_self": null,
            "height": null,
            "min_height": null,
            "padding": null,
            "grid_auto_rows": null,
            "grid_gap": null,
            "max_width": null,
            "order": null,
            "_view_module_version": "1.2.0",
            "grid_template_areas": null,
            "object_position": null,
            "object_fit": null,
            "grid_auto_columns": null,
            "margin": null,
            "display": null,
            "left": null
          }
        },
        "b815a4d8e1af420687817a0377494819": {
          "model_module": "@jupyter-widgets/controls",
          "model_name": "FloatProgressModel",
          "state": {
            "_view_name": "ProgressView",
            "style": "IPY_MODEL_aa25b4b3c01b410c91c8a85648793179",
            "_dom_classes": [],
            "description": "Downloading: ",
            "_model_name": "FloatProgressModel",
            "bar_style": "success",
            "max": 2266,
            "_view_module": "@jupyter-widgets/controls",
            "_model_module_version": "1.5.0",
            "value": 2266,
            "_view_count": null,
            "_view_module_version": "1.5.0",
            "orientation": "horizontal",
            "min": 0,
            "description_tooltip": null,
            "_model_module": "@jupyter-widgets/controls",
            "layout": "IPY_MODEL_363d39e2d5164534bde05870fa201195"
          }
        },
        "34b60b500b93478297f1d632f55f2203": {
          "model_module": "@jupyter-widgets/controls",
          "model_name": "HTMLModel",
          "state": {
            "_view_name": "HTMLView",
            "style": "IPY_MODEL_2858c0962d454b019b966dc11fbcfe89",
            "_dom_classes": [],
            "description": "",
            "_model_name": "HTMLModel",
            "placeholder": "​",
            "_view_module": "@jupyter-widgets/controls",
            "_model_module_version": "1.5.0",
            "value": " 5.57k/? [00:00&lt;00:00, 7.96kB/s]",
            "_view_count": null,
            "_view_module_version": "1.5.0",
            "description_tooltip": null,
            "_model_module": "@jupyter-widgets/controls",
            "layout": "IPY_MODEL_17ccccdc898245129276c7f72d9a0c81"
          }
        },
        "aa25b4b3c01b410c91c8a85648793179": {
          "model_module": "@jupyter-widgets/controls",
          "model_name": "ProgressStyleModel",
          "state": {
            "_view_name": "StyleView",
            "_model_name": "ProgressStyleModel",
            "description_width": "initial",
            "_view_module": "@jupyter-widgets/base",
            "_model_module_version": "1.5.0",
            "_view_count": null,
            "_view_module_version": "1.2.0",
            "bar_color": null,
            "_model_module": "@jupyter-widgets/controls"
          }
        },
        "363d39e2d5164534bde05870fa201195": {
          "model_module": "@jupyter-widgets/base",
          "model_name": "LayoutModel",
          "state": {
            "_view_name": "LayoutView",
            "grid_template_rows": null,
            "right": null,
            "justify_content": null,
            "_view_module": "@jupyter-widgets/base",
            "overflow": null,
            "_model_module_version": "1.2.0",
            "_view_count": null,
            "flex_flow": null,
            "width": null,
            "min_width": null,
            "border": null,
            "align_items": null,
            "bottom": null,
            "_model_module": "@jupyter-widgets/base",
            "top": null,
            "grid_column": null,
            "overflow_y": null,
            "overflow_x": null,
            "grid_auto_flow": null,
            "grid_area": null,
            "grid_template_columns": null,
            "flex": null,
            "_model_name": "LayoutModel",
            "justify_items": null,
            "grid_row": null,
            "max_height": null,
            "align_content": null,
            "visibility": null,
            "align_self": null,
            "height": null,
            "min_height": null,
            "padding": null,
            "grid_auto_rows": null,
            "grid_gap": null,
            "max_width": null,
            "order": null,
            "_view_module_version": "1.2.0",
            "grid_template_areas": null,
            "object_position": null,
            "object_fit": null,
            "grid_auto_columns": null,
            "margin": null,
            "display": null,
            "left": null
          }
        },
        "2858c0962d454b019b966dc11fbcfe89": {
          "model_module": "@jupyter-widgets/controls",
          "model_name": "DescriptionStyleModel",
          "state": {
            "_view_name": "StyleView",
            "_model_name": "DescriptionStyleModel",
            "description_width": "",
            "_view_module": "@jupyter-widgets/base",
            "_model_module_version": "1.5.0",
            "_view_count": null,
            "_view_module_version": "1.2.0",
            "_model_module": "@jupyter-widgets/controls"
          }
        },
        "17ccccdc898245129276c7f72d9a0c81": {
          "model_module": "@jupyter-widgets/base",
          "model_name": "LayoutModel",
          "state": {
            "_view_name": "LayoutView",
            "grid_template_rows": null,
            "right": null,
            "justify_content": null,
            "_view_module": "@jupyter-widgets/base",
            "overflow": null,
            "_model_module_version": "1.2.0",
            "_view_count": null,
            "flex_flow": null,
            "width": null,
            "min_width": null,
            "border": null,
            "align_items": null,
            "bottom": null,
            "_model_module": "@jupyter-widgets/base",
            "top": null,
            "grid_column": null,
            "overflow_y": null,
            "overflow_x": null,
            "grid_auto_flow": null,
            "grid_area": null,
            "grid_template_columns": null,
            "flex": null,
            "_model_name": "LayoutModel",
            "justify_items": null,
            "grid_row": null,
            "max_height": null,
            "align_content": null,
            "visibility": null,
            "align_self": null,
            "height": null,
            "min_height": null,
            "padding": null,
            "grid_auto_rows": null,
            "grid_gap": null,
            "max_width": null,
            "order": null,
            "_view_module_version": "1.2.0",
            "grid_template_areas": null,
            "object_position": null,
            "object_fit": null,
            "grid_auto_columns": null,
            "margin": null,
            "display": null,
            "left": null
          }
        },
        "4bf400a1d6bc4606b796f0b493adeb81": {
          "model_module": "@jupyter-widgets/controls",
          "model_name": "HBoxModel",
          "state": {
            "_view_name": "HBoxView",
            "_dom_classes": [],
            "_model_name": "HBoxModel",
            "_view_module": "@jupyter-widgets/controls",
            "_model_module_version": "1.5.0",
            "_view_count": null,
            "_view_module_version": "1.5.0",
            "box_style": "",
            "layout": "IPY_MODEL_56348c7eeff84ba08f71c592e3bc5ec7",
            "_model_module": "@jupyter-widgets/controls",
            "children": [
              "IPY_MODEL_175d7f9ab4ab4ada842df9c1f6c4ac41",
              "IPY_MODEL_bd6d3b34de0a432ca1529b9885f043be"
            ]
          }
        },
        "56348c7eeff84ba08f71c592e3bc5ec7": {
          "model_module": "@jupyter-widgets/base",
          "model_name": "LayoutModel",
          "state": {
            "_view_name": "LayoutView",
            "grid_template_rows": null,
            "right": null,
            "justify_content": null,
            "_view_module": "@jupyter-widgets/base",
            "overflow": null,
            "_model_module_version": "1.2.0",
            "_view_count": null,
            "flex_flow": null,
            "width": null,
            "min_width": null,
            "border": null,
            "align_items": null,
            "bottom": null,
            "_model_module": "@jupyter-widgets/base",
            "top": null,
            "grid_column": null,
            "overflow_y": null,
            "overflow_x": null,
            "grid_auto_flow": null,
            "grid_area": null,
            "grid_template_columns": null,
            "flex": null,
            "_model_name": "LayoutModel",
            "justify_items": null,
            "grid_row": null,
            "max_height": null,
            "align_content": null,
            "visibility": null,
            "align_self": null,
            "height": null,
            "min_height": null,
            "padding": null,
            "grid_auto_rows": null,
            "grid_gap": null,
            "max_width": null,
            "order": null,
            "_view_module_version": "1.2.0",
            "grid_template_areas": null,
            "object_position": null,
            "object_fit": null,
            "grid_auto_columns": null,
            "margin": null,
            "display": null,
            "left": null
          }
        },
        "175d7f9ab4ab4ada842df9c1f6c4ac41": {
          "model_module": "@jupyter-widgets/controls",
          "model_name": "FloatProgressModel",
          "state": {
            "_view_name": "ProgressView",
            "style": "IPY_MODEL_2d369e1180f6474ab8a3d077efd35c5c",
            "_dom_classes": [],
            "description": "Downloading: ",
            "_model_name": "FloatProgressModel",
            "bar_style": "success",
            "max": 1416,
            "_view_module": "@jupyter-widgets/controls",
            "_model_module_version": "1.5.0",
            "value": 1416,
            "_view_count": null,
            "_view_module_version": "1.5.0",
            "orientation": "horizontal",
            "min": 0,
            "description_tooltip": null,
            "_model_module": "@jupyter-widgets/controls",
            "layout": "IPY_MODEL_40bca3e422ae4e9e9e644f00c02a8f90"
          }
        },
        "bd6d3b34de0a432ca1529b9885f043be": {
          "model_module": "@jupyter-widgets/controls",
          "model_name": "HTMLModel",
          "state": {
            "_view_name": "HTMLView",
            "style": "IPY_MODEL_576717486506412aa08cbbde508957de",
            "_dom_classes": [],
            "description": "",
            "_model_name": "HTMLModel",
            "placeholder": "​",
            "_view_module": "@jupyter-widgets/controls",
            "_model_module_version": "1.5.0",
            "value": " 2.99k/? [00:00&lt;00:00, 56.5kB/s]",
            "_view_count": null,
            "_view_module_version": "1.5.0",
            "description_tooltip": null,
            "_model_module": "@jupyter-widgets/controls",
            "layout": "IPY_MODEL_144ffe74836c4cb58a96998b73b30f54"
          }
        },
        "2d369e1180f6474ab8a3d077efd35c5c": {
          "model_module": "@jupyter-widgets/controls",
          "model_name": "ProgressStyleModel",
          "state": {
            "_view_name": "StyleView",
            "_model_name": "ProgressStyleModel",
            "description_width": "initial",
            "_view_module": "@jupyter-widgets/base",
            "_model_module_version": "1.5.0",
            "_view_count": null,
            "_view_module_version": "1.2.0",
            "bar_color": null,
            "_model_module": "@jupyter-widgets/controls"
          }
        },
        "40bca3e422ae4e9e9e644f00c02a8f90": {
          "model_module": "@jupyter-widgets/base",
          "model_name": "LayoutModel",
          "state": {
            "_view_name": "LayoutView",
            "grid_template_rows": null,
            "right": null,
            "justify_content": null,
            "_view_module": "@jupyter-widgets/base",
            "overflow": null,
            "_model_module_version": "1.2.0",
            "_view_count": null,
            "flex_flow": null,
            "width": null,
            "min_width": null,
            "border": null,
            "align_items": null,
            "bottom": null,
            "_model_module": "@jupyter-widgets/base",
            "top": null,
            "grid_column": null,
            "overflow_y": null,
            "overflow_x": null,
            "grid_auto_flow": null,
            "grid_area": null,
            "grid_template_columns": null,
            "flex": null,
            "_model_name": "LayoutModel",
            "justify_items": null,
            "grid_row": null,
            "max_height": null,
            "align_content": null,
            "visibility": null,
            "align_self": null,
            "height": null,
            "min_height": null,
            "padding": null,
            "grid_auto_rows": null,
            "grid_gap": null,
            "max_width": null,
            "order": null,
            "_view_module_version": "1.2.0",
            "grid_template_areas": null,
            "object_position": null,
            "object_fit": null,
            "grid_auto_columns": null,
            "margin": null,
            "display": null,
            "left": null
          }
        },
        "576717486506412aa08cbbde508957de": {
          "model_module": "@jupyter-widgets/controls",
          "model_name": "DescriptionStyleModel",
          "state": {
            "_view_name": "StyleView",
            "_model_name": "DescriptionStyleModel",
            "description_width": "",
            "_view_module": "@jupyter-widgets/base",
            "_model_module_version": "1.5.0",
            "_view_count": null,
            "_view_module_version": "1.2.0",
            "_model_module": "@jupyter-widgets/controls"
          }
        },
        "144ffe74836c4cb58a96998b73b30f54": {
          "model_module": "@jupyter-widgets/base",
          "model_name": "LayoutModel",
          "state": {
            "_view_name": "LayoutView",
            "grid_template_rows": null,
            "right": null,
            "justify_content": null,
            "_view_module": "@jupyter-widgets/base",
            "overflow": null,
            "_model_module_version": "1.2.0",
            "_view_count": null,
            "flex_flow": null,
            "width": null,
            "min_width": null,
            "border": null,
            "align_items": null,
            "bottom": null,
            "_model_module": "@jupyter-widgets/base",
            "top": null,
            "grid_column": null,
            "overflow_y": null,
            "overflow_x": null,
            "grid_auto_flow": null,
            "grid_area": null,
            "grid_template_columns": null,
            "flex": null,
            "_model_name": "LayoutModel",
            "justify_items": null,
            "grid_row": null,
            "max_height": null,
            "align_content": null,
            "visibility": null,
            "align_self": null,
            "height": null,
            "min_height": null,
            "padding": null,
            "grid_auto_rows": null,
            "grid_gap": null,
            "max_width": null,
            "order": null,
            "_view_module_version": "1.2.0",
            "grid_template_areas": null,
            "object_position": null,
            "object_fit": null,
            "grid_auto_columns": null,
            "margin": null,
            "display": null,
            "left": null
          }
        },
        "a2101b5afa3747c1b40283c12bb914ee": {
          "model_module": "@jupyter-widgets/controls",
          "model_name": "HBoxModel",
          "state": {
            "_view_name": "HBoxView",
            "_dom_classes": [],
            "_model_name": "HBoxModel",
            "_view_module": "@jupyter-widgets/controls",
            "_model_module_version": "1.5.0",
            "_view_count": null,
            "_view_module_version": "1.5.0",
            "box_style": "",
            "layout": "IPY_MODEL_15b31a591aae423cb110670621487c9e",
            "_model_module": "@jupyter-widgets/controls",
            "children": [
              "IPY_MODEL_3bb3a3cfb2e74d3d96b5529b7e3f8347",
              "IPY_MODEL_a283fb987c764057a73bf7e566fe8ab9"
            ]
          }
        },
        "15b31a591aae423cb110670621487c9e": {
          "model_module": "@jupyter-widgets/base",
          "model_name": "LayoutModel",
          "state": {
            "_view_name": "LayoutView",
            "grid_template_rows": null,
            "right": null,
            "justify_content": null,
            "_view_module": "@jupyter-widgets/base",
            "overflow": null,
            "_model_module_version": "1.2.0",
            "_view_count": null,
            "flex_flow": null,
            "width": null,
            "min_width": null,
            "border": null,
            "align_items": null,
            "bottom": null,
            "_model_module": "@jupyter-widgets/base",
            "top": null,
            "grid_column": null,
            "overflow_y": null,
            "overflow_x": null,
            "grid_auto_flow": null,
            "grid_area": null,
            "grid_template_columns": null,
            "flex": null,
            "_model_name": "LayoutModel",
            "justify_items": null,
            "grid_row": null,
            "max_height": null,
            "align_content": null,
            "visibility": null,
            "align_self": null,
            "height": null,
            "min_height": null,
            "padding": null,
            "grid_auto_rows": null,
            "grid_gap": null,
            "max_width": null,
            "order": null,
            "_view_module_version": "1.2.0",
            "grid_template_areas": null,
            "object_position": null,
            "object_fit": null,
            "grid_auto_columns": null,
            "margin": null,
            "display": null,
            "left": null
          }
        },
        "3bb3a3cfb2e74d3d96b5529b7e3f8347": {
          "model_module": "@jupyter-widgets/controls",
          "model_name": "FloatProgressModel",
          "state": {
            "_view_name": "ProgressView",
            "style": "IPY_MODEL_97f1bc71e70d41f3960afaf73b29b84f",
            "_dom_classes": [],
            "description": "Downloading: 100%",
            "_model_name": "FloatProgressModel",
            "bar_style": "success",
            "max": 335858,
            "_view_module": "@jupyter-widgets/controls",
            "_model_module_version": "1.5.0",
            "value": 335858,
            "_view_count": null,
            "_view_module_version": "1.5.0",
            "orientation": "horizontal",
            "min": 0,
            "description_tooltip": null,
            "_model_module": "@jupyter-widgets/controls",
            "layout": "IPY_MODEL_7da6b73e5c99417a9839fe3a92867927"
          }
        },
        "a283fb987c764057a73bf7e566fe8ab9": {
          "model_module": "@jupyter-widgets/controls",
          "model_name": "HTMLModel",
          "state": {
            "_view_name": "HTMLView",
            "style": "IPY_MODEL_9181363e87a541f2bd8c1fd5cd47c3ef",
            "_dom_classes": [],
            "description": "",
            "_model_name": "HTMLModel",
            "placeholder": "​",
            "_view_module": "@jupyter-widgets/controls",
            "_model_module_version": "1.5.0",
            "value": " 336k/336k [00:00&lt;00:00, 1.32MB/s]",
            "_view_count": null,
            "_view_module_version": "1.5.0",
            "description_tooltip": null,
            "_model_module": "@jupyter-widgets/controls",
            "layout": "IPY_MODEL_78bc3fe8d8f44b58ab8e27a7f41c2681"
          }
        },
        "97f1bc71e70d41f3960afaf73b29b84f": {
          "model_module": "@jupyter-widgets/controls",
          "model_name": "ProgressStyleModel",
          "state": {
            "_view_name": "StyleView",
            "_model_name": "ProgressStyleModel",
            "description_width": "initial",
            "_view_module": "@jupyter-widgets/base",
            "_model_module_version": "1.5.0",
            "_view_count": null,
            "_view_module_version": "1.2.0",
            "bar_color": null,
            "_model_module": "@jupyter-widgets/controls"
          }
        },
        "7da6b73e5c99417a9839fe3a92867927": {
          "model_module": "@jupyter-widgets/base",
          "model_name": "LayoutModel",
          "state": {
            "_view_name": "LayoutView",
            "grid_template_rows": null,
            "right": null,
            "justify_content": null,
            "_view_module": "@jupyter-widgets/base",
            "overflow": null,
            "_model_module_version": "1.2.0",
            "_view_count": null,
            "flex_flow": null,
            "width": null,
            "min_width": null,
            "border": null,
            "align_items": null,
            "bottom": null,
            "_model_module": "@jupyter-widgets/base",
            "top": null,
            "grid_column": null,
            "overflow_y": null,
            "overflow_x": null,
            "grid_auto_flow": null,
            "grid_area": null,
            "grid_template_columns": null,
            "flex": null,
            "_model_name": "LayoutModel",
            "justify_items": null,
            "grid_row": null,
            "max_height": null,
            "align_content": null,
            "visibility": null,
            "align_self": null,
            "height": null,
            "min_height": null,
            "padding": null,
            "grid_auto_rows": null,
            "grid_gap": null,
            "max_width": null,
            "order": null,
            "_view_module_version": "1.2.0",
            "grid_template_areas": null,
            "object_position": null,
            "object_fit": null,
            "grid_auto_columns": null,
            "margin": null,
            "display": null,
            "left": null
          }
        },
        "9181363e87a541f2bd8c1fd5cd47c3ef": {
          "model_module": "@jupyter-widgets/controls",
          "model_name": "DescriptionStyleModel",
          "state": {
            "_view_name": "StyleView",
            "_model_name": "DescriptionStyleModel",
            "description_width": "",
            "_view_module": "@jupyter-widgets/base",
            "_model_module_version": "1.5.0",
            "_view_count": null,
            "_view_module_version": "1.2.0",
            "_model_module": "@jupyter-widgets/controls"
          }
        },
        "78bc3fe8d8f44b58ab8e27a7f41c2681": {
          "model_module": "@jupyter-widgets/base",
          "model_name": "LayoutModel",
          "state": {
            "_view_name": "LayoutView",
            "grid_template_rows": null,
            "right": null,
            "justify_content": null,
            "_view_module": "@jupyter-widgets/base",
            "overflow": null,
            "_model_module_version": "1.2.0",
            "_view_count": null,
            "flex_flow": null,
            "width": null,
            "min_width": null,
            "border": null,
            "align_items": null,
            "bottom": null,
            "_model_module": "@jupyter-widgets/base",
            "top": null,
            "grid_column": null,
            "overflow_y": null,
            "overflow_x": null,
            "grid_auto_flow": null,
            "grid_area": null,
            "grid_template_columns": null,
            "flex": null,
            "_model_name": "LayoutModel",
            "justify_items": null,
            "grid_row": null,
            "max_height": null,
            "align_content": null,
            "visibility": null,
            "align_self": null,
            "height": null,
            "min_height": null,
            "padding": null,
            "grid_auto_rows": null,
            "grid_gap": null,
            "max_width": null,
            "order": null,
            "_view_module_version": "1.2.0",
            "grid_template_areas": null,
            "object_position": null,
            "object_fit": null,
            "grid_auto_columns": null,
            "margin": null,
            "display": null,
            "left": null
          }
        },
        "bb415f8248cd495eadd2323f7b9533c8": {
          "model_module": "@jupyter-widgets/controls",
          "model_name": "HBoxModel",
          "state": {
            "_view_name": "HBoxView",
            "_dom_classes": [],
            "_model_name": "HBoxModel",
            "_view_module": "@jupyter-widgets/controls",
            "_model_module_version": "1.5.0",
            "_view_count": null,
            "_view_module_version": "1.5.0",
            "box_style": "",
            "layout": "IPY_MODEL_076479607f984ee38ef70acc43f3e69e",
            "_model_module": "@jupyter-widgets/controls",
            "children": [
              "IPY_MODEL_d91001d324ae47cbb60ab37e1705328f",
              "IPY_MODEL_ffea7879cffc49d389b5f52bf4a99333"
            ]
          }
        },
        "076479607f984ee38ef70acc43f3e69e": {
          "model_module": "@jupyter-widgets/base",
          "model_name": "LayoutModel",
          "state": {
            "_view_name": "LayoutView",
            "grid_template_rows": null,
            "right": null,
            "justify_content": null,
            "_view_module": "@jupyter-widgets/base",
            "overflow": null,
            "_model_module_version": "1.2.0",
            "_view_count": null,
            "flex_flow": null,
            "width": null,
            "min_width": null,
            "border": null,
            "align_items": null,
            "bottom": null,
            "_model_module": "@jupyter-widgets/base",
            "top": null,
            "grid_column": null,
            "overflow_y": null,
            "overflow_x": null,
            "grid_auto_flow": null,
            "grid_area": null,
            "grid_template_columns": null,
            "flex": null,
            "_model_name": "LayoutModel",
            "justify_items": null,
            "grid_row": null,
            "max_height": null,
            "align_content": null,
            "visibility": null,
            "align_self": null,
            "height": null,
            "min_height": null,
            "padding": null,
            "grid_auto_rows": null,
            "grid_gap": null,
            "max_width": null,
            "order": null,
            "_view_module_version": "1.2.0",
            "grid_template_areas": null,
            "object_position": null,
            "object_fit": null,
            "grid_auto_columns": null,
            "margin": null,
            "display": null,
            "left": null
          }
        },
        "d91001d324ae47cbb60ab37e1705328f": {
          "model_module": "@jupyter-widgets/controls",
          "model_name": "FloatProgressModel",
          "state": {
            "_view_name": "ProgressView",
            "style": "IPY_MODEL_733e4898afe84148b85487d4065a4876",
            "_dom_classes": [],
            "description": "Downloading: 100%",
            "_model_name": "FloatProgressModel",
            "bar_style": "success",
            "max": 23354,
            "_view_module": "@jupyter-widgets/controls",
            "_model_module_version": "1.5.0",
            "value": 23354,
            "_view_count": null,
            "_view_module_version": "1.5.0",
            "orientation": "horizontal",
            "min": 0,
            "description_tooltip": null,
            "_model_module": "@jupyter-widgets/controls",
            "layout": "IPY_MODEL_3406e9e725354ec990ba40e78e542b14"
          }
        },
        "ffea7879cffc49d389b5f52bf4a99333": {
          "model_module": "@jupyter-widgets/controls",
          "model_name": "HTMLModel",
          "state": {
            "_view_name": "HTMLView",
            "style": "IPY_MODEL_140b3069e6e443f68d4e0e3fe1eb0d0a",
            "_dom_classes": [],
            "description": "",
            "_model_name": "HTMLModel",
            "placeholder": "​",
            "_view_module": "@jupyter-widgets/controls",
            "_model_module_version": "1.5.0",
            "value": " 23.4k/23.4k [00:00&lt;00:00, 250kB/s]",
            "_view_count": null,
            "_view_module_version": "1.5.0",
            "description_tooltip": null,
            "_model_module": "@jupyter-widgets/controls",
            "layout": "IPY_MODEL_a094bbb8e17c463d903997ebec7f1c4d"
          }
        },
        "733e4898afe84148b85487d4065a4876": {
          "model_module": "@jupyter-widgets/controls",
          "model_name": "ProgressStyleModel",
          "state": {
            "_view_name": "StyleView",
            "_model_name": "ProgressStyleModel",
            "description_width": "initial",
            "_view_module": "@jupyter-widgets/base",
            "_model_module_version": "1.5.0",
            "_view_count": null,
            "_view_module_version": "1.2.0",
            "bar_color": null,
            "_model_module": "@jupyter-widgets/controls"
          }
        },
        "3406e9e725354ec990ba40e78e542b14": {
          "model_module": "@jupyter-widgets/base",
          "model_name": "LayoutModel",
          "state": {
            "_view_name": "LayoutView",
            "grid_template_rows": null,
            "right": null,
            "justify_content": null,
            "_view_module": "@jupyter-widgets/base",
            "overflow": null,
            "_model_module_version": "1.2.0",
            "_view_count": null,
            "flex_flow": null,
            "width": null,
            "min_width": null,
            "border": null,
            "align_items": null,
            "bottom": null,
            "_model_module": "@jupyter-widgets/base",
            "top": null,
            "grid_column": null,
            "overflow_y": null,
            "overflow_x": null,
            "grid_auto_flow": null,
            "grid_area": null,
            "grid_template_columns": null,
            "flex": null,
            "_model_name": "LayoutModel",
            "justify_items": null,
            "grid_row": null,
            "max_height": null,
            "align_content": null,
            "visibility": null,
            "align_self": null,
            "height": null,
            "min_height": null,
            "padding": null,
            "grid_auto_rows": null,
            "grid_gap": null,
            "max_width": null,
            "order": null,
            "_view_module_version": "1.2.0",
            "grid_template_areas": null,
            "object_position": null,
            "object_fit": null,
            "grid_auto_columns": null,
            "margin": null,
            "display": null,
            "left": null
          }
        },
        "140b3069e6e443f68d4e0e3fe1eb0d0a": {
          "model_module": "@jupyter-widgets/controls",
          "model_name": "DescriptionStyleModel",
          "state": {
            "_view_name": "StyleView",
            "_model_name": "DescriptionStyleModel",
            "description_width": "",
            "_view_module": "@jupyter-widgets/base",
            "_model_module_version": "1.5.0",
            "_view_count": null,
            "_view_module_version": "1.2.0",
            "_model_module": "@jupyter-widgets/controls"
          }
        },
        "a094bbb8e17c463d903997ebec7f1c4d": {
          "model_module": "@jupyter-widgets/base",
          "model_name": "LayoutModel",
          "state": {
            "_view_name": "LayoutView",
            "grid_template_rows": null,
            "right": null,
            "justify_content": null,
            "_view_module": "@jupyter-widgets/base",
            "overflow": null,
            "_model_module_version": "1.2.0",
            "_view_count": null,
            "flex_flow": null,
            "width": null,
            "min_width": null,
            "border": null,
            "align_items": null,
            "bottom": null,
            "_model_module": "@jupyter-widgets/base",
            "top": null,
            "grid_column": null,
            "overflow_y": null,
            "overflow_x": null,
            "grid_auto_flow": null,
            "grid_area": null,
            "grid_template_columns": null,
            "flex": null,
            "_model_name": "LayoutModel",
            "justify_items": null,
            "grid_row": null,
            "max_height": null,
            "align_content": null,
            "visibility": null,
            "align_self": null,
            "height": null,
            "min_height": null,
            "padding": null,
            "grid_auto_rows": null,
            "grid_gap": null,
            "max_width": null,
            "order": null,
            "_view_module_version": "1.2.0",
            "grid_template_areas": null,
            "object_position": null,
            "object_fit": null,
            "grid_auto_columns": null,
            "margin": null,
            "display": null,
            "left": null
          }
        },
        "bbfd563633364e82af33950e39dc699d": {
          "model_module": "@jupyter-widgets/controls",
          "model_name": "HBoxModel",
          "state": {
            "_view_name": "HBoxView",
            "_dom_classes": [],
            "_model_name": "HBoxModel",
            "_view_module": "@jupyter-widgets/controls",
            "_model_module_version": "1.5.0",
            "_view_count": null,
            "_view_module_version": "1.5.0",
            "box_style": "",
            "layout": "IPY_MODEL_5b60ee671c5c476ab2ca28ac6ad12c57",
            "_model_module": "@jupyter-widgets/controls",
            "children": [
              "IPY_MODEL_6a34b6f0561e4ce3a7f4ad135dc839b3",
              "IPY_MODEL_e84b628a7b444e3aacaaa607d92b5a03"
            ]
          }
        },
        "5b60ee671c5c476ab2ca28ac6ad12c57": {
          "model_module": "@jupyter-widgets/base",
          "model_name": "LayoutModel",
          "state": {
            "_view_name": "LayoutView",
            "grid_template_rows": null,
            "right": null,
            "justify_content": null,
            "_view_module": "@jupyter-widgets/base",
            "overflow": null,
            "_model_module_version": "1.2.0",
            "_view_count": null,
            "flex_flow": null,
            "width": null,
            "min_width": null,
            "border": null,
            "align_items": null,
            "bottom": null,
            "_model_module": "@jupyter-widgets/base",
            "top": null,
            "grid_column": null,
            "overflow_y": null,
            "overflow_x": null,
            "grid_auto_flow": null,
            "grid_area": null,
            "grid_template_columns": null,
            "flex": null,
            "_model_name": "LayoutModel",
            "justify_items": null,
            "grid_row": null,
            "max_height": null,
            "align_content": null,
            "visibility": null,
            "align_self": null,
            "height": null,
            "min_height": null,
            "padding": null,
            "grid_auto_rows": null,
            "grid_gap": null,
            "max_width": null,
            "order": null,
            "_view_module_version": "1.2.0",
            "grid_template_areas": null,
            "object_position": null,
            "object_fit": null,
            "grid_auto_columns": null,
            "margin": null,
            "display": null,
            "left": null
          }
        },
        "6a34b6f0561e4ce3a7f4ad135dc839b3": {
          "model_module": "@jupyter-widgets/controls",
          "model_name": "FloatProgressModel",
          "state": {
            "_view_name": "ProgressView",
            "style": "IPY_MODEL_dc1ccf72e6d546e18bf4ad850b38a151",
            "_dom_classes": [],
            "description": "",
            "_model_name": "FloatProgressModel",
            "bar_style": "info",
            "max": 1,
            "_view_module": "@jupyter-widgets/controls",
            "_model_module_version": "1.5.0",
            "value": 1,
            "_view_count": null,
            "_view_module_version": "1.5.0",
            "orientation": "horizontal",
            "min": 0,
            "description_tooltip": null,
            "_model_module": "@jupyter-widgets/controls",
            "layout": "IPY_MODEL_16ab6465029c4cfdba9cfed842eea8be"
          }
        },
        "e84b628a7b444e3aacaaa607d92b5a03": {
          "model_module": "@jupyter-widgets/controls",
          "model_name": "HTMLModel",
          "state": {
            "_view_name": "HTMLView",
            "style": "IPY_MODEL_31d17fbb0a114b9c8400d078ff43b2fb",
            "_dom_classes": [],
            "description": "",
            "_model_name": "HTMLModel",
            "placeholder": "​",
            "_view_module": "@jupyter-widgets/controls",
            "_model_module_version": "1.5.0",
            "value": " 5452/0 [00:00&lt;00:00, 19286.80 examples/s]",
            "_view_count": null,
            "_view_module_version": "1.5.0",
            "description_tooltip": null,
            "_model_module": "@jupyter-widgets/controls",
            "layout": "IPY_MODEL_ef21ef2a4cf144afa54139c943821e25"
          }
        },
        "dc1ccf72e6d546e18bf4ad850b38a151": {
          "model_module": "@jupyter-widgets/controls",
          "model_name": "ProgressStyleModel",
          "state": {
            "_view_name": "StyleView",
            "_model_name": "ProgressStyleModel",
            "description_width": "initial",
            "_view_module": "@jupyter-widgets/base",
            "_model_module_version": "1.5.0",
            "_view_count": null,
            "_view_module_version": "1.2.0",
            "bar_color": null,
            "_model_module": "@jupyter-widgets/controls"
          }
        },
        "16ab6465029c4cfdba9cfed842eea8be": {
          "model_module": "@jupyter-widgets/base",
          "model_name": "LayoutModel",
          "state": {
            "_view_name": "LayoutView",
            "grid_template_rows": null,
            "right": null,
            "justify_content": null,
            "_view_module": "@jupyter-widgets/base",
            "overflow": null,
            "_model_module_version": "1.2.0",
            "_view_count": null,
            "flex_flow": null,
            "width": null,
            "min_width": null,
            "border": null,
            "align_items": null,
            "bottom": null,
            "_model_module": "@jupyter-widgets/base",
            "top": null,
            "grid_column": null,
            "overflow_y": null,
            "overflow_x": null,
            "grid_auto_flow": null,
            "grid_area": null,
            "grid_template_columns": null,
            "flex": null,
            "_model_name": "LayoutModel",
            "justify_items": null,
            "grid_row": null,
            "max_height": null,
            "align_content": null,
            "visibility": null,
            "align_self": null,
            "height": null,
            "min_height": null,
            "padding": null,
            "grid_auto_rows": null,
            "grid_gap": null,
            "max_width": null,
            "order": null,
            "_view_module_version": "1.2.0",
            "grid_template_areas": null,
            "object_position": null,
            "object_fit": null,
            "grid_auto_columns": null,
            "margin": null,
            "display": null,
            "left": null
          }
        },
        "31d17fbb0a114b9c8400d078ff43b2fb": {
          "model_module": "@jupyter-widgets/controls",
          "model_name": "DescriptionStyleModel",
          "state": {
            "_view_name": "StyleView",
            "_model_name": "DescriptionStyleModel",
            "description_width": "",
            "_view_module": "@jupyter-widgets/base",
            "_model_module_version": "1.5.0",
            "_view_count": null,
            "_view_module_version": "1.2.0",
            "_model_module": "@jupyter-widgets/controls"
          }
        },
        "ef21ef2a4cf144afa54139c943821e25": {
          "model_module": "@jupyter-widgets/base",
          "model_name": "LayoutModel",
          "state": {
            "_view_name": "LayoutView",
            "grid_template_rows": null,
            "right": null,
            "justify_content": null,
            "_view_module": "@jupyter-widgets/base",
            "overflow": null,
            "_model_module_version": "1.2.0",
            "_view_count": null,
            "flex_flow": null,
            "width": null,
            "min_width": null,
            "border": null,
            "align_items": null,
            "bottom": null,
            "_model_module": "@jupyter-widgets/base",
            "top": null,
            "grid_column": null,
            "overflow_y": null,
            "overflow_x": null,
            "grid_auto_flow": null,
            "grid_area": null,
            "grid_template_columns": null,
            "flex": null,
            "_model_name": "LayoutModel",
            "justify_items": null,
            "grid_row": null,
            "max_height": null,
            "align_content": null,
            "visibility": null,
            "align_self": null,
            "height": null,
            "min_height": null,
            "padding": null,
            "grid_auto_rows": null,
            "grid_gap": null,
            "max_width": null,
            "order": null,
            "_view_module_version": "1.2.0",
            "grid_template_areas": null,
            "object_position": null,
            "object_fit": null,
            "grid_auto_columns": null,
            "margin": null,
            "display": null,
            "left": null
          }
        },
        "778396aeafbe44118f7b23d622b13c09": {
          "model_module": "@jupyter-widgets/controls",
          "model_name": "HBoxModel",
          "state": {
            "_view_name": "HBoxView",
            "_dom_classes": [],
            "_model_name": "HBoxModel",
            "_view_module": "@jupyter-widgets/controls",
            "_model_module_version": "1.5.0",
            "_view_count": null,
            "_view_module_version": "1.5.0",
            "box_style": "",
            "layout": "IPY_MODEL_22987194eb6c467b84c74347a7571eac",
            "_model_module": "@jupyter-widgets/controls",
            "children": [
              "IPY_MODEL_967082f79ba64fb888bca8c5c932543e",
              "IPY_MODEL_b324c332008346feabfe23665786428d"
            ]
          }
        },
        "22987194eb6c467b84c74347a7571eac": {
          "model_module": "@jupyter-widgets/base",
          "model_name": "LayoutModel",
          "state": {
            "_view_name": "LayoutView",
            "grid_template_rows": null,
            "right": null,
            "justify_content": null,
            "_view_module": "@jupyter-widgets/base",
            "overflow": null,
            "_model_module_version": "1.2.0",
            "_view_count": null,
            "flex_flow": null,
            "width": null,
            "min_width": null,
            "border": null,
            "align_items": null,
            "bottom": null,
            "_model_module": "@jupyter-widgets/base",
            "top": null,
            "grid_column": null,
            "overflow_y": null,
            "overflow_x": null,
            "grid_auto_flow": null,
            "grid_area": null,
            "grid_template_columns": null,
            "flex": null,
            "_model_name": "LayoutModel",
            "justify_items": null,
            "grid_row": null,
            "max_height": null,
            "align_content": null,
            "visibility": null,
            "align_self": null,
            "height": null,
            "min_height": null,
            "padding": null,
            "grid_auto_rows": null,
            "grid_gap": null,
            "max_width": null,
            "order": null,
            "_view_module_version": "1.2.0",
            "grid_template_areas": null,
            "object_position": null,
            "object_fit": null,
            "grid_auto_columns": null,
            "margin": null,
            "display": null,
            "left": null
          }
        },
        "967082f79ba64fb888bca8c5c932543e": {
          "model_module": "@jupyter-widgets/controls",
          "model_name": "FloatProgressModel",
          "state": {
            "_view_name": "ProgressView",
            "style": "IPY_MODEL_8d03338ec5de40eab6e82c15f7e2c23b",
            "_dom_classes": [],
            "description": "",
            "_model_name": "FloatProgressModel",
            "bar_style": "info",
            "max": 1,
            "_view_module": "@jupyter-widgets/controls",
            "_model_module_version": "1.5.0",
            "value": 1,
            "_view_count": null,
            "_view_module_version": "1.5.0",
            "orientation": "horizontal",
            "min": 0,
            "description_tooltip": null,
            "_model_module": "@jupyter-widgets/controls",
            "layout": "IPY_MODEL_1e411b6f399c4dfca166c68d95ab6fe0"
          }
        },
        "b324c332008346feabfe23665786428d": {
          "model_module": "@jupyter-widgets/controls",
          "model_name": "HTMLModel",
          "state": {
            "_view_name": "HTMLView",
            "style": "IPY_MODEL_6dc5cf037ee9495c83fdcb405bedaf3c",
            "_dom_classes": [],
            "description": "",
            "_model_name": "HTMLModel",
            "placeholder": "​",
            "_view_module": "@jupyter-widgets/controls",
            "_model_module_version": "1.5.0",
            "value": " 500/0 [00:00&lt;00:00, 8928.80 examples/s]",
            "_view_count": null,
            "_view_module_version": "1.5.0",
            "description_tooltip": null,
            "_model_module": "@jupyter-widgets/controls",
            "layout": "IPY_MODEL_24e2a060d25945a287131a411d2b953e"
          }
        },
        "8d03338ec5de40eab6e82c15f7e2c23b": {
          "model_module": "@jupyter-widgets/controls",
          "model_name": "ProgressStyleModel",
          "state": {
            "_view_name": "StyleView",
            "_model_name": "ProgressStyleModel",
            "description_width": "initial",
            "_view_module": "@jupyter-widgets/base",
            "_model_module_version": "1.5.0",
            "_view_count": null,
            "_view_module_version": "1.2.0",
            "bar_color": null,
            "_model_module": "@jupyter-widgets/controls"
          }
        },
        "1e411b6f399c4dfca166c68d95ab6fe0": {
          "model_module": "@jupyter-widgets/base",
          "model_name": "LayoutModel",
          "state": {
            "_view_name": "LayoutView",
            "grid_template_rows": null,
            "right": null,
            "justify_content": null,
            "_view_module": "@jupyter-widgets/base",
            "overflow": null,
            "_model_module_version": "1.2.0",
            "_view_count": null,
            "flex_flow": null,
            "width": null,
            "min_width": null,
            "border": null,
            "align_items": null,
            "bottom": null,
            "_model_module": "@jupyter-widgets/base",
            "top": null,
            "grid_column": null,
            "overflow_y": null,
            "overflow_x": null,
            "grid_auto_flow": null,
            "grid_area": null,
            "grid_template_columns": null,
            "flex": null,
            "_model_name": "LayoutModel",
            "justify_items": null,
            "grid_row": null,
            "max_height": null,
            "align_content": null,
            "visibility": null,
            "align_self": null,
            "height": null,
            "min_height": null,
            "padding": null,
            "grid_auto_rows": null,
            "grid_gap": null,
            "max_width": null,
            "order": null,
            "_view_module_version": "1.2.0",
            "grid_template_areas": null,
            "object_position": null,
            "object_fit": null,
            "grid_auto_columns": null,
            "margin": null,
            "display": null,
            "left": null
          }
        },
        "6dc5cf037ee9495c83fdcb405bedaf3c": {
          "model_module": "@jupyter-widgets/controls",
          "model_name": "DescriptionStyleModel",
          "state": {
            "_view_name": "StyleView",
            "_model_name": "DescriptionStyleModel",
            "description_width": "",
            "_view_module": "@jupyter-widgets/base",
            "_model_module_version": "1.5.0",
            "_view_count": null,
            "_view_module_version": "1.2.0",
            "_model_module": "@jupyter-widgets/controls"
          }
        },
        "24e2a060d25945a287131a411d2b953e": {
          "model_module": "@jupyter-widgets/base",
          "model_name": "LayoutModel",
          "state": {
            "_view_name": "LayoutView",
            "grid_template_rows": null,
            "right": null,
            "justify_content": null,
            "_view_module": "@jupyter-widgets/base",
            "overflow": null,
            "_model_module_version": "1.2.0",
            "_view_count": null,
            "flex_flow": null,
            "width": null,
            "min_width": null,
            "border": null,
            "align_items": null,
            "bottom": null,
            "_model_module": "@jupyter-widgets/base",
            "top": null,
            "grid_column": null,
            "overflow_y": null,
            "overflow_x": null,
            "grid_auto_flow": null,
            "grid_area": null,
            "grid_template_columns": null,
            "flex": null,
            "_model_name": "LayoutModel",
            "justify_items": null,
            "grid_row": null,
            "max_height": null,
            "align_content": null,
            "visibility": null,
            "align_self": null,
            "height": null,
            "min_height": null,
            "padding": null,
            "grid_auto_rows": null,
            "grid_gap": null,
            "max_width": null,
            "order": null,
            "_view_module_version": "1.2.0",
            "grid_template_areas": null,
            "object_position": null,
            "object_fit": null,
            "grid_auto_columns": null,
            "margin": null,
            "display": null,
            "left": null
          }
        },
        "b78d01f6f6a342f38484c4f30d7c7e8c": {
          "model_module": "@jupyter-widgets/controls",
          "model_name": "HBoxModel",
          "state": {
            "_view_name": "HBoxView",
            "_dom_classes": [],
            "_model_name": "HBoxModel",
            "_view_module": "@jupyter-widgets/controls",
            "_model_module_version": "1.5.0",
            "_view_count": null,
            "_view_module_version": "1.5.0",
            "box_style": "",
            "layout": "IPY_MODEL_4b1f0dfa2cdc4c6caa80364fbb3f9f23",
            "_model_module": "@jupyter-widgets/controls",
            "children": [
              "IPY_MODEL_9c1528ea7d4248f5bf3a4684f8107e69",
              "IPY_MODEL_6b2f3c2cfd934c859d897eb78013f4b0"
            ]
          }
        },
        "4b1f0dfa2cdc4c6caa80364fbb3f9f23": {
          "model_module": "@jupyter-widgets/base",
          "model_name": "LayoutModel",
          "state": {
            "_view_name": "LayoutView",
            "grid_template_rows": null,
            "right": null,
            "justify_content": null,
            "_view_module": "@jupyter-widgets/base",
            "overflow": null,
            "_model_module_version": "1.2.0",
            "_view_count": null,
            "flex_flow": null,
            "width": null,
            "min_width": null,
            "border": null,
            "align_items": null,
            "bottom": null,
            "_model_module": "@jupyter-widgets/base",
            "top": null,
            "grid_column": null,
            "overflow_y": null,
            "overflow_x": null,
            "grid_auto_flow": null,
            "grid_area": null,
            "grid_template_columns": null,
            "flex": null,
            "_model_name": "LayoutModel",
            "justify_items": null,
            "grid_row": null,
            "max_height": null,
            "align_content": null,
            "visibility": null,
            "align_self": null,
            "height": null,
            "min_height": null,
            "padding": null,
            "grid_auto_rows": null,
            "grid_gap": null,
            "max_width": null,
            "order": null,
            "_view_module_version": "1.2.0",
            "grid_template_areas": null,
            "object_position": null,
            "object_fit": null,
            "grid_auto_columns": null,
            "margin": null,
            "display": null,
            "left": null
          }
        },
        "9c1528ea7d4248f5bf3a4684f8107e69": {
          "model_module": "@jupyter-widgets/controls",
          "model_name": "FloatProgressModel",
          "state": {
            "_view_name": "ProgressView",
            "style": "IPY_MODEL_b1cbc994a1d049ed83f0c5a75b6dc462",
            "_dom_classes": [],
            "description": "Downloading: 100%",
            "_model_name": "FloatProgressModel",
            "bar_style": "success",
            "max": 231508,
            "_view_module": "@jupyter-widgets/controls",
            "_model_module_version": "1.5.0",
            "value": 231508,
            "_view_count": null,
            "_view_module_version": "1.5.0",
            "orientation": "horizontal",
            "min": 0,
            "description_tooltip": null,
            "_model_module": "@jupyter-widgets/controls",
            "layout": "IPY_MODEL_176e31d4a1f64d50959082f6f8e259d8"
          }
        },
        "6b2f3c2cfd934c859d897eb78013f4b0": {
          "model_module": "@jupyter-widgets/controls",
          "model_name": "HTMLModel",
          "state": {
            "_view_name": "HTMLView",
            "style": "IPY_MODEL_4268c17aefb94df0adccc5118806d13e",
            "_dom_classes": [],
            "description": "",
            "_model_name": "HTMLModel",
            "placeholder": "​",
            "_view_module": "@jupyter-widgets/controls",
            "_model_module_version": "1.5.0",
            "value": " 232k/232k [00:02&lt;00:00, 77.7kB/s]",
            "_view_count": null,
            "_view_module_version": "1.5.0",
            "description_tooltip": null,
            "_model_module": "@jupyter-widgets/controls",
            "layout": "IPY_MODEL_8b628a14bdd94e5dae8f9e393e12639f"
          }
        },
        "b1cbc994a1d049ed83f0c5a75b6dc462": {
          "model_module": "@jupyter-widgets/controls",
          "model_name": "ProgressStyleModel",
          "state": {
            "_view_name": "StyleView",
            "_model_name": "ProgressStyleModel",
            "description_width": "initial",
            "_view_module": "@jupyter-widgets/base",
            "_model_module_version": "1.5.0",
            "_view_count": null,
            "_view_module_version": "1.2.0",
            "bar_color": null,
            "_model_module": "@jupyter-widgets/controls"
          }
        },
        "176e31d4a1f64d50959082f6f8e259d8": {
          "model_module": "@jupyter-widgets/base",
          "model_name": "LayoutModel",
          "state": {
            "_view_name": "LayoutView",
            "grid_template_rows": null,
            "right": null,
            "justify_content": null,
            "_view_module": "@jupyter-widgets/base",
            "overflow": null,
            "_model_module_version": "1.2.0",
            "_view_count": null,
            "flex_flow": null,
            "width": null,
            "min_width": null,
            "border": null,
            "align_items": null,
            "bottom": null,
            "_model_module": "@jupyter-widgets/base",
            "top": null,
            "grid_column": null,
            "overflow_y": null,
            "overflow_x": null,
            "grid_auto_flow": null,
            "grid_area": null,
            "grid_template_columns": null,
            "flex": null,
            "_model_name": "LayoutModel",
            "justify_items": null,
            "grid_row": null,
            "max_height": null,
            "align_content": null,
            "visibility": null,
            "align_self": null,
            "height": null,
            "min_height": null,
            "padding": null,
            "grid_auto_rows": null,
            "grid_gap": null,
            "max_width": null,
            "order": null,
            "_view_module_version": "1.2.0",
            "grid_template_areas": null,
            "object_position": null,
            "object_fit": null,
            "grid_auto_columns": null,
            "margin": null,
            "display": null,
            "left": null
          }
        },
        "4268c17aefb94df0adccc5118806d13e": {
          "model_module": "@jupyter-widgets/controls",
          "model_name": "DescriptionStyleModel",
          "state": {
            "_view_name": "StyleView",
            "_model_name": "DescriptionStyleModel",
            "description_width": "",
            "_view_module": "@jupyter-widgets/base",
            "_model_module_version": "1.5.0",
            "_view_count": null,
            "_view_module_version": "1.2.0",
            "_model_module": "@jupyter-widgets/controls"
          }
        },
        "8b628a14bdd94e5dae8f9e393e12639f": {
          "model_module": "@jupyter-widgets/base",
          "model_name": "LayoutModel",
          "state": {
            "_view_name": "LayoutView",
            "grid_template_rows": null,
            "right": null,
            "justify_content": null,
            "_view_module": "@jupyter-widgets/base",
            "overflow": null,
            "_model_module_version": "1.2.0",
            "_view_count": null,
            "flex_flow": null,
            "width": null,
            "min_width": null,
            "border": null,
            "align_items": null,
            "bottom": null,
            "_model_module": "@jupyter-widgets/base",
            "top": null,
            "grid_column": null,
            "overflow_y": null,
            "overflow_x": null,
            "grid_auto_flow": null,
            "grid_area": null,
            "grid_template_columns": null,
            "flex": null,
            "_model_name": "LayoutModel",
            "justify_items": null,
            "grid_row": null,
            "max_height": null,
            "align_content": null,
            "visibility": null,
            "align_self": null,
            "height": null,
            "min_height": null,
            "padding": null,
            "grid_auto_rows": null,
            "grid_gap": null,
            "max_width": null,
            "order": null,
            "_view_module_version": "1.2.0",
            "grid_template_areas": null,
            "object_position": null,
            "object_fit": null,
            "grid_auto_columns": null,
            "margin": null,
            "display": null,
            "left": null
          }
        },
        "f57dacbe14604700b245f9c6a2e7df2e": {
          "model_module": "@jupyter-widgets/controls",
          "model_name": "HBoxModel",
          "state": {
            "_view_name": "HBoxView",
            "_dom_classes": [],
            "_model_name": "HBoxModel",
            "_view_module": "@jupyter-widgets/controls",
            "_model_module_version": "1.5.0",
            "_view_count": null,
            "_view_module_version": "1.5.0",
            "box_style": "",
            "layout": "IPY_MODEL_8d64f32f03124ec0b2ecb24464501a19",
            "_model_module": "@jupyter-widgets/controls",
            "children": [
              "IPY_MODEL_62fd9b4696514417a5b57b8626ff19af",
              "IPY_MODEL_2a64623f32194d7b9e411546e49f22a0"
            ]
          }
        },
        "8d64f32f03124ec0b2ecb24464501a19": {
          "model_module": "@jupyter-widgets/base",
          "model_name": "LayoutModel",
          "state": {
            "_view_name": "LayoutView",
            "grid_template_rows": null,
            "right": null,
            "justify_content": null,
            "_view_module": "@jupyter-widgets/base",
            "overflow": null,
            "_model_module_version": "1.2.0",
            "_view_count": null,
            "flex_flow": null,
            "width": null,
            "min_width": null,
            "border": null,
            "align_items": null,
            "bottom": null,
            "_model_module": "@jupyter-widgets/base",
            "top": null,
            "grid_column": null,
            "overflow_y": null,
            "overflow_x": null,
            "grid_auto_flow": null,
            "grid_area": null,
            "grid_template_columns": null,
            "flex": null,
            "_model_name": "LayoutModel",
            "justify_items": null,
            "grid_row": null,
            "max_height": null,
            "align_content": null,
            "visibility": null,
            "align_self": null,
            "height": null,
            "min_height": null,
            "padding": null,
            "grid_auto_rows": null,
            "grid_gap": null,
            "max_width": null,
            "order": null,
            "_view_module_version": "1.2.0",
            "grid_template_areas": null,
            "object_position": null,
            "object_fit": null,
            "grid_auto_columns": null,
            "margin": null,
            "display": null,
            "left": null
          }
        },
        "62fd9b4696514417a5b57b8626ff19af": {
          "model_module": "@jupyter-widgets/controls",
          "model_name": "FloatProgressModel",
          "state": {
            "_view_name": "ProgressView",
            "style": "IPY_MODEL_c567255b295646819f0129e620d7fdea",
            "_dom_classes": [],
            "description": "Downloading: 100%",
            "_model_name": "FloatProgressModel",
            "bar_style": "success",
            "max": 466062,
            "_view_module": "@jupyter-widgets/controls",
            "_model_module_version": "1.5.0",
            "value": 466062,
            "_view_count": null,
            "_view_module_version": "1.5.0",
            "orientation": "horizontal",
            "min": 0,
            "description_tooltip": null,
            "_model_module": "@jupyter-widgets/controls",
            "layout": "IPY_MODEL_e48d74601b064a76ad5b0c14892d39ef"
          }
        },
        "2a64623f32194d7b9e411546e49f22a0": {
          "model_module": "@jupyter-widgets/controls",
          "model_name": "HTMLModel",
          "state": {
            "_view_name": "HTMLView",
            "style": "IPY_MODEL_51989fa9cfbc464f81e8d4bdcb8d659f",
            "_dom_classes": [],
            "description": "",
            "_model_name": "HTMLModel",
            "placeholder": "​",
            "_view_module": "@jupyter-widgets/controls",
            "_model_module_version": "1.5.0",
            "value": " 466k/466k [00:02&lt;00:00, 172kB/s]",
            "_view_count": null,
            "_view_module_version": "1.5.0",
            "description_tooltip": null,
            "_model_module": "@jupyter-widgets/controls",
            "layout": "IPY_MODEL_cad83e590e02450a9d79ba4c22e3476e"
          }
        },
        "c567255b295646819f0129e620d7fdea": {
          "model_module": "@jupyter-widgets/controls",
          "model_name": "ProgressStyleModel",
          "state": {
            "_view_name": "StyleView",
            "_model_name": "ProgressStyleModel",
            "description_width": "initial",
            "_view_module": "@jupyter-widgets/base",
            "_model_module_version": "1.5.0",
            "_view_count": null,
            "_view_module_version": "1.2.0",
            "bar_color": null,
            "_model_module": "@jupyter-widgets/controls"
          }
        },
        "e48d74601b064a76ad5b0c14892d39ef": {
          "model_module": "@jupyter-widgets/base",
          "model_name": "LayoutModel",
          "state": {
            "_view_name": "LayoutView",
            "grid_template_rows": null,
            "right": null,
            "justify_content": null,
            "_view_module": "@jupyter-widgets/base",
            "overflow": null,
            "_model_module_version": "1.2.0",
            "_view_count": null,
            "flex_flow": null,
            "width": null,
            "min_width": null,
            "border": null,
            "align_items": null,
            "bottom": null,
            "_model_module": "@jupyter-widgets/base",
            "top": null,
            "grid_column": null,
            "overflow_y": null,
            "overflow_x": null,
            "grid_auto_flow": null,
            "grid_area": null,
            "grid_template_columns": null,
            "flex": null,
            "_model_name": "LayoutModel",
            "justify_items": null,
            "grid_row": null,
            "max_height": null,
            "align_content": null,
            "visibility": null,
            "align_self": null,
            "height": null,
            "min_height": null,
            "padding": null,
            "grid_auto_rows": null,
            "grid_gap": null,
            "max_width": null,
            "order": null,
            "_view_module_version": "1.2.0",
            "grid_template_areas": null,
            "object_position": null,
            "object_fit": null,
            "grid_auto_columns": null,
            "margin": null,
            "display": null,
            "left": null
          }
        },
        "51989fa9cfbc464f81e8d4bdcb8d659f": {
          "model_module": "@jupyter-widgets/controls",
          "model_name": "DescriptionStyleModel",
          "state": {
            "_view_name": "StyleView",
            "_model_name": "DescriptionStyleModel",
            "description_width": "",
            "_view_module": "@jupyter-widgets/base",
            "_model_module_version": "1.5.0",
            "_view_count": null,
            "_view_module_version": "1.2.0",
            "_model_module": "@jupyter-widgets/controls"
          }
        },
        "cad83e590e02450a9d79ba4c22e3476e": {
          "model_module": "@jupyter-widgets/base",
          "model_name": "LayoutModel",
          "state": {
            "_view_name": "LayoutView",
            "grid_template_rows": null,
            "right": null,
            "justify_content": null,
            "_view_module": "@jupyter-widgets/base",
            "overflow": null,
            "_model_module_version": "1.2.0",
            "_view_count": null,
            "flex_flow": null,
            "width": null,
            "min_width": null,
            "border": null,
            "align_items": null,
            "bottom": null,
            "_model_module": "@jupyter-widgets/base",
            "top": null,
            "grid_column": null,
            "overflow_y": null,
            "overflow_x": null,
            "grid_auto_flow": null,
            "grid_area": null,
            "grid_template_columns": null,
            "flex": null,
            "_model_name": "LayoutModel",
            "justify_items": null,
            "grid_row": null,
            "max_height": null,
            "align_content": null,
            "visibility": null,
            "align_self": null,
            "height": null,
            "min_height": null,
            "padding": null,
            "grid_auto_rows": null,
            "grid_gap": null,
            "max_width": null,
            "order": null,
            "_view_module_version": "1.2.0",
            "grid_template_areas": null,
            "object_position": null,
            "object_fit": null,
            "grid_auto_columns": null,
            "margin": null,
            "display": null,
            "left": null
          }
        },
        "7c073a05c3e94e6b8e7ad6470771e1b4": {
          "model_module": "@jupyter-widgets/controls",
          "model_name": "HBoxModel",
          "state": {
            "_view_name": "HBoxView",
            "_dom_classes": [],
            "_model_name": "HBoxModel",
            "_view_module": "@jupyter-widgets/controls",
            "_model_module_version": "1.5.0",
            "_view_count": null,
            "_view_module_version": "1.5.0",
            "box_style": "",
            "layout": "IPY_MODEL_83c2c5c14afb431f82af852f12386092",
            "_model_module": "@jupyter-widgets/controls",
            "children": [
              "IPY_MODEL_b06637e12720410d987ff2a4654335e5",
              "IPY_MODEL_c1d45db8f1424f0185d4d9ad7c8e3568"
            ]
          }
        },
        "83c2c5c14afb431f82af852f12386092": {
          "model_module": "@jupyter-widgets/base",
          "model_name": "LayoutModel",
          "state": {
            "_view_name": "LayoutView",
            "grid_template_rows": null,
            "right": null,
            "justify_content": null,
            "_view_module": "@jupyter-widgets/base",
            "overflow": null,
            "_model_module_version": "1.2.0",
            "_view_count": null,
            "flex_flow": null,
            "width": null,
            "min_width": null,
            "border": null,
            "align_items": null,
            "bottom": null,
            "_model_module": "@jupyter-widgets/base",
            "top": null,
            "grid_column": null,
            "overflow_y": null,
            "overflow_x": null,
            "grid_auto_flow": null,
            "grid_area": null,
            "grid_template_columns": null,
            "flex": null,
            "_model_name": "LayoutModel",
            "justify_items": null,
            "grid_row": null,
            "max_height": null,
            "align_content": null,
            "visibility": null,
            "align_self": null,
            "height": null,
            "min_height": null,
            "padding": null,
            "grid_auto_rows": null,
            "grid_gap": null,
            "max_width": null,
            "order": null,
            "_view_module_version": "1.2.0",
            "grid_template_areas": null,
            "object_position": null,
            "object_fit": null,
            "grid_auto_columns": null,
            "margin": null,
            "display": null,
            "left": null
          }
        },
        "b06637e12720410d987ff2a4654335e5": {
          "model_module": "@jupyter-widgets/controls",
          "model_name": "FloatProgressModel",
          "state": {
            "_view_name": "ProgressView",
            "style": "IPY_MODEL_e0a119cda74440f2bb148fa674b3f6ee",
            "_dom_classes": [],
            "description": "Downloading: 100%",
            "_model_name": "FloatProgressModel",
            "bar_style": "success",
            "max": 433,
            "_view_module": "@jupyter-widgets/controls",
            "_model_module_version": "1.5.0",
            "value": 433,
            "_view_count": null,
            "_view_module_version": "1.5.0",
            "orientation": "horizontal",
            "min": 0,
            "description_tooltip": null,
            "_model_module": "@jupyter-widgets/controls",
            "layout": "IPY_MODEL_7e023cc928614ab38bf6b39d42c4b601"
          }
        },
        "c1d45db8f1424f0185d4d9ad7c8e3568": {
          "model_module": "@jupyter-widgets/controls",
          "model_name": "HTMLModel",
          "state": {
            "_view_name": "HTMLView",
            "style": "IPY_MODEL_d59c58786ca8408fb8c2a737ff09a72d",
            "_dom_classes": [],
            "description": "",
            "_model_name": "HTMLModel",
            "placeholder": "​",
            "_view_module": "@jupyter-widgets/controls",
            "_model_module_version": "1.5.0",
            "value": " 433/433 [00:00&lt;00:00, 2.39kB/s]",
            "_view_count": null,
            "_view_module_version": "1.5.0",
            "description_tooltip": null,
            "_model_module": "@jupyter-widgets/controls",
            "layout": "IPY_MODEL_f825cea54f2d410d9bfb69664ed2db54"
          }
        },
        "e0a119cda74440f2bb148fa674b3f6ee": {
          "model_module": "@jupyter-widgets/controls",
          "model_name": "ProgressStyleModel",
          "state": {
            "_view_name": "StyleView",
            "_model_name": "ProgressStyleModel",
            "description_width": "initial",
            "_view_module": "@jupyter-widgets/base",
            "_model_module_version": "1.5.0",
            "_view_count": null,
            "_view_module_version": "1.2.0",
            "bar_color": null,
            "_model_module": "@jupyter-widgets/controls"
          }
        },
        "7e023cc928614ab38bf6b39d42c4b601": {
          "model_module": "@jupyter-widgets/base",
          "model_name": "LayoutModel",
          "state": {
            "_view_name": "LayoutView",
            "grid_template_rows": null,
            "right": null,
            "justify_content": null,
            "_view_module": "@jupyter-widgets/base",
            "overflow": null,
            "_model_module_version": "1.2.0",
            "_view_count": null,
            "flex_flow": null,
            "width": null,
            "min_width": null,
            "border": null,
            "align_items": null,
            "bottom": null,
            "_model_module": "@jupyter-widgets/base",
            "top": null,
            "grid_column": null,
            "overflow_y": null,
            "overflow_x": null,
            "grid_auto_flow": null,
            "grid_area": null,
            "grid_template_columns": null,
            "flex": null,
            "_model_name": "LayoutModel",
            "justify_items": null,
            "grid_row": null,
            "max_height": null,
            "align_content": null,
            "visibility": null,
            "align_self": null,
            "height": null,
            "min_height": null,
            "padding": null,
            "grid_auto_rows": null,
            "grid_gap": null,
            "max_width": null,
            "order": null,
            "_view_module_version": "1.2.0",
            "grid_template_areas": null,
            "object_position": null,
            "object_fit": null,
            "grid_auto_columns": null,
            "margin": null,
            "display": null,
            "left": null
          }
        },
        "d59c58786ca8408fb8c2a737ff09a72d": {
          "model_module": "@jupyter-widgets/controls",
          "model_name": "DescriptionStyleModel",
          "state": {
            "_view_name": "StyleView",
            "_model_name": "DescriptionStyleModel",
            "description_width": "",
            "_view_module": "@jupyter-widgets/base",
            "_model_module_version": "1.5.0",
            "_view_count": null,
            "_view_module_version": "1.2.0",
            "_model_module": "@jupyter-widgets/controls"
          }
        },
        "f825cea54f2d410d9bfb69664ed2db54": {
          "model_module": "@jupyter-widgets/base",
          "model_name": "LayoutModel",
          "state": {
            "_view_name": "LayoutView",
            "grid_template_rows": null,
            "right": null,
            "justify_content": null,
            "_view_module": "@jupyter-widgets/base",
            "overflow": null,
            "_model_module_version": "1.2.0",
            "_view_count": null,
            "flex_flow": null,
            "width": null,
            "min_width": null,
            "border": null,
            "align_items": null,
            "bottom": null,
            "_model_module": "@jupyter-widgets/base",
            "top": null,
            "grid_column": null,
            "overflow_y": null,
            "overflow_x": null,
            "grid_auto_flow": null,
            "grid_area": null,
            "grid_template_columns": null,
            "flex": null,
            "_model_name": "LayoutModel",
            "justify_items": null,
            "grid_row": null,
            "max_height": null,
            "align_content": null,
            "visibility": null,
            "align_self": null,
            "height": null,
            "min_height": null,
            "padding": null,
            "grid_auto_rows": null,
            "grid_gap": null,
            "max_width": null,
            "order": null,
            "_view_module_version": "1.2.0",
            "grid_template_areas": null,
            "object_position": null,
            "object_fit": null,
            "grid_auto_columns": null,
            "margin": null,
            "display": null,
            "left": null
          }
        },
        "64526fa83eba45978c8d9cfe680194e6": {
          "model_module": "@jupyter-widgets/controls",
          "model_name": "HBoxModel",
          "state": {
            "_view_name": "HBoxView",
            "_dom_classes": [],
            "_model_name": "HBoxModel",
            "_view_module": "@jupyter-widgets/controls",
            "_model_module_version": "1.5.0",
            "_view_count": null,
            "_view_module_version": "1.5.0",
            "box_style": "",
            "layout": "IPY_MODEL_c107211d5b7440bc89f38f5d710aa410",
            "_model_module": "@jupyter-widgets/controls",
            "children": [
              "IPY_MODEL_aba45d2d5ea84cba9b2ab650557e5540",
              "IPY_MODEL_b7d8835f096e41af83b8349757decbf3"
            ]
          }
        },
        "c107211d5b7440bc89f38f5d710aa410": {
          "model_module": "@jupyter-widgets/base",
          "model_name": "LayoutModel",
          "state": {
            "_view_name": "LayoutView",
            "grid_template_rows": null,
            "right": null,
            "justify_content": null,
            "_view_module": "@jupyter-widgets/base",
            "overflow": null,
            "_model_module_version": "1.2.0",
            "_view_count": null,
            "flex_flow": null,
            "width": null,
            "min_width": null,
            "border": null,
            "align_items": null,
            "bottom": null,
            "_model_module": "@jupyter-widgets/base",
            "top": null,
            "grid_column": null,
            "overflow_y": null,
            "overflow_x": null,
            "grid_auto_flow": null,
            "grid_area": null,
            "grid_template_columns": null,
            "flex": null,
            "_model_name": "LayoutModel",
            "justify_items": null,
            "grid_row": null,
            "max_height": null,
            "align_content": null,
            "visibility": null,
            "align_self": null,
            "height": null,
            "min_height": null,
            "padding": null,
            "grid_auto_rows": null,
            "grid_gap": null,
            "max_width": null,
            "order": null,
            "_view_module_version": "1.2.0",
            "grid_template_areas": null,
            "object_position": null,
            "object_fit": null,
            "grid_auto_columns": null,
            "margin": null,
            "display": null,
            "left": null
          }
        },
        "aba45d2d5ea84cba9b2ab650557e5540": {
          "model_module": "@jupyter-widgets/controls",
          "model_name": "FloatProgressModel",
          "state": {
            "_view_name": "ProgressView",
            "style": "IPY_MODEL_35945886ca2e43a4b7672584a0de994b",
            "_dom_classes": [],
            "description": "100%",
            "_model_name": "FloatProgressModel",
            "bar_style": "success",
            "max": 1,
            "_view_module": "@jupyter-widgets/controls",
            "_model_module_version": "1.5.0",
            "value": 1,
            "_view_count": null,
            "_view_module_version": "1.5.0",
            "orientation": "horizontal",
            "min": 0,
            "description_tooltip": null,
            "_model_module": "@jupyter-widgets/controls",
            "layout": "IPY_MODEL_80c66a3ac7bb482f8530d41f20afe752"
          }
        },
        "b7d8835f096e41af83b8349757decbf3": {
          "model_module": "@jupyter-widgets/controls",
          "model_name": "HTMLModel",
          "state": {
            "_view_name": "HTMLView",
            "style": "IPY_MODEL_0a08de6281e945abbe944ede48881e59",
            "_dom_classes": [],
            "description": "",
            "_model_name": "HTMLModel",
            "placeholder": "​",
            "_view_module": "@jupyter-widgets/controls",
            "_model_module_version": "1.5.0",
            "value": " 1/1 [00:05&lt;00:00,  5.80s/ba]",
            "_view_count": null,
            "_view_module_version": "1.5.0",
            "description_tooltip": null,
            "_model_module": "@jupyter-widgets/controls",
            "layout": "IPY_MODEL_dbcd68700cad4978a91a8e9f5398fab4"
          }
        },
        "35945886ca2e43a4b7672584a0de994b": {
          "model_module": "@jupyter-widgets/controls",
          "model_name": "ProgressStyleModel",
          "state": {
            "_view_name": "StyleView",
            "_model_name": "ProgressStyleModel",
            "description_width": "initial",
            "_view_module": "@jupyter-widgets/base",
            "_model_module_version": "1.5.0",
            "_view_count": null,
            "_view_module_version": "1.2.0",
            "bar_color": null,
            "_model_module": "@jupyter-widgets/controls"
          }
        },
        "80c66a3ac7bb482f8530d41f20afe752": {
          "model_module": "@jupyter-widgets/base",
          "model_name": "LayoutModel",
          "state": {
            "_view_name": "LayoutView",
            "grid_template_rows": null,
            "right": null,
            "justify_content": null,
            "_view_module": "@jupyter-widgets/base",
            "overflow": null,
            "_model_module_version": "1.2.0",
            "_view_count": null,
            "flex_flow": null,
            "width": null,
            "min_width": null,
            "border": null,
            "align_items": null,
            "bottom": null,
            "_model_module": "@jupyter-widgets/base",
            "top": null,
            "grid_column": null,
            "overflow_y": null,
            "overflow_x": null,
            "grid_auto_flow": null,
            "grid_area": null,
            "grid_template_columns": null,
            "flex": null,
            "_model_name": "LayoutModel",
            "justify_items": null,
            "grid_row": null,
            "max_height": null,
            "align_content": null,
            "visibility": null,
            "align_self": null,
            "height": null,
            "min_height": null,
            "padding": null,
            "grid_auto_rows": null,
            "grid_gap": null,
            "max_width": null,
            "order": null,
            "_view_module_version": "1.2.0",
            "grid_template_areas": null,
            "object_position": null,
            "object_fit": null,
            "grid_auto_columns": null,
            "margin": null,
            "display": null,
            "left": null
          }
        },
        "0a08de6281e945abbe944ede48881e59": {
          "model_module": "@jupyter-widgets/controls",
          "model_name": "DescriptionStyleModel",
          "state": {
            "_view_name": "StyleView",
            "_model_name": "DescriptionStyleModel",
            "description_width": "",
            "_view_module": "@jupyter-widgets/base",
            "_model_module_version": "1.5.0",
            "_view_count": null,
            "_view_module_version": "1.2.0",
            "_model_module": "@jupyter-widgets/controls"
          }
        },
        "dbcd68700cad4978a91a8e9f5398fab4": {
          "model_module": "@jupyter-widgets/base",
          "model_name": "LayoutModel",
          "state": {
            "_view_name": "LayoutView",
            "grid_template_rows": null,
            "right": null,
            "justify_content": null,
            "_view_module": "@jupyter-widgets/base",
            "overflow": null,
            "_model_module_version": "1.2.0",
            "_view_count": null,
            "flex_flow": null,
            "width": null,
            "min_width": null,
            "border": null,
            "align_items": null,
            "bottom": null,
            "_model_module": "@jupyter-widgets/base",
            "top": null,
            "grid_column": null,
            "overflow_y": null,
            "overflow_x": null,
            "grid_auto_flow": null,
            "grid_area": null,
            "grid_template_columns": null,
            "flex": null,
            "_model_name": "LayoutModel",
            "justify_items": null,
            "grid_row": null,
            "max_height": null,
            "align_content": null,
            "visibility": null,
            "align_self": null,
            "height": null,
            "min_height": null,
            "padding": null,
            "grid_auto_rows": null,
            "grid_gap": null,
            "max_width": null,
            "order": null,
            "_view_module_version": "1.2.0",
            "grid_template_areas": null,
            "object_position": null,
            "object_fit": null,
            "grid_auto_columns": null,
            "margin": null,
            "display": null,
            "left": null
          }
        },
        "847f96d8fc5d4e38aac385086ed9012d": {
          "model_module": "@jupyter-widgets/controls",
          "model_name": "HBoxModel",
          "state": {
            "_view_name": "HBoxView",
            "_dom_classes": [],
            "_model_name": "HBoxModel",
            "_view_module": "@jupyter-widgets/controls",
            "_model_module_version": "1.5.0",
            "_view_count": null,
            "_view_module_version": "1.5.0",
            "box_style": "",
            "layout": "IPY_MODEL_dc917295598a4b69bcc842a1394638e0",
            "_model_module": "@jupyter-widgets/controls",
            "children": [
              "IPY_MODEL_38b4e22955d04f6abd2795b8ca731868",
              "IPY_MODEL_1775174104d24b66bed6ae252fd6bb26"
            ]
          }
        },
        "dc917295598a4b69bcc842a1394638e0": {
          "model_module": "@jupyter-widgets/base",
          "model_name": "LayoutModel",
          "state": {
            "_view_name": "LayoutView",
            "grid_template_rows": null,
            "right": null,
            "justify_content": null,
            "_view_module": "@jupyter-widgets/base",
            "overflow": null,
            "_model_module_version": "1.2.0",
            "_view_count": null,
            "flex_flow": null,
            "width": null,
            "min_width": null,
            "border": null,
            "align_items": null,
            "bottom": null,
            "_model_module": "@jupyter-widgets/base",
            "top": null,
            "grid_column": null,
            "overflow_y": null,
            "overflow_x": null,
            "grid_auto_flow": null,
            "grid_area": null,
            "grid_template_columns": null,
            "flex": null,
            "_model_name": "LayoutModel",
            "justify_items": null,
            "grid_row": null,
            "max_height": null,
            "align_content": null,
            "visibility": null,
            "align_self": null,
            "height": null,
            "min_height": null,
            "padding": null,
            "grid_auto_rows": null,
            "grid_gap": null,
            "max_width": null,
            "order": null,
            "_view_module_version": "1.2.0",
            "grid_template_areas": null,
            "object_position": null,
            "object_fit": null,
            "grid_auto_columns": null,
            "margin": null,
            "display": null,
            "left": null
          }
        },
        "38b4e22955d04f6abd2795b8ca731868": {
          "model_module": "@jupyter-widgets/controls",
          "model_name": "FloatProgressModel",
          "state": {
            "_view_name": "ProgressView",
            "style": "IPY_MODEL_043c469a5bf642629342addfda7a73c3",
            "_dom_classes": [],
            "description": "100%",
            "_model_name": "FloatProgressModel",
            "bar_style": "success",
            "max": 400,
            "_view_module": "@jupyter-widgets/controls",
            "_model_module_version": "1.5.0",
            "value": 400,
            "_view_count": null,
            "_view_module_version": "1.5.0",
            "orientation": "horizontal",
            "min": 0,
            "description_tooltip": null,
            "_model_module": "@jupyter-widgets/controls",
            "layout": "IPY_MODEL_a8502217b437491b8db9cd320a2518b8"
          }
        },
        "1775174104d24b66bed6ae252fd6bb26": {
          "model_module": "@jupyter-widgets/controls",
          "model_name": "HTMLModel",
          "state": {
            "_view_name": "HTMLView",
            "style": "IPY_MODEL_7740bf24b322443e84d714abecc45242",
            "_dom_classes": [],
            "description": "",
            "_model_name": "HTMLModel",
            "placeholder": "​",
            "_view_module": "@jupyter-widgets/controls",
            "_model_module_version": "1.5.0",
            "value": " 400/400 [00:02&lt;00:00, 188.88it/s]",
            "_view_count": null,
            "_view_module_version": "1.5.0",
            "description_tooltip": null,
            "_model_module": "@jupyter-widgets/controls",
            "layout": "IPY_MODEL_a5ea900cdbfd494eace9d94aeacd16ea"
          }
        },
        "043c469a5bf642629342addfda7a73c3": {
          "model_module": "@jupyter-widgets/controls",
          "model_name": "ProgressStyleModel",
          "state": {
            "_view_name": "StyleView",
            "_model_name": "ProgressStyleModel",
            "description_width": "initial",
            "_view_module": "@jupyter-widgets/base",
            "_model_module_version": "1.5.0",
            "_view_count": null,
            "_view_module_version": "1.2.0",
            "bar_color": null,
            "_model_module": "@jupyter-widgets/controls"
          }
        },
        "a8502217b437491b8db9cd320a2518b8": {
          "model_module": "@jupyter-widgets/base",
          "model_name": "LayoutModel",
          "state": {
            "_view_name": "LayoutView",
            "grid_template_rows": null,
            "right": null,
            "justify_content": null,
            "_view_module": "@jupyter-widgets/base",
            "overflow": null,
            "_model_module_version": "1.2.0",
            "_view_count": null,
            "flex_flow": null,
            "width": null,
            "min_width": null,
            "border": null,
            "align_items": null,
            "bottom": null,
            "_model_module": "@jupyter-widgets/base",
            "top": null,
            "grid_column": null,
            "overflow_y": null,
            "overflow_x": null,
            "grid_auto_flow": null,
            "grid_area": null,
            "grid_template_columns": null,
            "flex": null,
            "_model_name": "LayoutModel",
            "justify_items": null,
            "grid_row": null,
            "max_height": null,
            "align_content": null,
            "visibility": null,
            "align_self": null,
            "height": null,
            "min_height": null,
            "padding": null,
            "grid_auto_rows": null,
            "grid_gap": null,
            "max_width": null,
            "order": null,
            "_view_module_version": "1.2.0",
            "grid_template_areas": null,
            "object_position": null,
            "object_fit": null,
            "grid_auto_columns": null,
            "margin": null,
            "display": null,
            "left": null
          }
        },
        "7740bf24b322443e84d714abecc45242": {
          "model_module": "@jupyter-widgets/controls",
          "model_name": "DescriptionStyleModel",
          "state": {
            "_view_name": "StyleView",
            "_model_name": "DescriptionStyleModel",
            "description_width": "",
            "_view_module": "@jupyter-widgets/base",
            "_model_module_version": "1.5.0",
            "_view_count": null,
            "_view_module_version": "1.2.0",
            "_model_module": "@jupyter-widgets/controls"
          }
        },
        "a5ea900cdbfd494eace9d94aeacd16ea": {
          "model_module": "@jupyter-widgets/base",
          "model_name": "LayoutModel",
          "state": {
            "_view_name": "LayoutView",
            "grid_template_rows": null,
            "right": null,
            "justify_content": null,
            "_view_module": "@jupyter-widgets/base",
            "overflow": null,
            "_model_module_version": "1.2.0",
            "_view_count": null,
            "flex_flow": null,
            "width": null,
            "min_width": null,
            "border": null,
            "align_items": null,
            "bottom": null,
            "_model_module": "@jupyter-widgets/base",
            "top": null,
            "grid_column": null,
            "overflow_y": null,
            "overflow_x": null,
            "grid_auto_flow": null,
            "grid_area": null,
            "grid_template_columns": null,
            "flex": null,
            "_model_name": "LayoutModel",
            "justify_items": null,
            "grid_row": null,
            "max_height": null,
            "align_content": null,
            "visibility": null,
            "align_self": null,
            "height": null,
            "min_height": null,
            "padding": null,
            "grid_auto_rows": null,
            "grid_gap": null,
            "max_width": null,
            "order": null,
            "_view_module_version": "1.2.0",
            "grid_template_areas": null,
            "object_position": null,
            "object_fit": null,
            "grid_auto_columns": null,
            "margin": null,
            "display": null,
            "left": null
          }
        },
        "b4397115e68f426da0301a68de62e802": {
          "model_module": "@jupyter-widgets/controls",
          "model_name": "HBoxModel",
          "state": {
            "_view_name": "HBoxView",
            "_dom_classes": [],
            "_model_name": "HBoxModel",
            "_view_module": "@jupyter-widgets/controls",
            "_model_module_version": "1.5.0",
            "_view_count": null,
            "_view_module_version": "1.5.0",
            "box_style": "",
            "layout": "IPY_MODEL_5efedc6686274ac5bbe8ff5b4a5ab0c9",
            "_model_module": "@jupyter-widgets/controls",
            "children": [
              "IPY_MODEL_bcfedc0ec2d74f078c77b7ff4d980501",
              "IPY_MODEL_d9000ba7b9554aadad0b71f5edc2c546"
            ]
          }
        },
        "5efedc6686274ac5bbe8ff5b4a5ab0c9": {
          "model_module": "@jupyter-widgets/base",
          "model_name": "LayoutModel",
          "state": {
            "_view_name": "LayoutView",
            "grid_template_rows": null,
            "right": null,
            "justify_content": null,
            "_view_module": "@jupyter-widgets/base",
            "overflow": null,
            "_model_module_version": "1.2.0",
            "_view_count": null,
            "flex_flow": null,
            "width": null,
            "min_width": null,
            "border": null,
            "align_items": null,
            "bottom": null,
            "_model_module": "@jupyter-widgets/base",
            "top": null,
            "grid_column": null,
            "overflow_y": null,
            "overflow_x": null,
            "grid_auto_flow": null,
            "grid_area": null,
            "grid_template_columns": null,
            "flex": null,
            "_model_name": "LayoutModel",
            "justify_items": null,
            "grid_row": null,
            "max_height": null,
            "align_content": null,
            "visibility": null,
            "align_self": null,
            "height": null,
            "min_height": null,
            "padding": null,
            "grid_auto_rows": null,
            "grid_gap": null,
            "max_width": null,
            "order": null,
            "_view_module_version": "1.2.0",
            "grid_template_areas": null,
            "object_position": null,
            "object_fit": null,
            "grid_auto_columns": null,
            "margin": null,
            "display": null,
            "left": null
          }
        },
        "bcfedc0ec2d74f078c77b7ff4d980501": {
          "model_module": "@jupyter-widgets/controls",
          "model_name": "FloatProgressModel",
          "state": {
            "_view_name": "ProgressView",
            "style": "IPY_MODEL_bf8680113c244e968cb6d0b3092539c2",
            "_dom_classes": [],
            "description": "100%",
            "_model_name": "FloatProgressModel",
            "bar_style": "success",
            "max": 100,
            "_view_module": "@jupyter-widgets/controls",
            "_model_module_version": "1.5.0",
            "value": 100,
            "_view_count": null,
            "_view_module_version": "1.5.0",
            "orientation": "horizontal",
            "min": 0,
            "description_tooltip": null,
            "_model_module": "@jupyter-widgets/controls",
            "layout": "IPY_MODEL_6c21e88d1eea44b493f206b4bd0c29c6"
          }
        },
        "d9000ba7b9554aadad0b71f5edc2c546": {
          "model_module": "@jupyter-widgets/controls",
          "model_name": "HTMLModel",
          "state": {
            "_view_name": "HTMLView",
            "style": "IPY_MODEL_7f3f0a478aff494c87aca7bc47b5de61",
            "_dom_classes": [],
            "description": "",
            "_model_name": "HTMLModel",
            "placeholder": "​",
            "_view_module": "@jupyter-widgets/controls",
            "_model_module_version": "1.5.0",
            "value": " 100/100 [02:37&lt;00:00,  1.58s/it]",
            "_view_count": null,
            "_view_module_version": "1.5.0",
            "description_tooltip": null,
            "_model_module": "@jupyter-widgets/controls",
            "layout": "IPY_MODEL_2eb77ac25d2a46aa851c482836d83f2a"
          }
        },
        "bf8680113c244e968cb6d0b3092539c2": {
          "model_module": "@jupyter-widgets/controls",
          "model_name": "ProgressStyleModel",
          "state": {
            "_view_name": "StyleView",
            "_model_name": "ProgressStyleModel",
            "description_width": "initial",
            "_view_module": "@jupyter-widgets/base",
            "_model_module_version": "1.5.0",
            "_view_count": null,
            "_view_module_version": "1.2.0",
            "bar_color": null,
            "_model_module": "@jupyter-widgets/controls"
          }
        },
        "6c21e88d1eea44b493f206b4bd0c29c6": {
          "model_module": "@jupyter-widgets/base",
          "model_name": "LayoutModel",
          "state": {
            "_view_name": "LayoutView",
            "grid_template_rows": null,
            "right": null,
            "justify_content": null,
            "_view_module": "@jupyter-widgets/base",
            "overflow": null,
            "_model_module_version": "1.2.0",
            "_view_count": null,
            "flex_flow": null,
            "width": null,
            "min_width": null,
            "border": null,
            "align_items": null,
            "bottom": null,
            "_model_module": "@jupyter-widgets/base",
            "top": null,
            "grid_column": null,
            "overflow_y": null,
            "overflow_x": null,
            "grid_auto_flow": null,
            "grid_area": null,
            "grid_template_columns": null,
            "flex": null,
            "_model_name": "LayoutModel",
            "justify_items": null,
            "grid_row": null,
            "max_height": null,
            "align_content": null,
            "visibility": null,
            "align_self": null,
            "height": null,
            "min_height": null,
            "padding": null,
            "grid_auto_rows": null,
            "grid_gap": null,
            "max_width": null,
            "order": null,
            "_view_module_version": "1.2.0",
            "grid_template_areas": null,
            "object_position": null,
            "object_fit": null,
            "grid_auto_columns": null,
            "margin": null,
            "display": null,
            "left": null
          }
        },
        "7f3f0a478aff494c87aca7bc47b5de61": {
          "model_module": "@jupyter-widgets/controls",
          "model_name": "DescriptionStyleModel",
          "state": {
            "_view_name": "StyleView",
            "_model_name": "DescriptionStyleModel",
            "description_width": "",
            "_view_module": "@jupyter-widgets/base",
            "_model_module_version": "1.5.0",
            "_view_count": null,
            "_view_module_version": "1.2.0",
            "_model_module": "@jupyter-widgets/controls"
          }
        },
        "2eb77ac25d2a46aa851c482836d83f2a": {
          "model_module": "@jupyter-widgets/base",
          "model_name": "LayoutModel",
          "state": {
            "_view_name": "LayoutView",
            "grid_template_rows": null,
            "right": null,
            "justify_content": null,
            "_view_module": "@jupyter-widgets/base",
            "overflow": null,
            "_model_module_version": "1.2.0",
            "_view_count": null,
            "flex_flow": null,
            "width": null,
            "min_width": null,
            "border": null,
            "align_items": null,
            "bottom": null,
            "_model_module": "@jupyter-widgets/base",
            "top": null,
            "grid_column": null,
            "overflow_y": null,
            "overflow_x": null,
            "grid_auto_flow": null,
            "grid_area": null,
            "grid_template_columns": null,
            "flex": null,
            "_model_name": "LayoutModel",
            "justify_items": null,
            "grid_row": null,
            "max_height": null,
            "align_content": null,
            "visibility": null,
            "align_self": null,
            "height": null,
            "min_height": null,
            "padding": null,
            "grid_auto_rows": null,
            "grid_gap": null,
            "max_width": null,
            "order": null,
            "_view_module_version": "1.2.0",
            "grid_template_areas": null,
            "object_position": null,
            "object_fit": null,
            "grid_auto_columns": null,
            "margin": null,
            "display": null,
            "left": null
          }
        }
      }
    },
    "accelerator": "GPU"
  },
  "cells": [
    {
      "cell_type": "code",
      "metadata": {
        "colab": {
          "base_uri": "https://localhost:8080/"
        },
        "id": "QBy8duiBbqRD",
        "outputId": "1c61cfda-3ea6-4fbd-b607-f9691ada861c"
      },
      "source": [
        "!pip install transformers"
      ],
      "execution_count": 1,
      "outputs": [
        {
          "output_type": "stream",
          "text": [
            "Collecting transformers\n",
            "\u001b[?25l  Downloading https://files.pythonhosted.org/packages/ed/db/98c3ea1a78190dac41c0127a063abf92bd01b4b0b6970a6db1c2f5b66fa0/transformers-4.0.1-py3-none-any.whl (1.4MB)\n",
            "\r\u001b[K     |▎                               | 10kB 23.3MB/s eta 0:00:01\r\u001b[K     |▌                               | 20kB 16.4MB/s eta 0:00:01\r\u001b[K     |▊                               | 30kB 15.0MB/s eta 0:00:01\r\u001b[K     |█                               | 40kB 15.0MB/s eta 0:00:01\r\u001b[K     |█▏                              | 51kB 12.3MB/s eta 0:00:01\r\u001b[K     |█▌                              | 61kB 12.1MB/s eta 0:00:01\r\u001b[K     |█▊                              | 71kB 13.6MB/s eta 0:00:01\r\u001b[K     |██                              | 81kB 13.6MB/s eta 0:00:01\r\u001b[K     |██▏                             | 92kB 13.2MB/s eta 0:00:01\r\u001b[K     |██▍                             | 102kB 13.1MB/s eta 0:00:01\r\u001b[K     |██▋                             | 112kB 13.1MB/s eta 0:00:01\r\u001b[K     |███                             | 122kB 13.1MB/s eta 0:00:01\r\u001b[K     |███▏                            | 133kB 13.1MB/s eta 0:00:01\r\u001b[K     |███▍                            | 143kB 13.1MB/s eta 0:00:01\r\u001b[K     |███▋                            | 153kB 13.1MB/s eta 0:00:01\r\u001b[K     |███▉                            | 163kB 13.1MB/s eta 0:00:01\r\u001b[K     |████▏                           | 174kB 13.1MB/s eta 0:00:01\r\u001b[K     |████▍                           | 184kB 13.1MB/s eta 0:00:01\r\u001b[K     |████▋                           | 194kB 13.1MB/s eta 0:00:01\r\u001b[K     |████▉                           | 204kB 13.1MB/s eta 0:00:01\r\u001b[K     |█████                           | 215kB 13.1MB/s eta 0:00:01\r\u001b[K     |█████▎                          | 225kB 13.1MB/s eta 0:00:01\r\u001b[K     |█████▋                          | 235kB 13.1MB/s eta 0:00:01\r\u001b[K     |█████▉                          | 245kB 13.1MB/s eta 0:00:01\r\u001b[K     |██████                          | 256kB 13.1MB/s eta 0:00:01\r\u001b[K     |██████▎                         | 266kB 13.1MB/s eta 0:00:01\r\u001b[K     |██████▌                         | 276kB 13.1MB/s eta 0:00:01\r\u001b[K     |██████▉                         | 286kB 13.1MB/s eta 0:00:01\r\u001b[K     |███████                         | 296kB 13.1MB/s eta 0:00:01\r\u001b[K     |███████▎                        | 307kB 13.1MB/s eta 0:00:01\r\u001b[K     |███████▌                        | 317kB 13.1MB/s eta 0:00:01\r\u001b[K     |███████▊                        | 327kB 13.1MB/s eta 0:00:01\r\u001b[K     |████████                        | 337kB 13.1MB/s eta 0:00:01\r\u001b[K     |████████▎                       | 348kB 13.1MB/s eta 0:00:01\r\u001b[K     |████████▌                       | 358kB 13.1MB/s eta 0:00:01\r\u001b[K     |████████▊                       | 368kB 13.1MB/s eta 0:00:01\r\u001b[K     |█████████                       | 378kB 13.1MB/s eta 0:00:01\r\u001b[K     |█████████▏                      | 389kB 13.1MB/s eta 0:00:01\r\u001b[K     |█████████▌                      | 399kB 13.1MB/s eta 0:00:01\r\u001b[K     |█████████▊                      | 409kB 13.1MB/s eta 0:00:01\r\u001b[K     |██████████                      | 419kB 13.1MB/s eta 0:00:01\r\u001b[K     |██████████▏                     | 430kB 13.1MB/s eta 0:00:01\r\u001b[K     |██████████▍                     | 440kB 13.1MB/s eta 0:00:01\r\u001b[K     |██████████▋                     | 450kB 13.1MB/s eta 0:00:01\r\u001b[K     |███████████                     | 460kB 13.1MB/s eta 0:00:01\r\u001b[K     |███████████▏                    | 471kB 13.1MB/s eta 0:00:01\r\u001b[K     |███████████▍                    | 481kB 13.1MB/s eta 0:00:01\r\u001b[K     |███████████▋                    | 491kB 13.1MB/s eta 0:00:01\r\u001b[K     |███████████▉                    | 501kB 13.1MB/s eta 0:00:01\r\u001b[K     |████████████▏                   | 512kB 13.1MB/s eta 0:00:01\r\u001b[K     |████████████▍                   | 522kB 13.1MB/s eta 0:00:01\r\u001b[K     |████████████▋                   | 532kB 13.1MB/s eta 0:00:01\r\u001b[K     |████████████▉                   | 542kB 13.1MB/s eta 0:00:01\r\u001b[K     |█████████████                   | 552kB 13.1MB/s eta 0:00:01\r\u001b[K     |█████████████▎                  | 563kB 13.1MB/s eta 0:00:01\r\u001b[K     |█████████████▋                  | 573kB 13.1MB/s eta 0:00:01\r\u001b[K     |█████████████▉                  | 583kB 13.1MB/s eta 0:00:01\r\u001b[K     |██████████████                  | 593kB 13.1MB/s eta 0:00:01\r\u001b[K     |██████████████▎                 | 604kB 13.1MB/s eta 0:00:01\r\u001b[K     |██████████████▌                 | 614kB 13.1MB/s eta 0:00:01\r\u001b[K     |██████████████▉                 | 624kB 13.1MB/s eta 0:00:01\r\u001b[K     |███████████████                 | 634kB 13.1MB/s eta 0:00:01\r\u001b[K     |███████████████▎                | 645kB 13.1MB/s eta 0:00:01\r\u001b[K     |███████████████▌                | 655kB 13.1MB/s eta 0:00:01\r\u001b[K     |███████████████▊                | 665kB 13.1MB/s eta 0:00:01\r\u001b[K     |████████████████                | 675kB 13.1MB/s eta 0:00:01\r\u001b[K     |████████████████▎               | 686kB 13.1MB/s eta 0:00:01\r\u001b[K     |████████████████▌               | 696kB 13.1MB/s eta 0:00:01\r\u001b[K     |████████████████▊               | 706kB 13.1MB/s eta 0:00:01\r\u001b[K     |█████████████████               | 716kB 13.1MB/s eta 0:00:01\r\u001b[K     |█████████████████▏              | 727kB 13.1MB/s eta 0:00:01\r\u001b[K     |█████████████████▌              | 737kB 13.1MB/s eta 0:00:01\r\u001b[K     |█████████████████▊              | 747kB 13.1MB/s eta 0:00:01\r\u001b[K     |██████████████████              | 757kB 13.1MB/s eta 0:00:01\r\u001b[K     |██████████████████▏             | 768kB 13.1MB/s eta 0:00:01\r\u001b[K     |██████████████████▍             | 778kB 13.1MB/s eta 0:00:01\r\u001b[K     |██████████████████▋             | 788kB 13.1MB/s eta 0:00:01\r\u001b[K     |███████████████████             | 798kB 13.1MB/s eta 0:00:01\r\u001b[K     |███████████████████▏            | 808kB 13.1MB/s eta 0:00:01\r\u001b[K     |███████████████████▍            | 819kB 13.1MB/s eta 0:00:01\r\u001b[K     |███████████████████▋            | 829kB 13.1MB/s eta 0:00:01\r\u001b[K     |███████████████████▉            | 839kB 13.1MB/s eta 0:00:01\r\u001b[K     |████████████████████▏           | 849kB 13.1MB/s eta 0:00:01\r\u001b[K     |████████████████████▍           | 860kB 13.1MB/s eta 0:00:01\r\u001b[K     |████████████████████▋           | 870kB 13.1MB/s eta 0:00:01\r\u001b[K     |████████████████████▉           | 880kB 13.1MB/s eta 0:00:01\r\u001b[K     |█████████████████████           | 890kB 13.1MB/s eta 0:00:01\r\u001b[K     |█████████████████████▎          | 901kB 13.1MB/s eta 0:00:01\r\u001b[K     |█████████████████████▋          | 911kB 13.1MB/s eta 0:00:01\r\u001b[K     |█████████████████████▉          | 921kB 13.1MB/s eta 0:00:01\r\u001b[K     |██████████████████████          | 931kB 13.1MB/s eta 0:00:01\r\u001b[K     |██████████████████████▎         | 942kB 13.1MB/s eta 0:00:01\r\u001b[K     |██████████████████████▌         | 952kB 13.1MB/s eta 0:00:01\r\u001b[K     |██████████████████████▊         | 962kB 13.1MB/s eta 0:00:01\r\u001b[K     |███████████████████████         | 972kB 13.1MB/s eta 0:00:01\r\u001b[K     |███████████████████████▎        | 983kB 13.1MB/s eta 0:00:01\r\u001b[K     |███████████████████████▌        | 993kB 13.1MB/s eta 0:00:01\r\u001b[K     |███████████████████████▊        | 1.0MB 13.1MB/s eta 0:00:01\r\u001b[K     |████████████████████████        | 1.0MB 13.1MB/s eta 0:00:01\r\u001b[K     |████████████████████████▎       | 1.0MB 13.1MB/s eta 0:00:01\r\u001b[K     |████████████████████████▌       | 1.0MB 13.1MB/s eta 0:00:01\r\u001b[K     |████████████████████████▊       | 1.0MB 13.1MB/s eta 0:00:01\r\u001b[K     |█████████████████████████       | 1.1MB 13.1MB/s eta 0:00:01\r\u001b[K     |█████████████████████████▏      | 1.1MB 13.1MB/s eta 0:00:01\r\u001b[K     |█████████████████████████▍      | 1.1MB 13.1MB/s eta 0:00:01\r\u001b[K     |█████████████████████████▊      | 1.1MB 13.1MB/s eta 0:00:01\r\u001b[K     |██████████████████████████      | 1.1MB 13.1MB/s eta 0:00:01\r\u001b[K     |██████████████████████████▏     | 1.1MB 13.1MB/s eta 0:00:01\r\u001b[K     |██████████████████████████▍     | 1.1MB 13.1MB/s eta 0:00:01\r\u001b[K     |██████████████████████████▋     | 1.1MB 13.1MB/s eta 0:00:01\r\u001b[K     |███████████████████████████     | 1.1MB 13.1MB/s eta 0:00:01\r\u001b[K     |███████████████████████████▏    | 1.1MB 13.1MB/s eta 0:00:01\r\u001b[K     |███████████████████████████▍    | 1.2MB 13.1MB/s eta 0:00:01\r\u001b[K     |███████████████████████████▋    | 1.2MB 13.1MB/s eta 0:00:01\r\u001b[K     |███████████████████████████▉    | 1.2MB 13.1MB/s eta 0:00:01\r\u001b[K     |████████████████████████████    | 1.2MB 13.1MB/s eta 0:00:01\r\u001b[K     |████████████████████████████▍   | 1.2MB 13.1MB/s eta 0:00:01\r\u001b[K     |████████████████████████████▋   | 1.2MB 13.1MB/s eta 0:00:01\r\u001b[K     |████████████████████████████▉   | 1.2MB 13.1MB/s eta 0:00:01\r\u001b[K     |█████████████████████████████   | 1.2MB 13.1MB/s eta 0:00:01\r\u001b[K     |█████████████████████████████▎  | 1.2MB 13.1MB/s eta 0:00:01\r\u001b[K     |█████████████████████████████▋  | 1.2MB 13.1MB/s eta 0:00:01\r\u001b[K     |█████████████████████████████▉  | 1.3MB 13.1MB/s eta 0:00:01\r\u001b[K     |██████████████████████████████  | 1.3MB 13.1MB/s eta 0:00:01\r\u001b[K     |██████████████████████████████▎ | 1.3MB 13.1MB/s eta 0:00:01\r\u001b[K     |██████████████████████████████▌ | 1.3MB 13.1MB/s eta 0:00:01\r\u001b[K     |██████████████████████████████▊ | 1.3MB 13.1MB/s eta 0:00:01\r\u001b[K     |███████████████████████████████ | 1.3MB 13.1MB/s eta 0:00:01\r\u001b[K     |███████████████████████████████▎| 1.3MB 13.1MB/s eta 0:00:01\r\u001b[K     |███████████████████████████████▌| 1.3MB 13.1MB/s eta 0:00:01\r\u001b[K     |███████████████████████████████▊| 1.3MB 13.1MB/s eta 0:00:01\r\u001b[K     |████████████████████████████████| 1.4MB 13.1MB/s eta 0:00:01\r\u001b[K     |████████████████████████████████| 1.4MB 13.1MB/s \n",
            "\u001b[?25hRequirement already satisfied: numpy in /usr/local/lib/python3.6/dist-packages (from transformers) (1.18.5)\n",
            "Requirement already satisfied: filelock in /usr/local/lib/python3.6/dist-packages (from transformers) (3.0.12)\n",
            "Collecting tokenizers==0.9.4\n",
            "\u001b[?25l  Downloading https://files.pythonhosted.org/packages/0f/1c/e789a8b12e28be5bc1ce2156cf87cb522b379be9cadc7ad8091a4cc107c4/tokenizers-0.9.4-cp36-cp36m-manylinux2010_x86_64.whl (2.9MB)\n",
            "\u001b[K     |████████████████████████████████| 2.9MB 23.5MB/s \n",
            "\u001b[?25hRequirement already satisfied: packaging in /usr/local/lib/python3.6/dist-packages (from transformers) (20.7)\n",
            "Requirement already satisfied: regex!=2019.12.17 in /usr/local/lib/python3.6/dist-packages (from transformers) (2019.12.20)\n",
            "Collecting sacremoses\n",
            "\u001b[?25l  Downloading https://files.pythonhosted.org/packages/7d/34/09d19aff26edcc8eb2a01bed8e98f13a1537005d31e95233fd48216eed10/sacremoses-0.0.43.tar.gz (883kB)\n",
            "\u001b[K     |████████████████████████████████| 890kB 53.8MB/s \n",
            "\u001b[?25hRequirement already satisfied: dataclasses; python_version < \"3.7\" in /usr/local/lib/python3.6/dist-packages (from transformers) (0.8)\n",
            "Requirement already satisfied: tqdm>=4.27 in /usr/local/lib/python3.6/dist-packages (from transformers) (4.41.1)\n",
            "Requirement already satisfied: requests in /usr/local/lib/python3.6/dist-packages (from transformers) (2.23.0)\n",
            "Requirement already satisfied: pyparsing>=2.0.2 in /usr/local/lib/python3.6/dist-packages (from packaging->transformers) (2.4.7)\n",
            "Requirement already satisfied: six in /usr/local/lib/python3.6/dist-packages (from sacremoses->transformers) (1.15.0)\n",
            "Requirement already satisfied: click in /usr/local/lib/python3.6/dist-packages (from sacremoses->transformers) (7.1.2)\n",
            "Requirement already satisfied: joblib in /usr/local/lib/python3.6/dist-packages (from sacremoses->transformers) (0.17.0)\n",
            "Requirement already satisfied: urllib3!=1.25.0,!=1.25.1,<1.26,>=1.21.1 in /usr/local/lib/python3.6/dist-packages (from requests->transformers) (1.24.3)\n",
            "Requirement already satisfied: chardet<4,>=3.0.2 in /usr/local/lib/python3.6/dist-packages (from requests->transformers) (3.0.4)\n",
            "Requirement already satisfied: idna<3,>=2.5 in /usr/local/lib/python3.6/dist-packages (from requests->transformers) (2.10)\n",
            "Requirement already satisfied: certifi>=2017.4.17 in /usr/local/lib/python3.6/dist-packages (from requests->transformers) (2020.12.5)\n",
            "Building wheels for collected packages: sacremoses\n",
            "  Building wheel for sacremoses (setup.py) ... \u001b[?25l\u001b[?25hdone\n",
            "  Created wheel for sacremoses: filename=sacremoses-0.0.43-cp36-none-any.whl size=893261 sha256=2271e499078d4b84631c0d6246dc3346e306b09123925b202d96ffb55d49df7f\n",
            "  Stored in directory: /root/.cache/pip/wheels/29/3c/fd/7ce5c3f0666dab31a50123635e6fb5e19ceb42ce38d4e58f45\n",
            "Successfully built sacremoses\n",
            "Installing collected packages: tokenizers, sacremoses, transformers\n",
            "Successfully installed sacremoses-0.0.43 tokenizers-0.9.4 transformers-4.0.1\n"
          ],
          "name": "stdout"
        }
      ]
    },
    {
      "cell_type": "code",
      "metadata": {
        "colab": {
          "base_uri": "https://localhost:8080/"
        },
        "id": "yrRNQDEobvQp",
        "outputId": "c7372fb9-d126-41c9-9f48-99b4b37bbd5d"
      },
      "source": [
        "!python -c \"from transformers import pipeline; print(pipeline('sentiment-analysis')('we love you'))\""
      ],
      "execution_count": 2,
      "outputs": [
        {
          "output_type": "stream",
          "text": [
            "2020-12-10 21:56:58.991641: I tensorflow/stream_executor/platform/default/dso_loader.cc:48] Successfully opened dynamic library libcudart.so.10.1\n",
            "Downloading: 100% 629/629 [00:00<00:00, 1.04MB/s]\n",
            "Downloading: 100% 268M/268M [00:03<00:00, 74.1MB/s]\n",
            "Downloading: 100% 232k/232k [00:00<00:00, 15.2MB/s]\n",
            "[{'label': 'POSITIVE', 'score': 0.9998704791069031}]\n"
          ],
          "name": "stdout"
        }
      ]
    },
    {
      "cell_type": "code",
      "metadata": {
        "colab": {
          "base_uri": "https://localhost:8080/",
          "height": 114,
          "referenced_widgets": [
            "d1bd555dd01d4eceb383ed063d653f54",
            "18c7ed2695234285bc952a65351e16f8",
            "96d67e28339143b8a5719d13908fa7e5",
            "63c47370ad4e41e7b6b5f9d28d8ff690",
            "7d9c3e8ac3d14cb8aee33cd22b94a83e",
            "b60711424ad94527bd29c56cc79a7886",
            "85abc23aa07b4bac9e94554635a837ad",
            "ded90678924144a581472555c853de2b",
            "9b76daa768414416b4a9405ee913baf6",
            "c9eafbbac8064242b2c996a6f74f3bcf",
            "53a79ddf45194f8d888a3c372b708792",
            "b65bd6b80453477f868e8974ec58c650",
            "6c7d797f37784fc780d227c0ed2c5e8a",
            "e7603c9927704c27b05dc4aa62f6ee7f",
            "14f7143a1e4f40f1aa0c8c87705f78f7",
            "d8e1622ebf9b4e948e3f12f768ac2f72"
          ]
        },
        "id": "Iopw7lv0byk2",
        "outputId": "b6711ea9-e937-4c71-a5c7-40916f32e30f"
      },
      "source": [
        "#  from transformers import BertForMaskedLM\r\n",
        "#  import torch\r\n",
        "#  model = BertForMaskedLM.from_pretrained(\"bert-base-uncased\")"
      ],
      "execution_count": null,
      "outputs": [
        {
          "output_type": "display_data",
          "data": {
            "application/vnd.jupyter.widget-view+json": {
              "model_id": "d1bd555dd01d4eceb383ed063d653f54",
              "version_minor": 0,
              "version_major": 2
            },
            "text/plain": [
              "HBox(children=(FloatProgress(value=0.0, description='Downloading', max=433.0, style=ProgressStyle(description_…"
            ]
          },
          "metadata": {
            "tags": []
          }
        },
        {
          "output_type": "stream",
          "text": [
            "\n"
          ],
          "name": "stdout"
        },
        {
          "output_type": "display_data",
          "data": {
            "application/vnd.jupyter.widget-view+json": {
              "model_id": "9b76daa768414416b4a9405ee913baf6",
              "version_minor": 0,
              "version_major": 2
            },
            "text/plain": [
              "HBox(children=(FloatProgress(value=0.0, description='Downloading', max=440473133.0, style=ProgressStyle(descri…"
            ]
          },
          "metadata": {
            "tags": []
          }
        },
        {
          "output_type": "stream",
          "text": [
            "\n"
          ],
          "name": "stdout"
        }
      ]
    },
    {
      "cell_type": "code",
      "metadata": {
        "id": "kbpLXh2xb5lh"
      },
      "source": [
        "from tqdm.notebook import tqdm\r\n",
        "import torch\r\n",
        "from torch.utils.data import DataLoader\r\n",
        "import torch.nn as nn"
      ],
      "execution_count": 65,
      "outputs": []
    },
    {
      "cell_type": "code",
      "metadata": {
        "colab": {
          "base_uri": "https://localhost:8080/"
        },
        "id": "vytrcjkyrFoY",
        "outputId": "380cd52c-eea1-4906-da37-a8f3d79735ee"
      },
      "source": [
        "!pip install jsonlines\r\n",
        "import jsonlines\r\n",
        "from sklearn.model_selection import train_test_split\r\n",
        "!pip install python-levenshtein\r\n",
        "import Levenshtein as Lev\r\n",
        "import torch\r\n",
        "from torch.utils.data import Dataset as TorchDataset\r\n"
      ],
      "execution_count": 20,
      "outputs": [
        {
          "output_type": "stream",
          "text": [
            "Collecting jsonlines\n",
            "  Downloading https://files.pythonhosted.org/packages/4f/9a/ab96291470e305504aa4b7a2e0ec132e930da89eb3ca7a82fbe03167c131/jsonlines-1.2.0-py2.py3-none-any.whl\n",
            "Requirement already satisfied: six in /usr/local/lib/python3.6/dist-packages (from jsonlines) (1.15.0)\n",
            "Installing collected packages: jsonlines\n",
            "Successfully installed jsonlines-1.2.0\n",
            "Collecting python-levenshtein\n",
            "\u001b[?25l  Downloading https://files.pythonhosted.org/packages/42/a9/d1785c85ebf9b7dfacd08938dd028209c34a0ea3b1bcdb895208bd40a67d/python-Levenshtein-0.12.0.tar.gz (48kB)\n",
            "\u001b[K     |████████████████████████████████| 51kB 8.5MB/s \n",
            "\u001b[?25hRequirement already satisfied: setuptools in /usr/local/lib/python3.6/dist-packages (from python-levenshtein) (50.3.2)\n",
            "Building wheels for collected packages: python-levenshtein\n",
            "  Building wheel for python-levenshtein (setup.py) ... \u001b[?25l\u001b[?25hdone\n",
            "  Created wheel for python-levenshtein: filename=python_Levenshtein-0.12.0-cp36-cp36m-linux_x86_64.whl size=144797 sha256=e3b604cf448ac88ac965a483c5eda7df6e8d7ef3e1417081342af03df427c2f6\n",
            "  Stored in directory: /root/.cache/pip/wheels/de/c2/93/660fd5f7559049268ad2dc6d81c4e39e9e36518766eaf7e342\n",
            "Successfully built python-levenshtein\n",
            "Installing collected packages: python-levenshtein\n",
            "Successfully installed python-levenshtein-0.12.0\n"
          ],
          "name": "stdout"
        }
      ]
    },
    {
      "cell_type": "code",
      "metadata": {
        "id": "TMkvxqAdrj45"
      },
      "source": [
        "from typing import Sequence, Dict, Any, List\r\n",
        "import json"
      ],
      "execution_count": 25,
      "outputs": []
    },
    {
      "cell_type": "code",
      "metadata": {
        "id": "LIDSfNJtcQtR"
      },
      "source": [
        "device = torch.device(\"cuda\" if torch.cuda.is_available() else \"cpu\")"
      ],
      "execution_count": 4,
      "outputs": []
    },
    {
      "cell_type": "code",
      "metadata": {
        "colab": {
          "base_uri": "https://localhost:8080/",
          "height": 733,
          "referenced_widgets": [
            "c9aa9d5e465445358cfd93a9ada71873",
            "08a0d6ad76c24e1c8e774d648b5983ad",
            "b815a4d8e1af420687817a0377494819",
            "34b60b500b93478297f1d632f55f2203",
            "aa25b4b3c01b410c91c8a85648793179",
            "363d39e2d5164534bde05870fa201195",
            "2858c0962d454b019b966dc11fbcfe89",
            "17ccccdc898245129276c7f72d9a0c81",
            "4bf400a1d6bc4606b796f0b493adeb81",
            "56348c7eeff84ba08f71c592e3bc5ec7",
            "175d7f9ab4ab4ada842df9c1f6c4ac41",
            "bd6d3b34de0a432ca1529b9885f043be",
            "2d369e1180f6474ab8a3d077efd35c5c",
            "40bca3e422ae4e9e9e644f00c02a8f90",
            "576717486506412aa08cbbde508957de",
            "144ffe74836c4cb58a96998b73b30f54",
            "a2101b5afa3747c1b40283c12bb914ee",
            "15b31a591aae423cb110670621487c9e",
            "3bb3a3cfb2e74d3d96b5529b7e3f8347",
            "a283fb987c764057a73bf7e566fe8ab9",
            "97f1bc71e70d41f3960afaf73b29b84f",
            "7da6b73e5c99417a9839fe3a92867927",
            "9181363e87a541f2bd8c1fd5cd47c3ef",
            "78bc3fe8d8f44b58ab8e27a7f41c2681",
            "bb415f8248cd495eadd2323f7b9533c8",
            "076479607f984ee38ef70acc43f3e69e",
            "d91001d324ae47cbb60ab37e1705328f",
            "ffea7879cffc49d389b5f52bf4a99333",
            "733e4898afe84148b85487d4065a4876",
            "3406e9e725354ec990ba40e78e542b14",
            "140b3069e6e443f68d4e0e3fe1eb0d0a",
            "a094bbb8e17c463d903997ebec7f1c4d",
            "bbfd563633364e82af33950e39dc699d",
            "5b60ee671c5c476ab2ca28ac6ad12c57",
            "6a34b6f0561e4ce3a7f4ad135dc839b3",
            "e84b628a7b444e3aacaaa607d92b5a03",
            "dc1ccf72e6d546e18bf4ad850b38a151",
            "16ab6465029c4cfdba9cfed842eea8be",
            "31d17fbb0a114b9c8400d078ff43b2fb",
            "ef21ef2a4cf144afa54139c943821e25",
            "778396aeafbe44118f7b23d622b13c09",
            "22987194eb6c467b84c74347a7571eac",
            "967082f79ba64fb888bca8c5c932543e",
            "b324c332008346feabfe23665786428d",
            "8d03338ec5de40eab6e82c15f7e2c23b",
            "1e411b6f399c4dfca166c68d95ab6fe0",
            "6dc5cf037ee9495c83fdcb405bedaf3c",
            "24e2a060d25945a287131a411d2b953e"
          ]
        },
        "id": "lo2SrllPt1Hg",
        "outputId": "49db5709-55e7-4361-ccb8-fd0b5c012b16"
      },
      "source": [
        "!pip install datasets\r\n",
        "from datasets import load_dataset\r\n",
        "dataset = load_dataset(\r\n",
        "   'trec')"
      ],
      "execution_count": 5,
      "outputs": [
        {
          "output_type": "stream",
          "text": [
            "Collecting datasets\n",
            "\u001b[?25l  Downloading https://files.pythonhosted.org/packages/1a/38/0c24dce24767386123d528d27109024220db0e7a04467b658d587695241a/datasets-1.1.3-py3-none-any.whl (153kB)\n",
            "\r\u001b[K     |██▏                             | 10kB 24.0MB/s eta 0:00:01\r\u001b[K     |████▎                           | 20kB 29.1MB/s eta 0:00:01\r\u001b[K     |██████▍                         | 30kB 22.0MB/s eta 0:00:01\r\u001b[K     |████████▌                       | 40kB 20.4MB/s eta 0:00:01\r\u001b[K     |██████████▋                     | 51kB 22.7MB/s eta 0:00:01\r\u001b[K     |████████████▉                   | 61kB 25.2MB/s eta 0:00:01\r\u001b[K     |███████████████                 | 71kB 26.9MB/s eta 0:00:01\r\u001b[K     |█████████████████               | 81kB 28.1MB/s eta 0:00:01\r\u001b[K     |███████████████████▏            | 92kB 24.7MB/s eta 0:00:01\r\u001b[K     |█████████████████████▎          | 102kB 21.9MB/s eta 0:00:01\r\u001b[K     |███████████████████████▌        | 112kB 21.9MB/s eta 0:00:01\r\u001b[K     |█████████████████████████▋      | 122kB 21.9MB/s eta 0:00:01\r\u001b[K     |███████████████████████████▊    | 133kB 21.9MB/s eta 0:00:01\r\u001b[K     |█████████████████████████████▉  | 143kB 21.9MB/s eta 0:00:01\r\u001b[K     |████████████████████████████████| 153kB 21.9MB/s eta 0:00:01\r\u001b[K     |████████████████████████████████| 163kB 21.9MB/s \n",
            "\u001b[?25hRequirement already satisfied: requests>=2.19.0 in /usr/local/lib/python3.6/dist-packages (from datasets) (2.23.0)\n",
            "Requirement already satisfied: numpy>=1.17 in /usr/local/lib/python3.6/dist-packages (from datasets) (1.18.5)\n",
            "Requirement already satisfied: pandas in /usr/local/lib/python3.6/dist-packages (from datasets) (1.1.5)\n",
            "Requirement already satisfied: tqdm<4.50.0,>=4.27 in /usr/local/lib/python3.6/dist-packages (from datasets) (4.41.1)\n",
            "Requirement already satisfied: multiprocess in /usr/local/lib/python3.6/dist-packages (from datasets) (0.70.11.1)\n",
            "Collecting xxhash\n",
            "\u001b[?25l  Downloading https://files.pythonhosted.org/packages/f7/73/826b19f3594756cb1c6c23d2fbd8ca6a77a9cd3b650c9dec5acc85004c38/xxhash-2.0.0-cp36-cp36m-manylinux2010_x86_64.whl (242kB)\n",
            "\u001b[K     |████████████████████████████████| 245kB 41.6MB/s \n",
            "\u001b[?25hCollecting pyarrow>=0.17.1\n",
            "\u001b[?25l  Downloading https://files.pythonhosted.org/packages/d7/e1/27958a70848f8f7089bff8d6ebe42519daf01f976d28b481e1bfd52c8097/pyarrow-2.0.0-cp36-cp36m-manylinux2014_x86_64.whl (17.7MB)\n",
            "\u001b[K     |████████████████████████████████| 17.7MB 218kB/s \n",
            "\u001b[?25hRequirement already satisfied: dill in /usr/local/lib/python3.6/dist-packages (from datasets) (0.3.3)\n",
            "Requirement already satisfied: dataclasses; python_version < \"3.7\" in /usr/local/lib/python3.6/dist-packages (from datasets) (0.8)\n",
            "Requirement already satisfied: certifi>=2017.4.17 in /usr/local/lib/python3.6/dist-packages (from requests>=2.19.0->datasets) (2020.12.5)\n",
            "Requirement already satisfied: chardet<4,>=3.0.2 in /usr/local/lib/python3.6/dist-packages (from requests>=2.19.0->datasets) (3.0.4)\n",
            "Requirement already satisfied: idna<3,>=2.5 in /usr/local/lib/python3.6/dist-packages (from requests>=2.19.0->datasets) (2.10)\n",
            "Requirement already satisfied: urllib3!=1.25.0,!=1.25.1,<1.26,>=1.21.1 in /usr/local/lib/python3.6/dist-packages (from requests>=2.19.0->datasets) (1.24.3)\n",
            "Requirement already satisfied: python-dateutil>=2.7.3 in /usr/local/lib/python3.6/dist-packages (from pandas->datasets) (2.8.1)\n",
            "Requirement already satisfied: pytz>=2017.2 in /usr/local/lib/python3.6/dist-packages (from pandas->datasets) (2018.9)\n",
            "Requirement already satisfied: six>=1.5 in /usr/local/lib/python3.6/dist-packages (from python-dateutil>=2.7.3->pandas->datasets) (1.15.0)\n",
            "Installing collected packages: xxhash, pyarrow, datasets\n",
            "  Found existing installation: pyarrow 0.14.1\n",
            "    Uninstalling pyarrow-0.14.1:\n",
            "      Successfully uninstalled pyarrow-0.14.1\n",
            "Successfully installed datasets-1.1.3 pyarrow-2.0.0 xxhash-2.0.0\n"
          ],
          "name": "stdout"
        },
        {
          "output_type": "display_data",
          "data": {
            "application/vnd.jupyter.widget-view+json": {
              "model_id": "c9aa9d5e465445358cfd93a9ada71873",
              "version_minor": 0,
              "version_major": 2
            },
            "text/plain": [
              "HBox(children=(FloatProgress(value=0.0, description='Downloading', max=2266.0, style=ProgressStyle(description…"
            ]
          },
          "metadata": {
            "tags": []
          }
        },
        {
          "output_type": "stream",
          "text": [
            "\n"
          ],
          "name": "stdout"
        },
        {
          "output_type": "display_data",
          "data": {
            "application/vnd.jupyter.widget-view+json": {
              "model_id": "4bf400a1d6bc4606b796f0b493adeb81",
              "version_minor": 0,
              "version_major": 2
            },
            "text/plain": [
              "HBox(children=(FloatProgress(value=0.0, description='Downloading', max=1416.0, style=ProgressStyle(description…"
            ]
          },
          "metadata": {
            "tags": []
          }
        },
        {
          "output_type": "stream",
          "text": [
            "Using custom data configuration default\n"
          ],
          "name": "stderr"
        },
        {
          "output_type": "stream",
          "text": [
            "\n",
            "Downloading and preparing dataset trec/default (download: 350.79 KiB, generated: 403.39 KiB, post-processed: Unknown size, total: 754.18 KiB) to /root/.cache/huggingface/datasets/trec/default/1.1.0/1902c380fe66cc215f989888b1b35e8da7e79a3a97520f00dce753fd1f8f5c48...\n"
          ],
          "name": "stdout"
        },
        {
          "output_type": "display_data",
          "data": {
            "application/vnd.jupyter.widget-view+json": {
              "model_id": "a2101b5afa3747c1b40283c12bb914ee",
              "version_minor": 0,
              "version_major": 2
            },
            "text/plain": [
              "HBox(children=(FloatProgress(value=0.0, description='Downloading', max=335858.0, style=ProgressStyle(descripti…"
            ]
          },
          "metadata": {
            "tags": []
          }
        },
        {
          "output_type": "stream",
          "text": [
            "\n"
          ],
          "name": "stdout"
        },
        {
          "output_type": "display_data",
          "data": {
            "application/vnd.jupyter.widget-view+json": {
              "model_id": "bb415f8248cd495eadd2323f7b9533c8",
              "version_minor": 0,
              "version_major": 2
            },
            "text/plain": [
              "HBox(children=(FloatProgress(value=0.0, description='Downloading', max=23354.0, style=ProgressStyle(descriptio…"
            ]
          },
          "metadata": {
            "tags": []
          }
        },
        {
          "output_type": "stream",
          "text": [
            "\n"
          ],
          "name": "stdout"
        },
        {
          "output_type": "display_data",
          "data": {
            "application/vnd.jupyter.widget-view+json": {
              "model_id": "bbfd563633364e82af33950e39dc699d",
              "version_minor": 0,
              "version_major": 2
            },
            "text/plain": [
              "HBox(children=(FloatProgress(value=1.0, bar_style='info', max=1.0), HTML(value='')))"
            ]
          },
          "metadata": {
            "tags": []
          }
        },
        {
          "output_type": "stream",
          "text": [
            "\r"
          ],
          "name": "stdout"
        },
        {
          "output_type": "display_data",
          "data": {
            "application/vnd.jupyter.widget-view+json": {
              "model_id": "778396aeafbe44118f7b23d622b13c09",
              "version_minor": 0,
              "version_major": 2
            },
            "text/plain": [
              "HBox(children=(FloatProgress(value=1.0, bar_style='info', max=1.0), HTML(value='')))"
            ]
          },
          "metadata": {
            "tags": []
          }
        },
        {
          "output_type": "stream",
          "text": [
            "\rDataset trec downloaded and prepared to /root/.cache/huggingface/datasets/trec/default/1.1.0/1902c380fe66cc215f989888b1b35e8da7e79a3a97520f00dce753fd1f8f5c48. Subsequent calls will reuse this data.\n"
          ],
          "name": "stdout"
        }
      ]
    },
    {
      "cell_type": "code",
      "metadata": {
        "id": "M6lE0q8dCjRx",
        "colab": {
          "base_uri": "https://localhost:8080/",
          "height": 114,
          "referenced_widgets": [
            "b78d01f6f6a342f38484c4f30d7c7e8c",
            "4b1f0dfa2cdc4c6caa80364fbb3f9f23",
            "9c1528ea7d4248f5bf3a4684f8107e69",
            "6b2f3c2cfd934c859d897eb78013f4b0",
            "b1cbc994a1d049ed83f0c5a75b6dc462",
            "176e31d4a1f64d50959082f6f8e259d8",
            "4268c17aefb94df0adccc5118806d13e",
            "8b628a14bdd94e5dae8f9e393e12639f",
            "f57dacbe14604700b245f9c6a2e7df2e",
            "8d64f32f03124ec0b2ecb24464501a19",
            "62fd9b4696514417a5b57b8626ff19af",
            "2a64623f32194d7b9e411546e49f22a0",
            "c567255b295646819f0129e620d7fdea",
            "e48d74601b064a76ad5b0c14892d39ef",
            "51989fa9cfbc464f81e8d4bdcb8d659f",
            "cad83e590e02450a9d79ba4c22e3476e"
          ]
        },
        "outputId": "1edb4c0e-0a54-43b8-b3e4-e884fb0f6fed"
      },
      "source": [
        "from transformers import BertTokenizerFast, BertForMaskedLM\r\n",
        "tokenizer = BertTokenizerFast.from_pretrained('bert-base-uncased')"
      ],
      "execution_count": 6,
      "outputs": [
        {
          "output_type": "display_data",
          "data": {
            "application/vnd.jupyter.widget-view+json": {
              "model_id": "b78d01f6f6a342f38484c4f30d7c7e8c",
              "version_minor": 0,
              "version_major": 2
            },
            "text/plain": [
              "HBox(children=(FloatProgress(value=0.0, description='Downloading', max=231508.0, style=ProgressStyle(descripti…"
            ]
          },
          "metadata": {
            "tags": []
          }
        },
        {
          "output_type": "stream",
          "text": [
            "\n"
          ],
          "name": "stdout"
        },
        {
          "output_type": "display_data",
          "data": {
            "application/vnd.jupyter.widget-view+json": {
              "model_id": "f57dacbe14604700b245f9c6a2e7df2e",
              "version_minor": 0,
              "version_major": 2
            },
            "text/plain": [
              "HBox(children=(FloatProgress(value=0.0, description='Downloading', max=466062.0, style=ProgressStyle(descripti…"
            ]
          },
          "metadata": {
            "tags": []
          }
        },
        {
          "output_type": "stream",
          "text": [
            "\n"
          ],
          "name": "stdout"
        }
      ]
    },
    {
      "cell_type": "code",
      "metadata": {
        "colab": {
          "base_uri": "https://localhost:8080/",
          "height": 147,
          "referenced_widgets": [
            "7c073a05c3e94e6b8e7ad6470771e1b4",
            "83c2c5c14afb431f82af852f12386092",
            "b06637e12720410d987ff2a4654335e5",
            "c1d45db8f1424f0185d4d9ad7c8e3568",
            "e0a119cda74440f2bb148fa674b3f6ee",
            "7e023cc928614ab38bf6b39d42c4b601",
            "d59c58786ca8408fb8c2a737ff09a72d",
            "f825cea54f2d410d9bfb69664ed2db54",
            "64526fa83eba45978c8d9cfe680194e6",
            "c107211d5b7440bc89f38f5d710aa410",
            "aba45d2d5ea84cba9b2ab650557e5540",
            "b7d8835f096e41af83b8349757decbf3",
            "35945886ca2e43a4b7672584a0de994b",
            "80c66a3ac7bb482f8530d41f20afe752",
            "0a08de6281e945abbe944ede48881e59",
            "dbcd68700cad4978a91a8e9f5398fab4"
          ]
        },
        "id": "8T0M892DD3Te",
        "outputId": "fd18ab7d-ffbe-4bca-8852-0b63ad7f6903"
      },
      "source": [
        "from transformers import AutoTokenizer\r\n",
        "dataset = load_dataset('trec', split='test')\r\n",
        "tokenizer = AutoTokenizer.from_pretrained('bert-base-uncased')\r\n",
        "dataset = dataset.map(lambda e: tokenizer(e['text'], truncation=True, padding='max_length'), batched=True)\r\n",
        "dataloader = torch.utils.data.DataLoader(dataset, batch_size=32)"
      ],
      "execution_count": 7,
      "outputs": [
        {
          "output_type": "stream",
          "text": [
            "Using custom data configuration default\n",
            "Reusing dataset trec (/root/.cache/huggingface/datasets/trec/default/1.1.0/1902c380fe66cc215f989888b1b35e8da7e79a3a97520f00dce753fd1f8f5c48)\n"
          ],
          "name": "stderr"
        },
        {
          "output_type": "display_data",
          "data": {
            "application/vnd.jupyter.widget-view+json": {
              "model_id": "7c073a05c3e94e6b8e7ad6470771e1b4",
              "version_minor": 0,
              "version_major": 2
            },
            "text/plain": [
              "HBox(children=(FloatProgress(value=0.0, description='Downloading', max=433.0, style=ProgressStyle(description_…"
            ]
          },
          "metadata": {
            "tags": []
          }
        },
        {
          "output_type": "stream",
          "text": [
            "\n"
          ],
          "name": "stdout"
        },
        {
          "output_type": "display_data",
          "data": {
            "application/vnd.jupyter.widget-view+json": {
              "model_id": "64526fa83eba45978c8d9cfe680194e6",
              "version_minor": 0,
              "version_major": 2
            },
            "text/plain": [
              "HBox(children=(FloatProgress(value=0.0, max=1.0), HTML(value='')))"
            ]
          },
          "metadata": {
            "tags": []
          }
        },
        {
          "output_type": "stream",
          "text": [
            "\n"
          ],
          "name": "stdout"
        }
      ]
    },
    {
      "cell_type": "code",
      "metadata": {
        "colab": {
          "base_uri": "https://localhost:8080/"
        },
        "id": "ngSYxCkDU2HF",
        "outputId": "cc4aec86-d28b-4352-eb73-e461dcadad32"
      },
      "source": [
        "dataset"
      ],
      "execution_count": 52,
      "outputs": [
        {
          "output_type": "execute_result",
          "data": {
            "text/plain": [
              "Dataset({\n",
              "    features: ['attention_mask', 'input_ids', 'label-coarse', 'label-fine', 'text', 'token_type_ids'],\n",
              "    num_rows: 500\n",
              "})"
            ]
          },
          "metadata": {
            "tags": []
          },
          "execution_count": 52
        }
      ]
    },
    {
      "cell_type": "code",
      "metadata": {
        "colab": {
          "base_uri": "https://localhost:8080/"
        },
        "id": "l1VlzFJUFMO2",
        "outputId": "505b82b9-0379-4569-e8a0-5f7a18ba3d25"
      },
      "source": [
        "dataset.column_names"
      ],
      "execution_count": 53,
      "outputs": [
        {
          "output_type": "execute_result",
          "data": {
            "text/plain": [
              "['attention_mask',\n",
              " 'input_ids',\n",
              " 'label-coarse',\n",
              " 'label-fine',\n",
              " 'text',\n",
              " 'token_type_ids']"
            ]
          },
          "metadata": {
            "tags": []
          },
          "execution_count": 53
        }
      ]
    },
    {
      "cell_type": "code",
      "metadata": {
        "id": "BZE4b9KwFRtM"
      },
      "source": [
        "dataset.set_format(type='torch', columns=['input_ids', 'token_type_ids', 'attention_mask', 'label-coarse'])\r\n",
        "# dataset.set_format(type='torch')"
      ],
      "execution_count": 54,
      "outputs": []
    },
    {
      "cell_type": "code",
      "metadata": {
        "colab": {
          "base_uri": "https://localhost:8080/"
        },
        "id": "zc7qepyYFjo1",
        "outputId": "b0ba0b12-3c0c-4b3e-aee4-0b5286f38866"
      },
      "source": [
        "dataloader = torch.utils.data.DataLoader(dataset, batch_size=32)\r\n",
        "next(iter(dataloader))"
      ],
      "execution_count": 55,
      "outputs": [
        {
          "output_type": "execute_result",
          "data": {
            "text/plain": [
              "{'attention_mask': tensor([[1, 1, 1,  ..., 0, 0, 0],\n",
              "         [1, 1, 1,  ..., 0, 0, 0],\n",
              "         [1, 1, 1,  ..., 0, 0, 0],\n",
              "         ...,\n",
              "         [1, 1, 1,  ..., 0, 0, 0],\n",
              "         [1, 1, 1,  ..., 0, 0, 0],\n",
              "         [1, 1, 1,  ..., 0, 0, 0]]),\n",
              " 'input_ids': tensor([[  101,  2129,  2521,  ...,     0,     0,     0],\n",
              "         [  101,  2054,  2221,  ...,     0,     0,     0],\n",
              "         [  101,  2040,  2001,  ...,     0,     0,     0],\n",
              "         ...,\n",
              "         [  101,  2054, 14130,  ...,     0,     0,     0],\n",
              "         [  101,  2054,  2003,  ...,     0,     0,     0],\n",
              "         [  101,  2073,  2024,  ...,     0,     0,     0]]),\n",
              " 'label-coarse': tensor([4, 5, 3, 0, 4, 4, 3, 1, 0, 0, 5, 3, 4, 3, 4, 4, 1, 3, 0, 4, 3, 0, 5, 0,\n",
              "         0, 3, 0, 5, 5, 5, 4, 5]),\n",
              " 'token_type_ids': tensor([[0, 0, 0,  ..., 0, 0, 0],\n",
              "         [0, 0, 0,  ..., 0, 0, 0],\n",
              "         [0, 0, 0,  ..., 0, 0, 0],\n",
              "         ...,\n",
              "         [0, 0, 0,  ..., 0, 0, 0],\n",
              "         [0, 0, 0,  ..., 0, 0, 0],\n",
              "         [0, 0, 0,  ..., 0, 0, 0]])}"
            ]
          },
          "metadata": {
            "tags": []
          },
          "execution_count": 55
        }
      ]
    },
    {
      "cell_type": "code",
      "metadata": {
        "colab": {
          "base_uri": "https://localhost:8080/"
        },
        "id": "l5mYYeIBGLxF",
        "outputId": "dee60bd9-600a-4659-f285-5c97ebae18e9"
      },
      "source": [
        "model = BertForMaskedLM.from_pretrained('bert-base-uncased')\r\n",
        "model.eval()"
      ],
      "execution_count": 56,
      "outputs": [
        {
          "output_type": "stream",
          "text": [
            "Some weights of the model checkpoint at bert-base-uncased were not used when initializing BertForMaskedLM: ['cls.seq_relationship.weight', 'cls.seq_relationship.bias']\n",
            "- This IS expected if you are initializing BertForMaskedLM from the checkpoint of a model trained on another task or with another architecture (e.g. initializing a BertForSequenceClassification model from a BertForPreTraining model).\n",
            "- This IS NOT expected if you are initializing BertForMaskedLM from the checkpoint of a model that you expect to be exactly identical (initializing a BertForSequenceClassification model from a BertForSequenceClassification model).\n"
          ],
          "name": "stderr"
        },
        {
          "output_type": "execute_result",
          "data": {
            "text/plain": [
              "BertForMaskedLM(\n",
              "  (bert): BertModel(\n",
              "    (embeddings): BertEmbeddings(\n",
              "      (word_embeddings): Embedding(30522, 768, padding_idx=0)\n",
              "      (position_embeddings): Embedding(512, 768)\n",
              "      (token_type_embeddings): Embedding(2, 768)\n",
              "      (LayerNorm): LayerNorm((768,), eps=1e-12, elementwise_affine=True)\n",
              "      (dropout): Dropout(p=0.1, inplace=False)\n",
              "    )\n",
              "    (encoder): BertEncoder(\n",
              "      (layer): ModuleList(\n",
              "        (0): BertLayer(\n",
              "          (attention): BertAttention(\n",
              "            (self): BertSelfAttention(\n",
              "              (query): Linear(in_features=768, out_features=768, bias=True)\n",
              "              (key): Linear(in_features=768, out_features=768, bias=True)\n",
              "              (value): Linear(in_features=768, out_features=768, bias=True)\n",
              "              (dropout): Dropout(p=0.1, inplace=False)\n",
              "            )\n",
              "            (output): BertSelfOutput(\n",
              "              (dense): Linear(in_features=768, out_features=768, bias=True)\n",
              "              (LayerNorm): LayerNorm((768,), eps=1e-12, elementwise_affine=True)\n",
              "              (dropout): Dropout(p=0.1, inplace=False)\n",
              "            )\n",
              "          )\n",
              "          (intermediate): BertIntermediate(\n",
              "            (dense): Linear(in_features=768, out_features=3072, bias=True)\n",
              "          )\n",
              "          (output): BertOutput(\n",
              "            (dense): Linear(in_features=3072, out_features=768, bias=True)\n",
              "            (LayerNorm): LayerNorm((768,), eps=1e-12, elementwise_affine=True)\n",
              "            (dropout): Dropout(p=0.1, inplace=False)\n",
              "          )\n",
              "        )\n",
              "        (1): BertLayer(\n",
              "          (attention): BertAttention(\n",
              "            (self): BertSelfAttention(\n",
              "              (query): Linear(in_features=768, out_features=768, bias=True)\n",
              "              (key): Linear(in_features=768, out_features=768, bias=True)\n",
              "              (value): Linear(in_features=768, out_features=768, bias=True)\n",
              "              (dropout): Dropout(p=0.1, inplace=False)\n",
              "            )\n",
              "            (output): BertSelfOutput(\n",
              "              (dense): Linear(in_features=768, out_features=768, bias=True)\n",
              "              (LayerNorm): LayerNorm((768,), eps=1e-12, elementwise_affine=True)\n",
              "              (dropout): Dropout(p=0.1, inplace=False)\n",
              "            )\n",
              "          )\n",
              "          (intermediate): BertIntermediate(\n",
              "            (dense): Linear(in_features=768, out_features=3072, bias=True)\n",
              "          )\n",
              "          (output): BertOutput(\n",
              "            (dense): Linear(in_features=3072, out_features=768, bias=True)\n",
              "            (LayerNorm): LayerNorm((768,), eps=1e-12, elementwise_affine=True)\n",
              "            (dropout): Dropout(p=0.1, inplace=False)\n",
              "          )\n",
              "        )\n",
              "        (2): BertLayer(\n",
              "          (attention): BertAttention(\n",
              "            (self): BertSelfAttention(\n",
              "              (query): Linear(in_features=768, out_features=768, bias=True)\n",
              "              (key): Linear(in_features=768, out_features=768, bias=True)\n",
              "              (value): Linear(in_features=768, out_features=768, bias=True)\n",
              "              (dropout): Dropout(p=0.1, inplace=False)\n",
              "            )\n",
              "            (output): BertSelfOutput(\n",
              "              (dense): Linear(in_features=768, out_features=768, bias=True)\n",
              "              (LayerNorm): LayerNorm((768,), eps=1e-12, elementwise_affine=True)\n",
              "              (dropout): Dropout(p=0.1, inplace=False)\n",
              "            )\n",
              "          )\n",
              "          (intermediate): BertIntermediate(\n",
              "            (dense): Linear(in_features=768, out_features=3072, bias=True)\n",
              "          )\n",
              "          (output): BertOutput(\n",
              "            (dense): Linear(in_features=3072, out_features=768, bias=True)\n",
              "            (LayerNorm): LayerNorm((768,), eps=1e-12, elementwise_affine=True)\n",
              "            (dropout): Dropout(p=0.1, inplace=False)\n",
              "          )\n",
              "        )\n",
              "        (3): BertLayer(\n",
              "          (attention): BertAttention(\n",
              "            (self): BertSelfAttention(\n",
              "              (query): Linear(in_features=768, out_features=768, bias=True)\n",
              "              (key): Linear(in_features=768, out_features=768, bias=True)\n",
              "              (value): Linear(in_features=768, out_features=768, bias=True)\n",
              "              (dropout): Dropout(p=0.1, inplace=False)\n",
              "            )\n",
              "            (output): BertSelfOutput(\n",
              "              (dense): Linear(in_features=768, out_features=768, bias=True)\n",
              "              (LayerNorm): LayerNorm((768,), eps=1e-12, elementwise_affine=True)\n",
              "              (dropout): Dropout(p=0.1, inplace=False)\n",
              "            )\n",
              "          )\n",
              "          (intermediate): BertIntermediate(\n",
              "            (dense): Linear(in_features=768, out_features=3072, bias=True)\n",
              "          )\n",
              "          (output): BertOutput(\n",
              "            (dense): Linear(in_features=3072, out_features=768, bias=True)\n",
              "            (LayerNorm): LayerNorm((768,), eps=1e-12, elementwise_affine=True)\n",
              "            (dropout): Dropout(p=0.1, inplace=False)\n",
              "          )\n",
              "        )\n",
              "        (4): BertLayer(\n",
              "          (attention): BertAttention(\n",
              "            (self): BertSelfAttention(\n",
              "              (query): Linear(in_features=768, out_features=768, bias=True)\n",
              "              (key): Linear(in_features=768, out_features=768, bias=True)\n",
              "              (value): Linear(in_features=768, out_features=768, bias=True)\n",
              "              (dropout): Dropout(p=0.1, inplace=False)\n",
              "            )\n",
              "            (output): BertSelfOutput(\n",
              "              (dense): Linear(in_features=768, out_features=768, bias=True)\n",
              "              (LayerNorm): LayerNorm((768,), eps=1e-12, elementwise_affine=True)\n",
              "              (dropout): Dropout(p=0.1, inplace=False)\n",
              "            )\n",
              "          )\n",
              "          (intermediate): BertIntermediate(\n",
              "            (dense): Linear(in_features=768, out_features=3072, bias=True)\n",
              "          )\n",
              "          (output): BertOutput(\n",
              "            (dense): Linear(in_features=3072, out_features=768, bias=True)\n",
              "            (LayerNorm): LayerNorm((768,), eps=1e-12, elementwise_affine=True)\n",
              "            (dropout): Dropout(p=0.1, inplace=False)\n",
              "          )\n",
              "        )\n",
              "        (5): BertLayer(\n",
              "          (attention): BertAttention(\n",
              "            (self): BertSelfAttention(\n",
              "              (query): Linear(in_features=768, out_features=768, bias=True)\n",
              "              (key): Linear(in_features=768, out_features=768, bias=True)\n",
              "              (value): Linear(in_features=768, out_features=768, bias=True)\n",
              "              (dropout): Dropout(p=0.1, inplace=False)\n",
              "            )\n",
              "            (output): BertSelfOutput(\n",
              "              (dense): Linear(in_features=768, out_features=768, bias=True)\n",
              "              (LayerNorm): LayerNorm((768,), eps=1e-12, elementwise_affine=True)\n",
              "              (dropout): Dropout(p=0.1, inplace=False)\n",
              "            )\n",
              "          )\n",
              "          (intermediate): BertIntermediate(\n",
              "            (dense): Linear(in_features=768, out_features=3072, bias=True)\n",
              "          )\n",
              "          (output): BertOutput(\n",
              "            (dense): Linear(in_features=3072, out_features=768, bias=True)\n",
              "            (LayerNorm): LayerNorm((768,), eps=1e-12, elementwise_affine=True)\n",
              "            (dropout): Dropout(p=0.1, inplace=False)\n",
              "          )\n",
              "        )\n",
              "        (6): BertLayer(\n",
              "          (attention): BertAttention(\n",
              "            (self): BertSelfAttention(\n",
              "              (query): Linear(in_features=768, out_features=768, bias=True)\n",
              "              (key): Linear(in_features=768, out_features=768, bias=True)\n",
              "              (value): Linear(in_features=768, out_features=768, bias=True)\n",
              "              (dropout): Dropout(p=0.1, inplace=False)\n",
              "            )\n",
              "            (output): BertSelfOutput(\n",
              "              (dense): Linear(in_features=768, out_features=768, bias=True)\n",
              "              (LayerNorm): LayerNorm((768,), eps=1e-12, elementwise_affine=True)\n",
              "              (dropout): Dropout(p=0.1, inplace=False)\n",
              "            )\n",
              "          )\n",
              "          (intermediate): BertIntermediate(\n",
              "            (dense): Linear(in_features=768, out_features=3072, bias=True)\n",
              "          )\n",
              "          (output): BertOutput(\n",
              "            (dense): Linear(in_features=3072, out_features=768, bias=True)\n",
              "            (LayerNorm): LayerNorm((768,), eps=1e-12, elementwise_affine=True)\n",
              "            (dropout): Dropout(p=0.1, inplace=False)\n",
              "          )\n",
              "        )\n",
              "        (7): BertLayer(\n",
              "          (attention): BertAttention(\n",
              "            (self): BertSelfAttention(\n",
              "              (query): Linear(in_features=768, out_features=768, bias=True)\n",
              "              (key): Linear(in_features=768, out_features=768, bias=True)\n",
              "              (value): Linear(in_features=768, out_features=768, bias=True)\n",
              "              (dropout): Dropout(p=0.1, inplace=False)\n",
              "            )\n",
              "            (output): BertSelfOutput(\n",
              "              (dense): Linear(in_features=768, out_features=768, bias=True)\n",
              "              (LayerNorm): LayerNorm((768,), eps=1e-12, elementwise_affine=True)\n",
              "              (dropout): Dropout(p=0.1, inplace=False)\n",
              "            )\n",
              "          )\n",
              "          (intermediate): BertIntermediate(\n",
              "            (dense): Linear(in_features=768, out_features=3072, bias=True)\n",
              "          )\n",
              "          (output): BertOutput(\n",
              "            (dense): Linear(in_features=3072, out_features=768, bias=True)\n",
              "            (LayerNorm): LayerNorm((768,), eps=1e-12, elementwise_affine=True)\n",
              "            (dropout): Dropout(p=0.1, inplace=False)\n",
              "          )\n",
              "        )\n",
              "        (8): BertLayer(\n",
              "          (attention): BertAttention(\n",
              "            (self): BertSelfAttention(\n",
              "              (query): Linear(in_features=768, out_features=768, bias=True)\n",
              "              (key): Linear(in_features=768, out_features=768, bias=True)\n",
              "              (value): Linear(in_features=768, out_features=768, bias=True)\n",
              "              (dropout): Dropout(p=0.1, inplace=False)\n",
              "            )\n",
              "            (output): BertSelfOutput(\n",
              "              (dense): Linear(in_features=768, out_features=768, bias=True)\n",
              "              (LayerNorm): LayerNorm((768,), eps=1e-12, elementwise_affine=True)\n",
              "              (dropout): Dropout(p=0.1, inplace=False)\n",
              "            )\n",
              "          )\n",
              "          (intermediate): BertIntermediate(\n",
              "            (dense): Linear(in_features=768, out_features=3072, bias=True)\n",
              "          )\n",
              "          (output): BertOutput(\n",
              "            (dense): Linear(in_features=3072, out_features=768, bias=True)\n",
              "            (LayerNorm): LayerNorm((768,), eps=1e-12, elementwise_affine=True)\n",
              "            (dropout): Dropout(p=0.1, inplace=False)\n",
              "          )\n",
              "        )\n",
              "        (9): BertLayer(\n",
              "          (attention): BertAttention(\n",
              "            (self): BertSelfAttention(\n",
              "              (query): Linear(in_features=768, out_features=768, bias=True)\n",
              "              (key): Linear(in_features=768, out_features=768, bias=True)\n",
              "              (value): Linear(in_features=768, out_features=768, bias=True)\n",
              "              (dropout): Dropout(p=0.1, inplace=False)\n",
              "            )\n",
              "            (output): BertSelfOutput(\n",
              "              (dense): Linear(in_features=768, out_features=768, bias=True)\n",
              "              (LayerNorm): LayerNorm((768,), eps=1e-12, elementwise_affine=True)\n",
              "              (dropout): Dropout(p=0.1, inplace=False)\n",
              "            )\n",
              "          )\n",
              "          (intermediate): BertIntermediate(\n",
              "            (dense): Linear(in_features=768, out_features=3072, bias=True)\n",
              "          )\n",
              "          (output): BertOutput(\n",
              "            (dense): Linear(in_features=3072, out_features=768, bias=True)\n",
              "            (LayerNorm): LayerNorm((768,), eps=1e-12, elementwise_affine=True)\n",
              "            (dropout): Dropout(p=0.1, inplace=False)\n",
              "          )\n",
              "        )\n",
              "        (10): BertLayer(\n",
              "          (attention): BertAttention(\n",
              "            (self): BertSelfAttention(\n",
              "              (query): Linear(in_features=768, out_features=768, bias=True)\n",
              "              (key): Linear(in_features=768, out_features=768, bias=True)\n",
              "              (value): Linear(in_features=768, out_features=768, bias=True)\n",
              "              (dropout): Dropout(p=0.1, inplace=False)\n",
              "            )\n",
              "            (output): BertSelfOutput(\n",
              "              (dense): Linear(in_features=768, out_features=768, bias=True)\n",
              "              (LayerNorm): LayerNorm((768,), eps=1e-12, elementwise_affine=True)\n",
              "              (dropout): Dropout(p=0.1, inplace=False)\n",
              "            )\n",
              "          )\n",
              "          (intermediate): BertIntermediate(\n",
              "            (dense): Linear(in_features=768, out_features=3072, bias=True)\n",
              "          )\n",
              "          (output): BertOutput(\n",
              "            (dense): Linear(in_features=3072, out_features=768, bias=True)\n",
              "            (LayerNorm): LayerNorm((768,), eps=1e-12, elementwise_affine=True)\n",
              "            (dropout): Dropout(p=0.1, inplace=False)\n",
              "          )\n",
              "        )\n",
              "        (11): BertLayer(\n",
              "          (attention): BertAttention(\n",
              "            (self): BertSelfAttention(\n",
              "              (query): Linear(in_features=768, out_features=768, bias=True)\n",
              "              (key): Linear(in_features=768, out_features=768, bias=True)\n",
              "              (value): Linear(in_features=768, out_features=768, bias=True)\n",
              "              (dropout): Dropout(p=0.1, inplace=False)\n",
              "            )\n",
              "            (output): BertSelfOutput(\n",
              "              (dense): Linear(in_features=768, out_features=768, bias=True)\n",
              "              (LayerNorm): LayerNorm((768,), eps=1e-12, elementwise_affine=True)\n",
              "              (dropout): Dropout(p=0.1, inplace=False)\n",
              "            )\n",
              "          )\n",
              "          (intermediate): BertIntermediate(\n",
              "            (dense): Linear(in_features=768, out_features=3072, bias=True)\n",
              "          )\n",
              "          (output): BertOutput(\n",
              "            (dense): Linear(in_features=3072, out_features=768, bias=True)\n",
              "            (LayerNorm): LayerNorm((768,), eps=1e-12, elementwise_affine=True)\n",
              "            (dropout): Dropout(p=0.1, inplace=False)\n",
              "          )\n",
              "        )\n",
              "      )\n",
              "    )\n",
              "  )\n",
              "  (cls): BertOnlyMLMHead(\n",
              "    (predictions): BertLMPredictionHead(\n",
              "      (transform): BertPredictionHeadTransform(\n",
              "        (dense): Linear(in_features=768, out_features=768, bias=True)\n",
              "        (LayerNorm): LayerNorm((768,), eps=1e-12, elementwise_affine=True)\n",
              "      )\n",
              "      (decoder): Linear(in_features=768, out_features=30522, bias=True)\n",
              "    )\n",
              "  )\n",
              ")"
            ]
          },
          "metadata": {
            "tags": []
          },
          "execution_count": 56
        }
      ]
    },
    {
      "cell_type": "code",
      "metadata": {
        "id": "YaRj6SBMIP97"
      },
      "source": [
        "import numpy as np\r\n",
        "import random \r\n",
        "\r\n",
        "\r\n",
        "def mask_tokens(batch, tokenizer):\r\n",
        "    batch_masked, masked_inds = [], []\r\n",
        "    for b in batch:\r\n",
        "        inds_to_mask = np.random.choice(torch.arange(1, (b[b!=0].shape[0] -1)), size=1)\r\n",
        "        masked_inds.append(inds_to_mask)\r\n",
        "        b_new = b.clone()\r\n",
        "        b_new[inds_to_mask] = tokenizer.mask_token_id\r\n",
        "        batch_masked.append(b_new)\r\n",
        "    return torch.stack(batch_masked), masked_inds"
      ],
      "execution_count": 57,
      "outputs": []
    },
    {
      "cell_type": "code",
      "metadata": {
        "id": "ubLIUnFCMN0o"
      },
      "source": [
        "for batch in dataloader:\r\n",
        "    with torch.no_grad():\r\n",
        "        \r\n",
        "        b_input_ids = batch['input_ids']\r\n",
        "        b_input_mask = batch['attention_mask']\r\n",
        "        b_token_type_ids = batch['token_type_ids']\r\n",
        "        b_labels = batch['label-coarse']\r\n",
        "        b_masked, masked_inds = mask_tokens(b_input_ids, tokenizer)\r\n",
        "        logits = model(b_masked, attention_mask=b_input_mask)\r\n",
        "        break"
      ],
      "execution_count": 58,
      "outputs": []
    },
    {
      "cell_type": "code",
      "metadata": {
        "colab": {
          "base_uri": "https://localhost:8080/"
        },
        "id": "Zk5CaelQSlUS",
        "outputId": "6f5cbc05-7473-4bb9-8577-f99b7c542ac3"
      },
      "source": [
        "logits['logits'][0, :, :].shape"
      ],
      "execution_count": 60,
      "outputs": [
        {
          "output_type": "execute_result",
          "data": {
            "text/plain": [
              "torch.Size([512, 30522])"
            ]
          },
          "metadata": {
            "tags": []
          },
          "execution_count": 60
        }
      ]
    },
    {
      "cell_type": "code",
      "metadata": {
        "colab": {
          "base_uri": "https://localhost:8080/"
        },
        "id": "LkOSRRu5S4yd",
        "outputId": "c7778b44-1326-40a2-f279-1f773632cfad"
      },
      "source": [
        "logits[0][0].shape"
      ],
      "execution_count": 61,
      "outputs": [
        {
          "output_type": "execute_result",
          "data": {
            "text/plain": [
              "torch.Size([512, 30522])"
            ]
          },
          "metadata": {
            "tags": []
          },
          "execution_count": 61
        }
      ]
    },
    {
      "cell_type": "code",
      "metadata": {
        "colab": {
          "base_uri": "https://localhost:8080/"
        },
        "id": "4q96P0ae8vwf",
        "outputId": "f30b0ac7-7dc0-4aae-d121-0cf96ab16163"
      },
      "source": [
        "generated_batch = []\r\n",
        "original_batch = []\r\n",
        "generated_batch_sentence = []\r\n",
        "original_batch_sentence = []\r\n",
        "for i in range(32):\r\n",
        "    generated = (torch.argmax(torch.softmax(logits[0][i], axis=1), axis=1) * batch['attention_mask'][i])\r\n",
        "    original = b_input_ids[i]\r\n",
        "    print('Original:')\r\n",
        "    print(tokenizer.decode(original[(original!=0) & (original!=101) & (original!=102)]))\r\n",
        "    print('Generated:')\r\n",
        "    print(tokenizer.decode(generated[(generated != 0) & (generated!=1012)]))\r\n",
        "    print('Masked word original:', tokenizer.decode(original[original!=0][masked_inds[i]]))\r\n",
        "    print('Masked word prediction:', tokenizer.decode(generated[generated!=0][masked_inds[i]]))\r\n",
        "    print('$'*40)\r\n",
        "    original_batch_sentence.append(tokenizer.decode(original[(original!=0) & (original!=101) & (original!=102)]))\r\n",
        "    generated_batch_sentence.append(tokenizer.decode(generated[(generated != 0) & (generated!=1012)]))"
      ],
      "execution_count": 62,
      "outputs": [
        {
          "output_type": "stream",
          "text": [
            "Original:\n",
            "how far is it from denver to aspen?\n",
            "Generated:\n",
            "far is it from denver to aspen?\n",
            "Masked word original: is\n",
            "Masked word prediction: is\n",
            "$$$$$$$$$$$$$$$$$$$$$$$$$$$$$$$$$$$$$$$$\n",
            "Original:\n",
            "what county is modesto, california in?\n",
            "Generated:\n",
            "what town is modesto, california in?\n",
            "Masked word original: county\n",
            "Masked word prediction: town\n",
            "$$$$$$$$$$$$$$$$$$$$$$$$$$$$$$$$$$$$$$$$\n",
            "Original:\n",
            "who was galileo?\n",
            "Generated:\n",
            "who was he?\n",
            "Masked word original: galileo\n",
            "Masked word prediction: he\n",
            "$$$$$$$$$$$$$$$$$$$$$$$$$$$$$$$$$$$$$$$$\n",
            "Original:\n",
            "what is an atom?\n",
            "Generated:\n",
            "what is an angel?\n",
            "Masked word original: atom\n",
            "Masked word prediction: angel\n",
            "$$$$$$$$$$$$$$$$$$$$$$$$$$$$$$$$$$$$$$$$\n",
            "Original:\n",
            "when did hawaii become a state?\n",
            "Generated:\n",
            "when did it become a state?\n",
            "Masked word original: hawaii\n",
            "Masked word prediction: it\n",
            "$$$$$$$$$$$$$$$$$$$$$$$$$$$$$$$$$$$$$$$$\n",
            "Original:\n",
            "how tall is the sears building?\n",
            "Generated:\n",
            "how big is the sears building?\n",
            "Masked word original: tall\n",
            "Masked word prediction: big\n",
            "$$$$$$$$$$$$$$$$$$$$$$$$$$$$$$$$$$$$$$$$\n",
            "Original:\n",
            "george bush purchased a small interest in which baseball team?\n",
            "Generated:\n",
            "had bush purchased a small interest in which baseball team?\n",
            "Masked word original: george\n",
            "Masked word prediction: had\n",
            "$$$$$$$$$$$$$$$$$$$$$$$$$$$$$$$$$$$$$$$$\n",
            "Original:\n",
            "what is australia's national flower?\n",
            "Generated:\n",
            "what is australia's national flower?\n",
            "Masked word original: ?\n",
            "Masked word prediction: ?\n",
            "$$$$$$$$$$$$$$$$$$$$$$$$$$$$$$$$$$$$$$$$\n",
            "Original:\n",
            "why does the moon turn orange?\n",
            "Generated:\n",
            "why does the moon turn orange?\n",
            "Masked word original: ?\n",
            "Masked word prediction: ?\n",
            "$$$$$$$$$$$$$$$$$$$$$$$$$$$$$$$$$$$$$$$$\n",
            "Original:\n",
            "what is autism?\n",
            "Generated:\n",
            "what about autism?\n",
            "Masked word original: is\n",
            "Masked word prediction: about\n",
            "$$$$$$$$$$$$$$$$$$$$$$$$$$$$$$$$$$$$$$$$\n",
            "Original:\n",
            "what city had a world fair in 1900?\n",
            "Generated:\n",
            "what city had a world fair in it?\n",
            "Masked word original: 1900\n",
            "Masked word prediction: it\n",
            "$$$$$$$$$$$$$$$$$$$$$$$$$$$$$$$$$$$$$$$$\n",
            "Original:\n",
            "what person's head is on a dime?\n",
            "Generated:\n",
            "what person's head is worth a dime?\n",
            "Masked word original: on\n",
            "Masked word prediction: worth\n",
            "$$$$$$$$$$$$$$$$$$$$$$$$$$$$$$$$$$$$$$$$\n",
            "Original:\n",
            "what is the average weight of a yellow labrador?\n",
            "Generated:\n",
            "what was the average weight of a yellow labrador?\n",
            "Masked word original: is\n",
            "Masked word prediction: was\n",
            "$$$$$$$$$$$$$$$$$$$$$$$$$$$$$$$$$$$$$$$$\n",
            "Original:\n",
            "who was the first man to fly across the pacific ocean?\n",
            "Generated:\n",
            "who was the first man to fly across the pacific ocean?\n",
            "Masked word original: first\n",
            "Masked word prediction: first\n",
            "$$$$$$$$$$$$$$$$$$$$$$$$$$$$$$$$$$$$$$$$\n",
            "Original:\n",
            "when did idaho become a state?\n",
            "Generated:\n",
            "when did him become a city?\n",
            "Masked word original: state\n",
            "Masked word prediction: city\n",
            "$$$$$$$$$$$$$$$$$$$$$$$$$$$$$$$$$$$$$$$$\n",
            "Original:\n",
            "what is the life expectancy for crickets?\n",
            "Generated:\n",
            "what is the life expectancy for crickets?\n",
            "Masked word original: life\n",
            "Masked word prediction: life\n",
            "$$$$$$$$$$$$$$$$$$$$$$$$$$$$$$$$$$$$$$$$\n",
            "Original:\n",
            "what metal has the highest melting point?\n",
            "Generated:\n",
            "what planet has the highest melting point?\n",
            "Masked word original: metal\n",
            "Masked word prediction: planet\n",
            "$$$$$$$$$$$$$$$$$$$$$$$$$$$$$$$$$$$$$$$$\n",
            "Original:\n",
            "who developed the vaccination against polio?\n",
            "Generated:\n",
            "who developed the vaccineccination against polio?\n",
            "Masked word original: ##nation\n",
            "Masked word prediction: ##nation\n",
            "$$$$$$$$$$$$$$$$$$$$$$$$$$$$$$$$$$$$$$$$\n",
            "Original:\n",
            "what is epilepsy?\n",
            "Generated:\n",
            "what is epilepsy?\n",
            "Masked word original: ##ile\n",
            "Masked word prediction: ##ile\n",
            "$$$$$$$$$$$$$$$$$$$$$$$$$$$$$$$$$$$$$$$$\n",
            "Original:\n",
            "what year did the titanic sink?\n",
            "Generated:\n",
            "what year did the titanic fall?\n",
            "Masked word original: sink\n",
            "Masked word prediction: fall\n",
            "$$$$$$$$$$$$$$$$$$$$$$$$$$$$$$$$$$$$$$$$\n",
            "Original:\n",
            "who was the first american to walk in space?\n",
            "Generated:\n",
            "who was the first person to walk in space?\n",
            "Masked word original: american\n",
            "Masked word prediction: person\n",
            "$$$$$$$$$$$$$$$$$$$$$$$$$$$$$$$$$$$$$$$$\n",
            "Original:\n",
            "what is a biosphere?\n",
            "Generated:\n",
            "what is a biosphere?\n",
            "Masked word original: bio\n",
            "Masked word prediction: bio\n",
            "$$$$$$$$$$$$$$$$$$$$$$$$$$$$$$$$$$$$$$$$\n",
            "Original:\n",
            "what river in the us is known as the big muddy?\n",
            "Generated:\n",
            "what river in the us is known as the big muddy?\n",
            "Masked word original: as\n",
            "Masked word prediction: as\n",
            "$$$$$$$$$$$$$$$$$$$$$$$$$$$$$$$$$$$$$$$$\n",
            "Original:\n",
            "what is bipolar disorder?\n",
            "Generated:\n",
            "what is bipolar disorder?\n",
            "Masked word original: what\n",
            "Masked word prediction: what\n",
            "$$$$$$$$$$$$$$$$$$$$$$$$$$$$$$$$$$$$$$$$\n",
            "Original:\n",
            "what is cholesterol?\n",
            "Generated:\n",
            "what is cholesterol?\n",
            "Masked word original: ?\n",
            "Masked word prediction: ?\n",
            "$$$$$$$$$$$$$$$$$$$$$$$$$$$$$$$$$$$$$$$$\n",
            "Original:\n",
            "who developed the macintosh computer?\n",
            "Generated:\n",
            "who developed the macintosh software?\n",
            "Masked word original: computer\n",
            "Masked word prediction: software\n",
            "$$$$$$$$$$$$$$$$$$$$$$$$$$$$$$$$$$$$$$$$\n",
            "Original:\n",
            "what is caffeine?\n",
            "Generated:\n",
            "what is caffeine?\n",
            "Masked word original: ##fe\n",
            "Masked word prediction: ##fe\n",
            "$$$$$$$$$$$$$$$$$$$$$$$$$$$$$$$$$$$$$$$$\n",
            "Original:\n",
            "what imaginary line is halfway between the north and south poles?\n",
            "Generated:\n",
            "what imaginary plane is halfway between the north and south poles?\n",
            "Masked word original: line\n",
            "Masked word prediction: plane\n",
            "$$$$$$$$$$$$$$$$$$$$$$$$$$$$$$$$$$$$$$$$\n",
            "Original:\n",
            "where is john wayne airport?\n",
            "Generated:\n",
            "where is john wayne now?\n",
            "Masked word original: airport\n",
            "Masked word prediction: now\n",
            "$$$$$$$$$$$$$$$$$$$$$$$$$$$$$$$$$$$$$$$$\n",
            "Original:\n",
            "what hemisphere is the philippines in?\n",
            "Generated:\n",
            "hemisphere is the philippines in?\n",
            "Masked word original: is\n",
            "Masked word prediction: is\n",
            "$$$$$$$$$$$$$$$$$$$$$$$$$$$$$$$$$$$$$$$$\n",
            "Original:\n",
            "what is the average speed of the horses at the kentucky derby?\n",
            "Generated:\n",
            "is the average speed of the horses at the kentucky derby?\n",
            "Masked word original: the\n",
            "Masked word prediction: the\n",
            "$$$$$$$$$$$$$$$$$$$$$$$$$$$$$$$$$$$$$$$$\n",
            "Original:\n",
            "where are the rocky mountains?\n",
            "Generated:\n",
            "where are the rocky mountains?\n",
            "Masked word original: mountains\n",
            "Masked word prediction: mountains\n",
            "$$$$$$$$$$$$$$$$$$$$$$$$$$$$$$$$$$$$$$$$\n"
          ],
          "name": "stdout"
        }
      ]
    },
    {
      "cell_type": "code",
      "metadata": {
        "id": "n5XSVYRI7J2Q"
      },
      "source": [
        "def calculate_wer(sequence_a: str, sequence_b: str) -> int:\r\n",
        "    # taken from https://github.com/SeanNaren/deepspeech.pytorch/blob/master/decoder.py\r\n",
        "    b = set(sequence_a.split() + sequence_b.split())\r\n",
        "    word2char = dict(zip(b, range(len(b))))\r\n",
        "\r\n",
        "    w1 = [chr(word2char[w]) for w in sequence_a.split()]\r\n",
        "    w2 = [chr(word2char[w]) for w in sequence_b.split()]\r\n",
        "\r\n",
        "    return Lev.distance(''.join(w1), ''.join(w2))"
      ],
      "execution_count": 63,
      "outputs": []
    },
    {
      "cell_type": "code",
      "metadata": {
        "id": "Z8zsxBfwra9d"
      },
      "source": [
        "class SequenceModifier:\r\n",
        "\r\n",
        "    def __init__(\r\n",
        "            self,\r\n",
        "            vocab: List[str],\r\n",
        "            remove_prob: float = 0.05,\r\n",
        "            add_prob: float = 0.05,\r\n",
        "            replace_prob: float = 0.1\r\n",
        "    ) -> None:\r\n",
        "        assert sum([remove_prob, add_prob, replace_prob]) > 0.0\r\n",
        "        self.vocab = vocab\r\n",
        "        self.remove_prob = remove_prob\r\n",
        "        self.add_prob = add_prob\r\n",
        "        self.replace_prob = replace_prob\r\n",
        "\r\n",
        "    def remove_token(self, sequence: List[str]) -> List[str]:\r\n",
        "        samples = np.random.binomial(n=1, p=self.remove_prob, size=len(sequence))\r\n",
        "        sequence = [token for i, token in enumerate(sequence) if not samples[i]]\r\n",
        "        return sequence\r\n",
        "\r\n",
        "    def replace_token(self, sequence: List[str]) -> List[str]:\r\n",
        "        samples = np.random.binomial(n=1, p=self.replace_prob, size=len(sequence))\r\n",
        "        new_sequence = [random.choice(self.vocab) if samples[i] else sequence[i] for i in range(len(sequence))]\r\n",
        "        return new_sequence\r\n",
        "\r\n",
        "    def add_token(self, sequence: List[str]) -> List[str]:\r\n",
        "        new_sequence = sequence + [\r\n",
        "            random.choice(self.vocab)\r\n",
        "            for _ in range(np.random.binomial(len(sequence), self.add_prob))\r\n",
        "        ]\r\n",
        "        return new_sequence\r\n",
        "\r\n",
        "    def __call__(self, sequence: str) -> str:\r\n",
        "        splitted_sequence = sequence.split()\r\n",
        "        if len(splitted_sequence) > 1 and self.remove_prob:\r\n",
        "            splitted_sequence = self.remove_token(splitted_sequence)\r\n",
        "\r\n",
        "        if self.replace_prob:\r\n",
        "            splitted_sequence = self.replace_token(splitted_sequence)\r\n",
        "\r\n",
        "        if self.add_prob:\r\n",
        "            splitted_sequence = self.add_token(splitted_sequence)\r\n",
        "        return \" \".join(splitted_sequence)"
      ],
      "execution_count": 26,
      "outputs": []
    },
    {
      "cell_type": "code",
      "metadata": {
        "id": "1I6fJxYA5tXm"
      },
      "source": [
        "sentences = generated_batch_sentence + original_batch_sentence"
      ],
      "execution_count": 27,
      "outputs": []
    },
    {
      "cell_type": "code",
      "metadata": {
        "colab": {
          "base_uri": "https://localhost:8080/",
          "height": 66,
          "referenced_widgets": [
            "847f96d8fc5d4e38aac385086ed9012d",
            "dc917295598a4b69bcc842a1394638e0",
            "38b4e22955d04f6abd2795b8ca731868",
            "1775174104d24b66bed6ae252fd6bb26",
            "043c469a5bf642629342addfda7a73c3",
            "a8502217b437491b8db9cd320a2518b8",
            "7740bf24b322443e84d714abecc45242",
            "a5ea900cdbfd494eace9d94aeacd16ea"
          ]
        },
        "id": "ZN6kDSvo4gEk",
        "outputId": "e57506fa-c9c2-4d6f-beaa-a4e187153a5b"
      },
      "source": [
        "dataset_dl = []\r\n",
        "non_adversarial_indexes = np.random.randint(0, len(sentences), size=(400, 2))\r\n",
        "for id1, id2 in tqdm(non_adversarial_indexes):\r\n",
        "    tr1 = sentences[id1].strip()\r\n",
        "    tr2 = sentences[id2].strip()\r\n",
        "    \r\n",
        "    dist = calculate_wer(tr1, tr2)\r\n",
        "    ex = {\"seq_a\": tr1, \"seq_b\": tr2, \"dist\": dist}\r\n",
        "    dataset_dl.append(ex)"
      ],
      "execution_count": 28,
      "outputs": [
        {
          "output_type": "display_data",
          "data": {
            "application/vnd.jupyter.widget-view+json": {
              "model_id": "847f96d8fc5d4e38aac385086ed9012d",
              "version_minor": 0,
              "version_major": 2
            },
            "text/plain": [
              "HBox(children=(FloatProgress(value=0.0, max=400.0), HTML(value='')))"
            ]
          },
          "metadata": {
            "tags": []
          }
        },
        {
          "output_type": "stream",
          "text": [
            "\n"
          ],
          "name": "stdout"
        }
      ]
    },
    {
      "cell_type": "code",
      "metadata": {
        "colab": {
          "base_uri": "https://localhost:8080/"
        },
        "id": "nXCIJmolJ8_H",
        "outputId": "af383562-67a5-4d1f-ba78-12c6039326e7"
      },
      "source": [
        "len(dataset_dl)"
      ],
      "execution_count": 29,
      "outputs": [
        {
          "output_type": "execute_result",
          "data": {
            "text/plain": [
              "400"
            ]
          },
          "metadata": {
            "tags": []
          },
          "execution_count": 29
        }
      ]
    },
    {
      "cell_type": "code",
      "metadata": {
        "colab": {
          "base_uri": "https://localhost:8080/",
          "height": 66,
          "referenced_widgets": [
            "b4397115e68f426da0301a68de62e802",
            "5efedc6686274ac5bbe8ff5b4a5ab0c9",
            "bcfedc0ec2d74f078c77b7ff4d980501",
            "d9000ba7b9554aadad0b71f5edc2c546",
            "bf8680113c244e968cb6d0b3092539c2",
            "6c21e88d1eea44b493f206b4bd0c29c6",
            "7f3f0a478aff494c87aca7bc47b5de61",
            "2eb77ac25d2a46aa851c482836d83f2a"
          ]
        },
        "id": "IfCR4CRhGhoH",
        "outputId": "99e2088d-c760-44e3-e47d-88fb1260395f"
      },
      "source": [
        "vocab = []\r\n",
        "for seq in sentences:\r\n",
        "    vocab.extend(seq.split())\r\n",
        "\r\n",
        "vocab = list(set(vocab))\r\n",
        "NUM_SMALL_CHANGES = 3\r\n",
        "NUM_SEQUENTIAL_CHANGES = 10\r\n",
        "\r\n",
        "REMOVE_PROB = 0.0\r\n",
        "ADD_PROB = 0.0\r\n",
        "REPLACE_PROB = 1.0\r\n",
        "\r\n",
        "modifier = SequenceModifier(\r\n",
        "    vocab,\r\n",
        "    remove_prob = REMOVE_PROB,\r\n",
        "    add_prob = ADD_PROB,\r\n",
        "    replace_prob = REPLACE_PROB\r\n",
        ")\r\n",
        "adversarial_indexes = np.random.randint(0, len(sentences), size=(100, ))\r\n",
        "for idx in tqdm(adversarial_indexes):\r\n",
        "    tr1 = sentences[idx].strip()\r\n",
        "\r\n",
        "    for _ in range(NUM_SMALL_CHANGES):\r\n",
        "        tr2 = modifier(tr1).strip()\r\n",
        "        dist = calculate_wer(tr1, tr2)\r\n",
        "        ex = {\"seq_a\": tr1, \"seq_b\": tr2, \"dist\": dist}\r\n",
        "        dataset_dl.append(ex)\r\n",
        "\r\n",
        "    tr2 = tr1\r\n",
        "    num_changes = NUM_SEQUENTIAL_CHANGES\r\n",
        "    if num_changes > len(tr1.split()):\r\n",
        "        num_changes = len(tr1.split())\r\n",
        "    for _ in range(num_changes):\r\n",
        "        position_idx = random.randint(0, len(tr1.split()) - 1)\r\n",
        "        replace_with = random.choice(vocab)\r\n",
        "        tr2 = tr2.split()\r\n",
        "        tr2[position_idx] = replace_with\r\n",
        "        tr2 = \" \".join(tr2)\r\n",
        "\r\n",
        "        dist = calculate_wer(tr1, tr2)\r\n",
        "        ex = {\"seq_a\": tr1, \"seq_b\": tr2, \"dist\": dist}\r\n",
        "        dataset_dl.append(ex)"
      ],
      "execution_count": 30,
      "outputs": [
        {
          "output_type": "display_data",
          "data": {
            "application/vnd.jupyter.widget-view+json": {
              "model_id": "b4397115e68f426da0301a68de62e802",
              "version_minor": 0,
              "version_major": 2
            },
            "text/plain": [
              "HBox(children=(FloatProgress(value=0.0), HTML(value='')))"
            ]
          },
          "metadata": {
            "tags": []
          }
        },
        {
          "output_type": "stream",
          "text": [
            "\n"
          ],
          "name": "stdout"
        }
      ]
    },
    {
      "cell_type": "code",
      "metadata": {
        "colab": {
          "base_uri": "https://localhost:8080/"
        },
        "id": "oomI0eTgL8F1",
        "outputId": "0b37d2e6-2e78-47f8-9d72-d9897b1c9200"
      },
      "source": [
        "from google.colab import drive\r\n",
        "drive.mount('/content/gdrive')"
      ],
      "execution_count": null,
      "outputs": [
        {
          "output_type": "stream",
          "text": [
            "Mounted at /content/gdrive\n"
          ],
          "name": "stdout"
        }
      ]
    },
    {
      "cell_type": "code",
      "metadata": {
        "id": "I9ulyPskLibE"
      },
      "source": [
        "train_path = \"/content/gdrive/My Drive/train.json\"\r\n",
        "test_path = \"/content/gdrive/My Drive/test.json\""
      ],
      "execution_count": null,
      "outputs": []
    },
    {
      "cell_type": "code",
      "metadata": {
        "id": "hjwLDVf0KLul"
      },
      "source": [
        "train, test = train_test_split(dataset_dl, test_size=0.25)\r\n",
        "with jsonlines.open(train_path, \"w\") as writer:\r\n",
        "    for ex in train:\r\n",
        "        writer.write(ex)\r\n",
        "\r\n",
        "with jsonlines.open(test_path, \"w\") as writer:\r\n",
        "    for ex in test:\r\n",
        "        writer.write(ex)"
      ],
      "execution_count": null,
      "outputs": []
    },
    {
      "cell_type": "code",
      "metadata": {
        "colab": {
          "base_uri": "https://localhost:8080/"
        },
        "id": "VxhuVa1VJ3Pt",
        "outputId": "e7924457-cd22-480b-8143-7dce494f5d35"
      },
      "source": [
        "len(dataset_dl)"
      ],
      "execution_count": 31,
      "outputs": [
        {
          "output_type": "execute_result",
          "data": {
            "text/plain": [
              "1316"
            ]
          },
          "metadata": {
            "tags": []
          },
          "execution_count": 31
        }
      ]
    },
    {
      "cell_type": "code",
      "metadata": {
        "colab": {
          "base_uri": "https://localhost:8080/"
        },
        "id": "rdJWJK3YVU11",
        "outputId": "fc24ee8c-72ac-48f2-b7dd-19b43a811a98"
      },
      "source": [
        "for i in dataset_dl:\r\n",
        "    print(i)\r\n",
        "    break"
      ],
      "execution_count": 33,
      "outputs": [
        {
          "output_type": "stream",
          "text": [
            "{'seq_a': 'what is the average speed of the horses at the kentucky derby?', 'seq_b': 'president bush had a small interest in which baseball team?', 'dist': 12}\n"
          ],
          "name": "stdout"
        }
      ]
    },
    {
      "cell_type": "code",
      "metadata": {
        "id": "3Z8MBgdjNm2i"
      },
      "source": [
        "import torch\r\n",
        "from torch.utils.data import Dataset as TorchDataset\r\n",
        "\r\n",
        "class Dataset(TorchDataset):\r\n",
        "    \r\n",
        "    \"\"\"Custom data.Dataset compatible with data.DataLoader.\"\"\"\r\n",
        "    def __init__(self, data, index=0, batch_size=32):\r\n",
        "        self.data = data\r\n",
        "        self.index = index\r\n",
        "        self.batch_size = batch_size\r\n",
        "    def __getitem__(self, data):\r\n",
        "\r\n",
        "        global index\r\n",
        "        data = self.data\r\n",
        "        batch_size = self.batch_size\r\n",
        "        a_list = []\r\n",
        "        b_list = []\r\n",
        "        dist_list = []\r\n",
        "        for _ in range(batch_size):\r\n",
        "            \r\n",
        "            word_a = data[self.index]['seq_a']\r\n",
        "            word_a = torch.Tensor(tokenizer.encode(word_a, padding='max_length', truncation=True)).unsqueeze(0)\r\n",
        "            word_b = data[self.index]['seq_b']\r\n",
        "            word_b = torch.Tensor(tokenizer.encode(word_b, padding='max_length', truncation=True)).unsqueeze(0)\r\n",
        "            word_dis = data[self.index]['dist']\r\n",
        "            \r\n",
        "            word_dis= torch.Tensor([word_dis]).unsqueeze(0)\r\n",
        "            # print(word_dis.shape)\r\n",
        "            a_list.append(word_a)\r\n",
        "            b_list.append(word_b)\r\n",
        "            dist_list.append(word_dis)\r\n",
        "            self.index = (self.index + 1) % len(data)\r\n",
        "\r\n",
        "        tens_a = torch.cat(a_list, dim=0)\r\n",
        "        tens_b = torch.cat(b_list, dim=0)\r\n",
        "\r\n",
        "        tens_dis = torch.cat(dist_list, dim=0)\r\n",
        "        # print(tens_dis.shape)\r\n",
        "        return tens_a, tens_b, tens_dis\r\n",
        "        \r\n",
        "\r\n",
        "    def __len__(self):\r\n",
        "        return len(self.data) // self.batch_size"
      ],
      "execution_count": 43,
      "outputs": []
    },
    {
      "cell_type": "code",
      "metadata": {
        "id": "On5MAlT1VIhz"
      },
      "source": [
        "index = 0 \r\n",
        "initial_ = Dataset(dataset_dl)"
      ],
      "execution_count": 44,
      "outputs": []
    },
    {
      "cell_type": "code",
      "metadata": {
        "colab": {
          "base_uri": "https://localhost:8080/"
        },
        "id": "n2mE_vaEZZel",
        "outputId": "145bd5df-ab4c-4d6f-beb0-6ba17c9d62ec"
      },
      "source": [
        "loader =  DataLoader(initial_, batch_size=1)\r\n",
        "for batch in loader:\r\n",
        "    print(batch[0].shape, batch[1].shape, batch[2].shape)"
      ],
      "execution_count": 47,
      "outputs": [
        {
          "output_type": "stream",
          "text": [
            "torch.Size([1, 32, 512]) torch.Size([1, 32, 512]) torch.Size([1, 32, 1])\n",
            "torch.Size([1, 32, 512]) torch.Size([1, 32, 512]) torch.Size([1, 32, 1])\n",
            "torch.Size([1, 32, 512]) torch.Size([1, 32, 512]) torch.Size([1, 32, 1])\n",
            "torch.Size([1, 32, 512]) torch.Size([1, 32, 512]) torch.Size([1, 32, 1])\n",
            "torch.Size([1, 32, 512]) torch.Size([1, 32, 512]) torch.Size([1, 32, 1])\n",
            "torch.Size([1, 32, 512]) torch.Size([1, 32, 512]) torch.Size([1, 32, 1])\n",
            "torch.Size([1, 32, 512]) torch.Size([1, 32, 512]) torch.Size([1, 32, 1])\n",
            "torch.Size([1, 32, 512]) torch.Size([1, 32, 512]) torch.Size([1, 32, 1])\n",
            "torch.Size([1, 32, 512]) torch.Size([1, 32, 512]) torch.Size([1, 32, 1])\n",
            "torch.Size([1, 32, 512]) torch.Size([1, 32, 512]) torch.Size([1, 32, 1])\n",
            "torch.Size([1, 32, 512]) torch.Size([1, 32, 512]) torch.Size([1, 32, 1])\n",
            "torch.Size([1, 32, 512]) torch.Size([1, 32, 512]) torch.Size([1, 32, 1])\n",
            "torch.Size([1, 32, 512]) torch.Size([1, 32, 512]) torch.Size([1, 32, 1])\n",
            "torch.Size([1, 32, 512]) torch.Size([1, 32, 512]) torch.Size([1, 32, 1])\n",
            "torch.Size([1, 32, 512]) torch.Size([1, 32, 512]) torch.Size([1, 32, 1])\n",
            "torch.Size([1, 32, 512]) torch.Size([1, 32, 512]) torch.Size([1, 32, 1])\n",
            "torch.Size([1, 32, 512]) torch.Size([1, 32, 512]) torch.Size([1, 32, 1])\n",
            "torch.Size([1, 32, 512]) torch.Size([1, 32, 512]) torch.Size([1, 32, 1])\n",
            "torch.Size([1, 32, 512]) torch.Size([1, 32, 512]) torch.Size([1, 32, 1])\n",
            "torch.Size([1, 32, 512]) torch.Size([1, 32, 512]) torch.Size([1, 32, 1])\n",
            "torch.Size([1, 32, 512]) torch.Size([1, 32, 512]) torch.Size([1, 32, 1])\n",
            "torch.Size([1, 32, 512]) torch.Size([1, 32, 512]) torch.Size([1, 32, 1])\n",
            "torch.Size([1, 32, 512]) torch.Size([1, 32, 512]) torch.Size([1, 32, 1])\n",
            "torch.Size([1, 32, 512]) torch.Size([1, 32, 512]) torch.Size([1, 32, 1])\n",
            "torch.Size([1, 32, 512]) torch.Size([1, 32, 512]) torch.Size([1, 32, 1])\n",
            "torch.Size([1, 32, 512]) torch.Size([1, 32, 512]) torch.Size([1, 32, 1])\n",
            "torch.Size([1, 32, 512]) torch.Size([1, 32, 512]) torch.Size([1, 32, 1])\n",
            "torch.Size([1, 32, 512]) torch.Size([1, 32, 512]) torch.Size([1, 32, 1])\n",
            "torch.Size([1, 32, 512]) torch.Size([1, 32, 512]) torch.Size([1, 32, 1])\n",
            "torch.Size([1, 32, 512]) torch.Size([1, 32, 512]) torch.Size([1, 32, 1])\n",
            "torch.Size([1, 32, 512]) torch.Size([1, 32, 512]) torch.Size([1, 32, 1])\n",
            "torch.Size([1, 32, 512]) torch.Size([1, 32, 512]) torch.Size([1, 32, 1])\n",
            "torch.Size([1, 32, 512]) torch.Size([1, 32, 512]) torch.Size([1, 32, 1])\n",
            "torch.Size([1, 32, 512]) torch.Size([1, 32, 512]) torch.Size([1, 32, 1])\n",
            "torch.Size([1, 32, 512]) torch.Size([1, 32, 512]) torch.Size([1, 32, 1])\n",
            "torch.Size([1, 32, 512]) torch.Size([1, 32, 512]) torch.Size([1, 32, 1])\n",
            "torch.Size([1, 32, 512]) torch.Size([1, 32, 512]) torch.Size([1, 32, 1])\n",
            "torch.Size([1, 32, 512]) torch.Size([1, 32, 512]) torch.Size([1, 32, 1])\n",
            "torch.Size([1, 32, 512]) torch.Size([1, 32, 512]) torch.Size([1, 32, 1])\n",
            "torch.Size([1, 32, 512]) torch.Size([1, 32, 512]) torch.Size([1, 32, 1])\n",
            "torch.Size([1, 32, 512]) torch.Size([1, 32, 512]) torch.Size([1, 32, 1])\n"
          ],
          "name": "stdout"
        }
      ]
    },
    {
      "cell_type": "code",
      "metadata": {
        "id": "98hRDSF0IcFc"
      },
      "source": [
        "# class Deep_lev(torch.nn.Module):\r\n",
        "\r\n",
        "#     def __init__(self, vocab_size, embedding_dim, hidden_dim) :\r\n",
        "#         super().__init__()\r\n",
        "#         self.embeddings = nn.Embedding(vocab_size, embedding_dim)\r\n",
        "#         self.encoder = nn.LSTM(embedding_dim, hidden_dim, batch_first=False)\r\n",
        "\r\n",
        "#         self.linear = nn.Linear(hidden_dim * 3, 1)\r\n",
        "#         self._loss = nn.MSELoss()\r\n",
        "\r\n",
        "\r\n",
        "#     def encode_sequence(self, sequence):\r\n",
        "#         embedded_sequence = self.embeddings(sequence)\r\n",
        "#         out, (ht, ct) = self.encoder(embedded_sequence)\r\n",
        "#         return ht[-1]\r\n",
        "\r\n",
        "#     def forward(self, sequence_a, sequence_b, distance):\r\n",
        "#         embedded_sequence_a = self.encode_sequence(sequence_a)\r\n",
        "#         embedded_sequence_b = self.encode_sequence(sequence_b)\r\n",
        "#         diff = torch.abs(embedded_sequence_a - embedded_sequence_b)\r\n",
        "#         representation = torch.cat([embedded_sequence_a, embedded_sequence_b, diff], dim=-1)\r\n",
        "\r\n",
        "#         approx_distance = self.linear(representation)\r\n",
        "#         output_dict = {\"distance\": approx_distance}\r\n",
        "\r\n",
        "#         if distance is not None:\r\n",
        "#             output_dict[\"loss\"] = self._loss(approx_distance.view(-1), distance.view(-1))\r\n",
        "#         return output_dict"
      ],
      "execution_count": null,
      "outputs": []
    },
    {
      "cell_type": "code",
      "metadata": {
        "id": "HH1aw0C2Iccu"
      },
      "source": [
        "em = nn.Embedding(512, 128)"
      ],
      "execution_count": 73,
      "outputs": []
    },
    {
      "cell_type": "code",
      "metadata": {
        "colab": {
          "base_uri": "https://localhost:8080/",
          "height": 1000
        },
        "id": "E9rXhMxFuXMW",
        "outputId": "299061bf-aa30-4fc3-adcf-58d64a611ca9"
      },
      "source": [
        "for batch in loader:\r\n",
        "    print(batch[0][0][0])\r\n",
        "    em(torch.LongTensor([batch[0][0][0]]))\r\n",
        "    break"
      ],
      "execution_count": 86,
      "outputs": [
        {
          "output_type": "stream",
          "text": [
            "tensor([  101.,  2054.,  2711.,  1005.,  1055.,  2132.,  2003.,  2006.,  1037.,\n",
            "        27211.,  1029.,   102.,     0.,     0.,     0.,     0.,     0.,     0.,\n",
            "            0.,     0.,     0.,     0.,     0.,     0.,     0.,     0.,     0.,\n",
            "            0.,     0.,     0.,     0.,     0.,     0.,     0.,     0.,     0.,\n",
            "            0.,     0.,     0.,     0.,     0.,     0.,     0.,     0.,     0.,\n",
            "            0.,     0.,     0.,     0.,     0.,     0.,     0.,     0.,     0.,\n",
            "            0.,     0.,     0.,     0.,     0.,     0.,     0.,     0.,     0.,\n",
            "            0.,     0.,     0.,     0.,     0.,     0.,     0.,     0.,     0.,\n",
            "            0.,     0.,     0.,     0.,     0.,     0.,     0.,     0.,     0.,\n",
            "            0.,     0.,     0.,     0.,     0.,     0.,     0.,     0.,     0.,\n",
            "            0.,     0.,     0.,     0.,     0.,     0.,     0.,     0.,     0.,\n",
            "            0.,     0.,     0.,     0.,     0.,     0.,     0.,     0.,     0.,\n",
            "            0.,     0.,     0.,     0.,     0.,     0.,     0.,     0.,     0.,\n",
            "            0.,     0.,     0.,     0.,     0.,     0.,     0.,     0.,     0.,\n",
            "            0.,     0.,     0.,     0.,     0.,     0.,     0.,     0.,     0.,\n",
            "            0.,     0.,     0.,     0.,     0.,     0.,     0.,     0.,     0.,\n",
            "            0.,     0.,     0.,     0.,     0.,     0.,     0.,     0.,     0.,\n",
            "            0.,     0.,     0.,     0.,     0.,     0.,     0.,     0.,     0.,\n",
            "            0.,     0.,     0.,     0.,     0.,     0.,     0.,     0.,     0.,\n",
            "            0.,     0.,     0.,     0.,     0.,     0.,     0.,     0.,     0.,\n",
            "            0.,     0.,     0.,     0.,     0.,     0.,     0.,     0.,     0.,\n",
            "            0.,     0.,     0.,     0.,     0.,     0.,     0.,     0.,     0.,\n",
            "            0.,     0.,     0.,     0.,     0.,     0.,     0.,     0.,     0.,\n",
            "            0.,     0.,     0.,     0.,     0.,     0.,     0.,     0.,     0.,\n",
            "            0.,     0.,     0.,     0.,     0.,     0.,     0.,     0.,     0.,\n",
            "            0.,     0.,     0.,     0.,     0.,     0.,     0.,     0.,     0.,\n",
            "            0.,     0.,     0.,     0.,     0.,     0.,     0.,     0.,     0.,\n",
            "            0.,     0.,     0.,     0.,     0.,     0.,     0.,     0.,     0.,\n",
            "            0.,     0.,     0.,     0.,     0.,     0.,     0.,     0.,     0.,\n",
            "            0.,     0.,     0.,     0.,     0.,     0.,     0.,     0.,     0.,\n",
            "            0.,     0.,     0.,     0.,     0.,     0.,     0.,     0.,     0.,\n",
            "            0.,     0.,     0.,     0.,     0.,     0.,     0.,     0.,     0.,\n",
            "            0.,     0.,     0.,     0.,     0.,     0.,     0.,     0.,     0.,\n",
            "            0.,     0.,     0.,     0.,     0.,     0.,     0.,     0.,     0.,\n",
            "            0.,     0.,     0.,     0.,     0.,     0.,     0.,     0.,     0.,\n",
            "            0.,     0.,     0.,     0.,     0.,     0.,     0.,     0.,     0.,\n",
            "            0.,     0.,     0.,     0.,     0.,     0.,     0.,     0.,     0.,\n",
            "            0.,     0.,     0.,     0.,     0.,     0.,     0.,     0.,     0.,\n",
            "            0.,     0.,     0.,     0.,     0.,     0.,     0.,     0.,     0.,\n",
            "            0.,     0.,     0.,     0.,     0.,     0.,     0.,     0.,     0.,\n",
            "            0.,     0.,     0.,     0.,     0.,     0.,     0.,     0.,     0.,\n",
            "            0.,     0.,     0.,     0.,     0.,     0.,     0.,     0.,     0.,\n",
            "            0.,     0.,     0.,     0.,     0.,     0.,     0.,     0.,     0.,\n",
            "            0.,     0.,     0.,     0.,     0.,     0.,     0.,     0.,     0.,\n",
            "            0.,     0.,     0.,     0.,     0.,     0.,     0.,     0.,     0.,\n",
            "            0.,     0.,     0.,     0.,     0.,     0.,     0.,     0.,     0.,\n",
            "            0.,     0.,     0.,     0.,     0.,     0.,     0.,     0.,     0.,\n",
            "            0.,     0.,     0.,     0.,     0.,     0.,     0.,     0.,     0.,\n",
            "            0.,     0.,     0.,     0.,     0.,     0.,     0.,     0.,     0.,\n",
            "            0.,     0.,     0.,     0.,     0.,     0.,     0.,     0.,     0.,\n",
            "            0.,     0.,     0.,     0.,     0.,     0.,     0.,     0.,     0.,\n",
            "            0.,     0.,     0.,     0.,     0.,     0.,     0.,     0.,     0.,\n",
            "            0.,     0.,     0.,     0.,     0.,     0.,     0.,     0.,     0.,\n",
            "            0.,     0.,     0.,     0.,     0.,     0.,     0.,     0.,     0.,\n",
            "            0.,     0.,     0.,     0.,     0.,     0.,     0.,     0.,     0.,\n",
            "            0.,     0.,     0.,     0.,     0.,     0.,     0.,     0.,     0.,\n",
            "            0.,     0.,     0.,     0.,     0.,     0.,     0.,     0.])\n"
          ],
          "name": "stdout"
        },
        {
          "output_type": "error",
          "ename": "ValueError",
          "evalue": "ignored",
          "traceback": [
            "\u001b[0;31m---------------------------------------------------------------------------\u001b[0m",
            "\u001b[0;31mValueError\u001b[0m                                Traceback (most recent call last)",
            "\u001b[0;32m<ipython-input-86-5818fd34f7e1>\u001b[0m in \u001b[0;36m<module>\u001b[0;34m()\u001b[0m\n\u001b[1;32m      1\u001b[0m \u001b[0;32mfor\u001b[0m \u001b[0mbatch\u001b[0m \u001b[0;32min\u001b[0m \u001b[0mloader\u001b[0m\u001b[0;34m:\u001b[0m\u001b[0;34m\u001b[0m\u001b[0;34m\u001b[0m\u001b[0m\n\u001b[1;32m      2\u001b[0m     \u001b[0mprint\u001b[0m\u001b[0;34m(\u001b[0m\u001b[0mbatch\u001b[0m\u001b[0;34m[\u001b[0m\u001b[0;36m0\u001b[0m\u001b[0;34m]\u001b[0m\u001b[0;34m[\u001b[0m\u001b[0;36m0\u001b[0m\u001b[0;34m]\u001b[0m\u001b[0;34m[\u001b[0m\u001b[0;36m0\u001b[0m\u001b[0;34m]\u001b[0m\u001b[0;34m)\u001b[0m\u001b[0;34m\u001b[0m\u001b[0;34m\u001b[0m\u001b[0m\n\u001b[0;32m----> 3\u001b[0;31m     \u001b[0mem\u001b[0m\u001b[0;34m(\u001b[0m\u001b[0mtorch\u001b[0m\u001b[0;34m.\u001b[0m\u001b[0mLongTensor\u001b[0m\u001b[0;34m(\u001b[0m\u001b[0;34m[\u001b[0m\u001b[0mbatch\u001b[0m\u001b[0;34m[\u001b[0m\u001b[0;36m0\u001b[0m\u001b[0;34m]\u001b[0m\u001b[0;34m[\u001b[0m\u001b[0;36m0\u001b[0m\u001b[0;34m]\u001b[0m\u001b[0;34m[\u001b[0m\u001b[0;36m0\u001b[0m\u001b[0;34m]\u001b[0m\u001b[0;34m]\u001b[0m\u001b[0;34m)\u001b[0m\u001b[0;34m)\u001b[0m\u001b[0;34m\u001b[0m\u001b[0;34m\u001b[0m\u001b[0m\n\u001b[0m\u001b[1;32m      4\u001b[0m     \u001b[0;32mbreak\u001b[0m\u001b[0;34m\u001b[0m\u001b[0;34m\u001b[0m\u001b[0m\n",
            "\u001b[0;31mValueError\u001b[0m: only one element tensors can be converted to Python scalars"
          ]
        }
      ]
    },
    {
      "cell_type": "code",
      "metadata": {
        "id": "z_DWb5U_v3LG"
      },
      "source": [
        ""
      ],
      "execution_count": null,
      "outputs": []
    }
  ]
}