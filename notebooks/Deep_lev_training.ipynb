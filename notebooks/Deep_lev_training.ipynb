{
  "nbformat": 4,
  "nbformat_minor": 0,
  "metadata": {
    "colab": {
      "name": "Deep_lev_training.ipynb\"",
      "provenance": [],
      "collapsed_sections": []
    },
    "kernelspec": {
      "name": "python3",
      "display_name": "Python 3"
    },
    "accelerator": "GPU",
    "widgets": {
      "application/vnd.jupyter.widget-state+json": {
        "059577c5a4bf4dd9bdbf8bc29936ac20": {
          "model_module": "@jupyter-widgets/controls",
          "model_name": "HBoxModel",
          "state": {
            "_view_name": "HBoxView",
            "_dom_classes": [],
            "_model_name": "HBoxModel",
            "_view_module": "@jupyter-widgets/controls",
            "_model_module_version": "1.5.0",
            "_view_count": null,
            "_view_module_version": "1.5.0",
            "box_style": "",
            "layout": "IPY_MODEL_da2b6983da714fed9f4802631654823c",
            "_model_module": "@jupyter-widgets/controls",
            "children": [
              "IPY_MODEL_3ef2ca079e2d4a638dfe8b7b35c81829",
              "IPY_MODEL_ea0907c1ed81431591e4ebf515fe4be1"
            ]
          }
        },
        "da2b6983da714fed9f4802631654823c": {
          "model_module": "@jupyter-widgets/base",
          "model_name": "LayoutModel",
          "state": {
            "_view_name": "LayoutView",
            "grid_template_rows": null,
            "right": null,
            "justify_content": null,
            "_view_module": "@jupyter-widgets/base",
            "overflow": null,
            "_model_module_version": "1.2.0",
            "_view_count": null,
            "flex_flow": null,
            "width": null,
            "min_width": null,
            "border": null,
            "align_items": null,
            "bottom": null,
            "_model_module": "@jupyter-widgets/base",
            "top": null,
            "grid_column": null,
            "overflow_y": null,
            "overflow_x": null,
            "grid_auto_flow": null,
            "grid_area": null,
            "grid_template_columns": null,
            "flex": null,
            "_model_name": "LayoutModel",
            "justify_items": null,
            "grid_row": null,
            "max_height": null,
            "align_content": null,
            "visibility": null,
            "align_self": null,
            "height": null,
            "min_height": null,
            "padding": null,
            "grid_auto_rows": null,
            "grid_gap": null,
            "max_width": null,
            "order": null,
            "_view_module_version": "1.2.0",
            "grid_template_areas": null,
            "object_position": null,
            "object_fit": null,
            "grid_auto_columns": null,
            "margin": null,
            "display": null,
            "left": null
          }
        },
        "3ef2ca079e2d4a638dfe8b7b35c81829": {
          "model_module": "@jupyter-widgets/controls",
          "model_name": "FloatProgressModel",
          "state": {
            "_view_name": "ProgressView",
            "style": "IPY_MODEL_7221d1a213ac4c37a022d63a8c3c7e33",
            "_dom_classes": [],
            "description": "Downloading: 100%",
            "_model_name": "FloatProgressModel",
            "bar_style": "success",
            "max": 433,
            "_view_module": "@jupyter-widgets/controls",
            "_model_module_version": "1.5.0",
            "value": 433,
            "_view_count": null,
            "_view_module_version": "1.5.0",
            "orientation": "horizontal",
            "min": 0,
            "description_tooltip": null,
            "_model_module": "@jupyter-widgets/controls",
            "layout": "IPY_MODEL_b12eb5f9c1d842ffb7af064f84b5122b"
          }
        },
        "ea0907c1ed81431591e4ebf515fe4be1": {
          "model_module": "@jupyter-widgets/controls",
          "model_name": "HTMLModel",
          "state": {
            "_view_name": "HTMLView",
            "style": "IPY_MODEL_b7852da292c24dd58af930fbdc07a0c3",
            "_dom_classes": [],
            "description": "",
            "_model_name": "HTMLModel",
            "placeholder": "​",
            "_view_module": "@jupyter-widgets/controls",
            "_model_module_version": "1.5.0",
            "value": " 433/433 [00:00&lt;00:00, 7.41kB/s]",
            "_view_count": null,
            "_view_module_version": "1.5.0",
            "description_tooltip": null,
            "_model_module": "@jupyter-widgets/controls",
            "layout": "IPY_MODEL_e186d9977be64236a919a63f15c7a935"
          }
        },
        "7221d1a213ac4c37a022d63a8c3c7e33": {
          "model_module": "@jupyter-widgets/controls",
          "model_name": "ProgressStyleModel",
          "state": {
            "_view_name": "StyleView",
            "_model_name": "ProgressStyleModel",
            "description_width": "initial",
            "_view_module": "@jupyter-widgets/base",
            "_model_module_version": "1.5.0",
            "_view_count": null,
            "_view_module_version": "1.2.0",
            "bar_color": null,
            "_model_module": "@jupyter-widgets/controls"
          }
        },
        "b12eb5f9c1d842ffb7af064f84b5122b": {
          "model_module": "@jupyter-widgets/base",
          "model_name": "LayoutModel",
          "state": {
            "_view_name": "LayoutView",
            "grid_template_rows": null,
            "right": null,
            "justify_content": null,
            "_view_module": "@jupyter-widgets/base",
            "overflow": null,
            "_model_module_version": "1.2.0",
            "_view_count": null,
            "flex_flow": null,
            "width": null,
            "min_width": null,
            "border": null,
            "align_items": null,
            "bottom": null,
            "_model_module": "@jupyter-widgets/base",
            "top": null,
            "grid_column": null,
            "overflow_y": null,
            "overflow_x": null,
            "grid_auto_flow": null,
            "grid_area": null,
            "grid_template_columns": null,
            "flex": null,
            "_model_name": "LayoutModel",
            "justify_items": null,
            "grid_row": null,
            "max_height": null,
            "align_content": null,
            "visibility": null,
            "align_self": null,
            "height": null,
            "min_height": null,
            "padding": null,
            "grid_auto_rows": null,
            "grid_gap": null,
            "max_width": null,
            "order": null,
            "_view_module_version": "1.2.0",
            "grid_template_areas": null,
            "object_position": null,
            "object_fit": null,
            "grid_auto_columns": null,
            "margin": null,
            "display": null,
            "left": null
          }
        },
        "b7852da292c24dd58af930fbdc07a0c3": {
          "model_module": "@jupyter-widgets/controls",
          "model_name": "DescriptionStyleModel",
          "state": {
            "_view_name": "StyleView",
            "_model_name": "DescriptionStyleModel",
            "description_width": "",
            "_view_module": "@jupyter-widgets/base",
            "_model_module_version": "1.5.0",
            "_view_count": null,
            "_view_module_version": "1.2.0",
            "_model_module": "@jupyter-widgets/controls"
          }
        },
        "e186d9977be64236a919a63f15c7a935": {
          "model_module": "@jupyter-widgets/base",
          "model_name": "LayoutModel",
          "state": {
            "_view_name": "LayoutView",
            "grid_template_rows": null,
            "right": null,
            "justify_content": null,
            "_view_module": "@jupyter-widgets/base",
            "overflow": null,
            "_model_module_version": "1.2.0",
            "_view_count": null,
            "flex_flow": null,
            "width": null,
            "min_width": null,
            "border": null,
            "align_items": null,
            "bottom": null,
            "_model_module": "@jupyter-widgets/base",
            "top": null,
            "grid_column": null,
            "overflow_y": null,
            "overflow_x": null,
            "grid_auto_flow": null,
            "grid_area": null,
            "grid_template_columns": null,
            "flex": null,
            "_model_name": "LayoutModel",
            "justify_items": null,
            "grid_row": null,
            "max_height": null,
            "align_content": null,
            "visibility": null,
            "align_self": null,
            "height": null,
            "min_height": null,
            "padding": null,
            "grid_auto_rows": null,
            "grid_gap": null,
            "max_width": null,
            "order": null,
            "_view_module_version": "1.2.0",
            "grid_template_areas": null,
            "object_position": null,
            "object_fit": null,
            "grid_auto_columns": null,
            "margin": null,
            "display": null,
            "left": null
          }
        },
        "593eb0e4a63d48d1a90230b459eebe93": {
          "model_module": "@jupyter-widgets/controls",
          "model_name": "HBoxModel",
          "state": {
            "_view_name": "HBoxView",
            "_dom_classes": [],
            "_model_name": "HBoxModel",
            "_view_module": "@jupyter-widgets/controls",
            "_model_module_version": "1.5.0",
            "_view_count": null,
            "_view_module_version": "1.5.0",
            "box_style": "",
            "layout": "IPY_MODEL_0cd9fc63ba6547b98ebb0267dc467dbb",
            "_model_module": "@jupyter-widgets/controls",
            "children": [
              "IPY_MODEL_e9f067d0360c428fbb40ccec424ba65b",
              "IPY_MODEL_d29be17a125345478b0448e2d0584872"
            ]
          }
        },
        "0cd9fc63ba6547b98ebb0267dc467dbb": {
          "model_module": "@jupyter-widgets/base",
          "model_name": "LayoutModel",
          "state": {
            "_view_name": "LayoutView",
            "grid_template_rows": null,
            "right": null,
            "justify_content": null,
            "_view_module": "@jupyter-widgets/base",
            "overflow": null,
            "_model_module_version": "1.2.0",
            "_view_count": null,
            "flex_flow": null,
            "width": null,
            "min_width": null,
            "border": null,
            "align_items": null,
            "bottom": null,
            "_model_module": "@jupyter-widgets/base",
            "top": null,
            "grid_column": null,
            "overflow_y": null,
            "overflow_x": null,
            "grid_auto_flow": null,
            "grid_area": null,
            "grid_template_columns": null,
            "flex": null,
            "_model_name": "LayoutModel",
            "justify_items": null,
            "grid_row": null,
            "max_height": null,
            "align_content": null,
            "visibility": null,
            "align_self": null,
            "height": null,
            "min_height": null,
            "padding": null,
            "grid_auto_rows": null,
            "grid_gap": null,
            "max_width": null,
            "order": null,
            "_view_module_version": "1.2.0",
            "grid_template_areas": null,
            "object_position": null,
            "object_fit": null,
            "grid_auto_columns": null,
            "margin": null,
            "display": null,
            "left": null
          }
        },
        "e9f067d0360c428fbb40ccec424ba65b": {
          "model_module": "@jupyter-widgets/controls",
          "model_name": "FloatProgressModel",
          "state": {
            "_view_name": "ProgressView",
            "style": "IPY_MODEL_8104b122b9f84ea38660d3d28682a9fd",
            "_dom_classes": [],
            "description": "Downloading: 100%",
            "_model_name": "FloatProgressModel",
            "bar_style": "success",
            "max": 231508,
            "_view_module": "@jupyter-widgets/controls",
            "_model_module_version": "1.5.0",
            "value": 231508,
            "_view_count": null,
            "_view_module_version": "1.5.0",
            "orientation": "horizontal",
            "min": 0,
            "description_tooltip": null,
            "_model_module": "@jupyter-widgets/controls",
            "layout": "IPY_MODEL_bd0f742ddaa74719bd0bac5bd68c15bb"
          }
        },
        "d29be17a125345478b0448e2d0584872": {
          "model_module": "@jupyter-widgets/controls",
          "model_name": "HTMLModel",
          "state": {
            "_view_name": "HTMLView",
            "style": "IPY_MODEL_139a34a7b3bf473897f548afb406fd89",
            "_dom_classes": [],
            "description": "",
            "_model_name": "HTMLModel",
            "placeholder": "​",
            "_view_module": "@jupyter-widgets/controls",
            "_model_module_version": "1.5.0",
            "value": " 232k/232k [00:06&lt;00:00, 35.0kB/s]",
            "_view_count": null,
            "_view_module_version": "1.5.0",
            "description_tooltip": null,
            "_model_module": "@jupyter-widgets/controls",
            "layout": "IPY_MODEL_9b759b3d1e4140fd87a928eb751cb3ea"
          }
        },
        "8104b122b9f84ea38660d3d28682a9fd": {
          "model_module": "@jupyter-widgets/controls",
          "model_name": "ProgressStyleModel",
          "state": {
            "_view_name": "StyleView",
            "_model_name": "ProgressStyleModel",
            "description_width": "initial",
            "_view_module": "@jupyter-widgets/base",
            "_model_module_version": "1.5.0",
            "_view_count": null,
            "_view_module_version": "1.2.0",
            "bar_color": null,
            "_model_module": "@jupyter-widgets/controls"
          }
        },
        "bd0f742ddaa74719bd0bac5bd68c15bb": {
          "model_module": "@jupyter-widgets/base",
          "model_name": "LayoutModel",
          "state": {
            "_view_name": "LayoutView",
            "grid_template_rows": null,
            "right": null,
            "justify_content": null,
            "_view_module": "@jupyter-widgets/base",
            "overflow": null,
            "_model_module_version": "1.2.0",
            "_view_count": null,
            "flex_flow": null,
            "width": null,
            "min_width": null,
            "border": null,
            "align_items": null,
            "bottom": null,
            "_model_module": "@jupyter-widgets/base",
            "top": null,
            "grid_column": null,
            "overflow_y": null,
            "overflow_x": null,
            "grid_auto_flow": null,
            "grid_area": null,
            "grid_template_columns": null,
            "flex": null,
            "_model_name": "LayoutModel",
            "justify_items": null,
            "grid_row": null,
            "max_height": null,
            "align_content": null,
            "visibility": null,
            "align_self": null,
            "height": null,
            "min_height": null,
            "padding": null,
            "grid_auto_rows": null,
            "grid_gap": null,
            "max_width": null,
            "order": null,
            "_view_module_version": "1.2.0",
            "grid_template_areas": null,
            "object_position": null,
            "object_fit": null,
            "grid_auto_columns": null,
            "margin": null,
            "display": null,
            "left": null
          }
        },
        "139a34a7b3bf473897f548afb406fd89": {
          "model_module": "@jupyter-widgets/controls",
          "model_name": "DescriptionStyleModel",
          "state": {
            "_view_name": "StyleView",
            "_model_name": "DescriptionStyleModel",
            "description_width": "",
            "_view_module": "@jupyter-widgets/base",
            "_model_module_version": "1.5.0",
            "_view_count": null,
            "_view_module_version": "1.2.0",
            "_model_module": "@jupyter-widgets/controls"
          }
        },
        "9b759b3d1e4140fd87a928eb751cb3ea": {
          "model_module": "@jupyter-widgets/base",
          "model_name": "LayoutModel",
          "state": {
            "_view_name": "LayoutView",
            "grid_template_rows": null,
            "right": null,
            "justify_content": null,
            "_view_module": "@jupyter-widgets/base",
            "overflow": null,
            "_model_module_version": "1.2.0",
            "_view_count": null,
            "flex_flow": null,
            "width": null,
            "min_width": null,
            "border": null,
            "align_items": null,
            "bottom": null,
            "_model_module": "@jupyter-widgets/base",
            "top": null,
            "grid_column": null,
            "overflow_y": null,
            "overflow_x": null,
            "grid_auto_flow": null,
            "grid_area": null,
            "grid_template_columns": null,
            "flex": null,
            "_model_name": "LayoutModel",
            "justify_items": null,
            "grid_row": null,
            "max_height": null,
            "align_content": null,
            "visibility": null,
            "align_self": null,
            "height": null,
            "min_height": null,
            "padding": null,
            "grid_auto_rows": null,
            "grid_gap": null,
            "max_width": null,
            "order": null,
            "_view_module_version": "1.2.0",
            "grid_template_areas": null,
            "object_position": null,
            "object_fit": null,
            "grid_auto_columns": null,
            "margin": null,
            "display": null,
            "left": null
          }
        },
        "074e24176d87434a8d11bbc95f08e389": {
          "model_module": "@jupyter-widgets/controls",
          "model_name": "HBoxModel",
          "state": {
            "_view_name": "HBoxView",
            "_dom_classes": [],
            "_model_name": "HBoxModel",
            "_view_module": "@jupyter-widgets/controls",
            "_model_module_version": "1.5.0",
            "_view_count": null,
            "_view_module_version": "1.5.0",
            "box_style": "",
            "layout": "IPY_MODEL_f77f1c2f5cdf439399183473d0afa728",
            "_model_module": "@jupyter-widgets/controls",
            "children": [
              "IPY_MODEL_daad1de38d2b4a08ae002502e2f79f05",
              "IPY_MODEL_10757a019e4a46cda4c86cf6889bf8a9"
            ]
          }
        },
        "f77f1c2f5cdf439399183473d0afa728": {
          "model_module": "@jupyter-widgets/base",
          "model_name": "LayoutModel",
          "state": {
            "_view_name": "LayoutView",
            "grid_template_rows": null,
            "right": null,
            "justify_content": null,
            "_view_module": "@jupyter-widgets/base",
            "overflow": null,
            "_model_module_version": "1.2.0",
            "_view_count": null,
            "flex_flow": null,
            "width": null,
            "min_width": null,
            "border": null,
            "align_items": null,
            "bottom": null,
            "_model_module": "@jupyter-widgets/base",
            "top": null,
            "grid_column": null,
            "overflow_y": null,
            "overflow_x": null,
            "grid_auto_flow": null,
            "grid_area": null,
            "grid_template_columns": null,
            "flex": null,
            "_model_name": "LayoutModel",
            "justify_items": null,
            "grid_row": null,
            "max_height": null,
            "align_content": null,
            "visibility": null,
            "align_self": null,
            "height": null,
            "min_height": null,
            "padding": null,
            "grid_auto_rows": null,
            "grid_gap": null,
            "max_width": null,
            "order": null,
            "_view_module_version": "1.2.0",
            "grid_template_areas": null,
            "object_position": null,
            "object_fit": null,
            "grid_auto_columns": null,
            "margin": null,
            "display": null,
            "left": null
          }
        },
        "daad1de38d2b4a08ae002502e2f79f05": {
          "model_module": "@jupyter-widgets/controls",
          "model_name": "FloatProgressModel",
          "state": {
            "_view_name": "ProgressView",
            "style": "IPY_MODEL_a754157561114999a27a68a4118172b2",
            "_dom_classes": [],
            "description": "Downloading: 100%",
            "_model_name": "FloatProgressModel",
            "bar_style": "success",
            "max": 466062,
            "_view_module": "@jupyter-widgets/controls",
            "_model_module_version": "1.5.0",
            "value": 466062,
            "_view_count": null,
            "_view_module_version": "1.5.0",
            "orientation": "horizontal",
            "min": 0,
            "description_tooltip": null,
            "_model_module": "@jupyter-widgets/controls",
            "layout": "IPY_MODEL_ed2809d85a7141f3a69f541543d85b8b"
          }
        },
        "10757a019e4a46cda4c86cf6889bf8a9": {
          "model_module": "@jupyter-widgets/controls",
          "model_name": "HTMLModel",
          "state": {
            "_view_name": "HTMLView",
            "style": "IPY_MODEL_3003d3802b4e48669a80a873e35e80d2",
            "_dom_classes": [],
            "description": "",
            "_model_name": "HTMLModel",
            "placeholder": "​",
            "_view_module": "@jupyter-widgets/controls",
            "_model_module_version": "1.5.0",
            "value": " 466k/466k [00:06&lt;00:00, 71.5kB/s]",
            "_view_count": null,
            "_view_module_version": "1.5.0",
            "description_tooltip": null,
            "_model_module": "@jupyter-widgets/controls",
            "layout": "IPY_MODEL_d2c97fd74c4d46779d3a04b6fc4a5c73"
          }
        },
        "a754157561114999a27a68a4118172b2": {
          "model_module": "@jupyter-widgets/controls",
          "model_name": "ProgressStyleModel",
          "state": {
            "_view_name": "StyleView",
            "_model_name": "ProgressStyleModel",
            "description_width": "initial",
            "_view_module": "@jupyter-widgets/base",
            "_model_module_version": "1.5.0",
            "_view_count": null,
            "_view_module_version": "1.2.0",
            "bar_color": null,
            "_model_module": "@jupyter-widgets/controls"
          }
        },
        "ed2809d85a7141f3a69f541543d85b8b": {
          "model_module": "@jupyter-widgets/base",
          "model_name": "LayoutModel",
          "state": {
            "_view_name": "LayoutView",
            "grid_template_rows": null,
            "right": null,
            "justify_content": null,
            "_view_module": "@jupyter-widgets/base",
            "overflow": null,
            "_model_module_version": "1.2.0",
            "_view_count": null,
            "flex_flow": null,
            "width": null,
            "min_width": null,
            "border": null,
            "align_items": null,
            "bottom": null,
            "_model_module": "@jupyter-widgets/base",
            "top": null,
            "grid_column": null,
            "overflow_y": null,
            "overflow_x": null,
            "grid_auto_flow": null,
            "grid_area": null,
            "grid_template_columns": null,
            "flex": null,
            "_model_name": "LayoutModel",
            "justify_items": null,
            "grid_row": null,
            "max_height": null,
            "align_content": null,
            "visibility": null,
            "align_self": null,
            "height": null,
            "min_height": null,
            "padding": null,
            "grid_auto_rows": null,
            "grid_gap": null,
            "max_width": null,
            "order": null,
            "_view_module_version": "1.2.0",
            "grid_template_areas": null,
            "object_position": null,
            "object_fit": null,
            "grid_auto_columns": null,
            "margin": null,
            "display": null,
            "left": null
          }
        },
        "3003d3802b4e48669a80a873e35e80d2": {
          "model_module": "@jupyter-widgets/controls",
          "model_name": "DescriptionStyleModel",
          "state": {
            "_view_name": "StyleView",
            "_model_name": "DescriptionStyleModel",
            "description_width": "",
            "_view_module": "@jupyter-widgets/base",
            "_model_module_version": "1.5.0",
            "_view_count": null,
            "_view_module_version": "1.2.0",
            "_model_module": "@jupyter-widgets/controls"
          }
        },
        "d2c97fd74c4d46779d3a04b6fc4a5c73": {
          "model_module": "@jupyter-widgets/base",
          "model_name": "LayoutModel",
          "state": {
            "_view_name": "LayoutView",
            "grid_template_rows": null,
            "right": null,
            "justify_content": null,
            "_view_module": "@jupyter-widgets/base",
            "overflow": null,
            "_model_module_version": "1.2.0",
            "_view_count": null,
            "flex_flow": null,
            "width": null,
            "min_width": null,
            "border": null,
            "align_items": null,
            "bottom": null,
            "_model_module": "@jupyter-widgets/base",
            "top": null,
            "grid_column": null,
            "overflow_y": null,
            "overflow_x": null,
            "grid_auto_flow": null,
            "grid_area": null,
            "grid_template_columns": null,
            "flex": null,
            "_model_name": "LayoutModel",
            "justify_items": null,
            "grid_row": null,
            "max_height": null,
            "align_content": null,
            "visibility": null,
            "align_self": null,
            "height": null,
            "min_height": null,
            "padding": null,
            "grid_auto_rows": null,
            "grid_gap": null,
            "max_width": null,
            "order": null,
            "_view_module_version": "1.2.0",
            "grid_template_areas": null,
            "object_position": null,
            "object_fit": null,
            "grid_auto_columns": null,
            "margin": null,
            "display": null,
            "left": null
          }
        }
      }
    }
  },
  "cells": [
    {
      "cell_type": "code",
      "metadata": {
        "colab": {
          "base_uri": "https://localhost:8080/"
        },
        "id": "fZqq7z7xw4S_",
        "outputId": "5f3115e2-9beb-4e1d-e12a-f19d98ae590a"
      },
      "source": [
        "!pip install transformers"
      ],
      "execution_count": 19,
      "outputs": [
        {
          "output_type": "stream",
          "text": [
            "Requirement already satisfied: transformers in /usr/local/lib/python3.6/dist-packages (4.0.1)\n",
            "Requirement already satisfied: regex!=2019.12.17 in /usr/local/lib/python3.6/dist-packages (from transformers) (2019.12.20)\n",
            "Requirement already satisfied: sacremoses in /usr/local/lib/python3.6/dist-packages (from transformers) (0.0.43)\n",
            "Requirement already satisfied: packaging in /usr/local/lib/python3.6/dist-packages (from transformers) (20.7)\n",
            "Requirement already satisfied: tqdm>=4.27 in /usr/local/lib/python3.6/dist-packages (from transformers) (4.41.1)\n",
            "Requirement already satisfied: filelock in /usr/local/lib/python3.6/dist-packages (from transformers) (3.0.12)\n",
            "Requirement already satisfied: numpy in /usr/local/lib/python3.6/dist-packages (from transformers) (1.18.5)\n",
            "Requirement already satisfied: requests in /usr/local/lib/python3.6/dist-packages (from transformers) (2.23.0)\n",
            "Requirement already satisfied: dataclasses; python_version < \"3.7\" in /usr/local/lib/python3.6/dist-packages (from transformers) (0.8)\n",
            "Requirement already satisfied: tokenizers==0.9.4 in /usr/local/lib/python3.6/dist-packages (from transformers) (0.9.4)\n",
            "Requirement already satisfied: joblib in /usr/local/lib/python3.6/dist-packages (from sacremoses->transformers) (0.17.0)\n",
            "Requirement already satisfied: six in /usr/local/lib/python3.6/dist-packages (from sacremoses->transformers) (1.15.0)\n",
            "Requirement already satisfied: click in /usr/local/lib/python3.6/dist-packages (from sacremoses->transformers) (7.1.2)\n",
            "Requirement already satisfied: pyparsing>=2.0.2 in /usr/local/lib/python3.6/dist-packages (from packaging->transformers) (2.4.7)\n",
            "Requirement already satisfied: certifi>=2017.4.17 in /usr/local/lib/python3.6/dist-packages (from requests->transformers) (2020.12.5)\n",
            "Requirement already satisfied: urllib3!=1.25.0,!=1.25.1,<1.26,>=1.21.1 in /usr/local/lib/python3.6/dist-packages (from requests->transformers) (1.24.3)\n",
            "Requirement already satisfied: chardet<4,>=3.0.2 in /usr/local/lib/python3.6/dist-packages (from requests->transformers) (3.0.4)\n",
            "Requirement already satisfied: idna<3,>=2.5 in /usr/local/lib/python3.6/dist-packages (from requests->transformers) (2.10)\n"
          ],
          "name": "stdout"
        }
      ]
    },
    {
      "cell_type": "code",
      "metadata": {
        "id": "kbpLXh2xb5lh"
      },
      "source": [
        "from tqdm.notebook import tqdm\r\n",
        "import torch\r\n",
        "from torch.utils.data import DataLoader\r\n",
        "from torch.utils.data import Dataset as TorchDataset\r\n",
        "import torch.nn as nn"
      ],
      "execution_count": 3,
      "outputs": []
    },
    {
      "cell_type": "code",
      "metadata": {
        "colab": {
          "base_uri": "https://localhost:8080/"
        },
        "id": "vytrcjkyrFoY",
        "outputId": "89ef5faa-0883-4f0d-f789-f9de1f552507"
      },
      "source": [
        "!pip install jsonlines\r\n",
        "import jsonlines\r\n",
        "from sklearn.model_selection import train_test_split\r\n",
        "!pip install python-levenshtein\r\n",
        "import Levenshtein as Lev\r\n",
        "import torch\r\n",
        "from torch.utils.data import Dataset as TorchDataset\r\n",
        "from typing import Sequence, Dict, Any, List\r\n",
        "import json"
      ],
      "execution_count": 4,
      "outputs": [
        {
          "output_type": "stream",
          "text": [
            "Collecting jsonlines\n",
            "  Downloading https://files.pythonhosted.org/packages/4f/9a/ab96291470e305504aa4b7a2e0ec132e930da89eb3ca7a82fbe03167c131/jsonlines-1.2.0-py2.py3-none-any.whl\n",
            "Requirement already satisfied: six in /usr/local/lib/python3.6/dist-packages (from jsonlines) (1.15.0)\n",
            "Installing collected packages: jsonlines\n",
            "Successfully installed jsonlines-1.2.0\n",
            "Collecting python-levenshtein\n",
            "\u001b[?25l  Downloading https://files.pythonhosted.org/packages/42/a9/d1785c85ebf9b7dfacd08938dd028209c34a0ea3b1bcdb895208bd40a67d/python-Levenshtein-0.12.0.tar.gz (48kB)\n",
            "\u001b[K     |████████████████████████████████| 51kB 5.9MB/s \n",
            "\u001b[?25hRequirement already satisfied: setuptools in /usr/local/lib/python3.6/dist-packages (from python-levenshtein) (50.3.2)\n",
            "Building wheels for collected packages: python-levenshtein\n",
            "  Building wheel for python-levenshtein (setup.py) ... \u001b[?25l\u001b[?25hdone\n",
            "  Created wheel for python-levenshtein: filename=python_Levenshtein-0.12.0-cp36-cp36m-linux_x86_64.whl size=144802 sha256=d6e22374c9ceb76ce16a55bb6f968ab765e9c952ee6d124f0b8ea300d2a15bf0\n",
            "  Stored in directory: /root/.cache/pip/wheels/de/c2/93/660fd5f7559049268ad2dc6d81c4e39e9e36518766eaf7e342\n",
            "Successfully built python-levenshtein\n",
            "Installing collected packages: python-levenshtein\n",
            "Successfully installed python-levenshtein-0.12.0\n"
          ],
          "name": "stdout"
        }
      ]
    },
    {
      "cell_type": "code",
      "metadata": {
        "colab": {
          "base_uri": "https://localhost:8080/",
          "height": 163,
          "referenced_widgets": [
            "059577c5a4bf4dd9bdbf8bc29936ac20",
            "da2b6983da714fed9f4802631654823c",
            "3ef2ca079e2d4a638dfe8b7b35c81829",
            "ea0907c1ed81431591e4ebf515fe4be1",
            "7221d1a213ac4c37a022d63a8c3c7e33",
            "b12eb5f9c1d842ffb7af064f84b5122b",
            "b7852da292c24dd58af930fbdc07a0c3",
            "e186d9977be64236a919a63f15c7a935",
            "593eb0e4a63d48d1a90230b459eebe93",
            "0cd9fc63ba6547b98ebb0267dc467dbb",
            "e9f067d0360c428fbb40ccec424ba65b",
            "d29be17a125345478b0448e2d0584872",
            "8104b122b9f84ea38660d3d28682a9fd",
            "bd0f742ddaa74719bd0bac5bd68c15bb",
            "139a34a7b3bf473897f548afb406fd89",
            "9b759b3d1e4140fd87a928eb751cb3ea",
            "074e24176d87434a8d11bbc95f08e389",
            "f77f1c2f5cdf439399183473d0afa728",
            "daad1de38d2b4a08ae002502e2f79f05",
            "10757a019e4a46cda4c86cf6889bf8a9",
            "a754157561114999a27a68a4118172b2",
            "ed2809d85a7141f3a69f541543d85b8b",
            "3003d3802b4e48669a80a873e35e80d2",
            "d2c97fd74c4d46779d3a04b6fc4a5c73"
          ]
        },
        "id": "DjbP54xExC4z",
        "outputId": "dda734c0-4526-4772-9e74-49c3ea463054"
      },
      "source": [
        "from transformers import AutoTokenizer\r\n",
        "tokenizer = AutoTokenizer.from_pretrained('bert-base-uncased')"
      ],
      "execution_count": 20,
      "outputs": [
        {
          "output_type": "display_data",
          "data": {
            "application/vnd.jupyter.widget-view+json": {
              "model_id": "059577c5a4bf4dd9bdbf8bc29936ac20",
              "version_minor": 0,
              "version_major": 2
            },
            "text/plain": [
              "HBox(children=(FloatProgress(value=0.0, description='Downloading', max=433.0, style=ProgressStyle(description_…"
            ]
          },
          "metadata": {
            "tags": []
          }
        },
        {
          "output_type": "stream",
          "text": [
            "\n"
          ],
          "name": "stdout"
        },
        {
          "output_type": "display_data",
          "data": {
            "application/vnd.jupyter.widget-view+json": {
              "model_id": "593eb0e4a63d48d1a90230b459eebe93",
              "version_minor": 0,
              "version_major": 2
            },
            "text/plain": [
              "HBox(children=(FloatProgress(value=0.0, description='Downloading', max=231508.0, style=ProgressStyle(descripti…"
            ]
          },
          "metadata": {
            "tags": []
          }
        },
        {
          "output_type": "stream",
          "text": [
            "\n"
          ],
          "name": "stdout"
        },
        {
          "output_type": "display_data",
          "data": {
            "application/vnd.jupyter.widget-view+json": {
              "model_id": "074e24176d87434a8d11bbc95f08e389",
              "version_minor": 0,
              "version_major": 2
            },
            "text/plain": [
              "HBox(children=(FloatProgress(value=0.0, description='Downloading', max=466062.0, style=ProgressStyle(descripti…"
            ]
          },
          "metadata": {
            "tags": []
          }
        },
        {
          "output_type": "stream",
          "text": [
            "\n"
          ],
          "name": "stdout"
        }
      ]
    },
    {
      "cell_type": "code",
      "metadata": {
        "id": "LIDSfNJtcQtR"
      },
      "source": [
        "device = torch.device(\"cuda\" if torch.cuda.is_available() else \"cpu\")"
      ],
      "execution_count": 5,
      "outputs": []
    },
    {
      "cell_type": "code",
      "metadata": {
        "id": "oomI0eTgL8F1",
        "colab": {
          "base_uri": "https://localhost:8080/"
        },
        "outputId": "6a35c37d-c65c-44c8-dded-788dac99fc9c"
      },
      "source": [
        "from google.colab import drive\r\n",
        "drive.mount('/content/gdrive')"
      ],
      "execution_count": 6,
      "outputs": [
        {
          "output_type": "stream",
          "text": [
            "Mounted at /content/gdrive\n"
          ],
          "name": "stdout"
        }
      ]
    },
    {
      "cell_type": "code",
      "metadata": {
        "id": "I9ulyPskLibE"
      },
      "source": [
        "train_path = \"/content/gdrive/My Drive/train_dl.json\"\r\n",
        "test_path = \"/content/gdrive/My Drive/test_dl.json\""
      ],
      "execution_count": 23,
      "outputs": []
    },
    {
      "cell_type": "code",
      "metadata": {
        "id": "vqLHDeGOhamd"
      },
      "source": [
        "def load_jsonlines(path: str) -> List[Dict[str, Any]]:\r\n",
        "    data = []\r\n",
        "    with jsonlines.open(path, \"r\") as reader:\r\n",
        "        for items in reader:\r\n",
        "            data.append(items)\r\n",
        "    return data"
      ],
      "execution_count": 25,
      "outputs": []
    },
    {
      "cell_type": "code",
      "metadata": {
        "id": "ieKrIk9Vhf4O"
      },
      "source": [
        "train = load_jsonlines(train_path)\r\n",
        "test = load_jsonlines(test_path)"
      ],
      "execution_count": 26,
      "outputs": []
    },
    {
      "cell_type": "code",
      "metadata": {
        "colab": {
          "base_uri": "https://localhost:8080/"
        },
        "id": "E7U8EXXetw-H",
        "outputId": "9cdd4335-ed6c-42ee-fd56-f4949841f78f"
      },
      "source": [
        "len(train)"
      ],
      "execution_count": 27,
      "outputs": [
        {
          "output_type": "execute_result",
          "data": {
            "text/plain": [
              "26422"
            ]
          },
          "metadata": {
            "tags": []
          },
          "execution_count": 27
        }
      ]
    },
    {
      "cell_type": "code",
      "metadata": {
        "colab": {
          "base_uri": "https://localhost:8080/"
        },
        "id": "rdJWJK3YVU11",
        "outputId": "3ba01c5f-ba17-4df6-a979-b156e15675d9"
      },
      "source": [
        "for i in test:\r\n",
        "    print(i)\r\n",
        "    break"
      ],
      "execution_count": 31,
      "outputs": [
        {
          "output_type": "stream",
          "text": [
            "{'seq_a': 'what are amphibians?', 'seq_b': 'the president was unmarried', 'dist': 4}\n"
          ],
          "name": "stdout"
        }
      ]
    },
    {
      "cell_type": "code",
      "metadata": {
        "id": "3Z8MBgdjNm2i"
      },
      "source": [
        "class DLDataset(TorchDataset):\r\n",
        "\r\n",
        "    def __init__(self, data, index=0, batch_size=1):\r\n",
        "        self.data = data\r\n",
        "        self.index = index\r\n",
        "        self.batch_size = batch_size\r\n",
        "\r\n",
        "    def __getitem__(self, data):\r\n",
        "        global index\r\n",
        "        data = self.data\r\n",
        "        batch_size = self.batch_size\r\n",
        "        a_list, b_list, dist_list = [], [], []\r\n",
        "\r\n",
        "        for _ in range(batch_size):\r\n",
        "            word_a = self.data[self.index]['seq_a']\r\n",
        "            word_a = torch.Tensor(tokenizer.encode(word_a, padding='max_length', truncation=True)).unsqueeze(0)\r\n",
        "            word_a[word_a == 101] = 0\r\n",
        "            \r\n",
        "            word_b = self.data[self.index]['seq_b']\r\n",
        "            word_b = torch.Tensor(tokenizer.encode(word_b, padding='max_length', truncation=True)).unsqueeze(0)\r\n",
        "            word_b[word_b == 102] = 0\r\n",
        "            word_dis = self.data[self.index]['dist']\r\n",
        "\r\n",
        "\r\n",
        "            word_dis= torch.Tensor([word_dis]).unsqueeze(0)\r\n",
        "            a_list.append(word_a)\r\n",
        "            b_list.append(word_b)\r\n",
        "            dist_list.append(word_dis)\r\n",
        "            self.index = (self.index + 1) % len(data)\r\n",
        "\r\n",
        "        tens_a = torch.cat(a_list, dim=0)\r\n",
        "        tens_b = torch.cat(b_list, dim=0)\r\n",
        "        tens_dis = torch.cat(dist_list, dim=0)\r\n",
        "        return tens_a, tens_b, tens_dis\r\n",
        "\r\n",
        "    def __len__(self):\r\n",
        "        return len(self.data) // self.batch_size"
      ],
      "execution_count": 32,
      "outputs": []
    },
    {
      "cell_type": "code",
      "metadata": {
        "id": "On5MAlT1VIhz"
      },
      "source": [
        "index = 0 \r\n",
        "initial_ = DLDataset(train)\r\n",
        "loader = DataLoader(initial_, batch_size=64, shuffle=True)"
      ],
      "execution_count": 34,
      "outputs": []
    },
    {
      "cell_type": "code",
      "metadata": {
        "id": "iW8w25gTtY_s"
      },
      "source": [
        "initial_val = DLDataset(test)\r\n",
        "val_loader = DataLoader(initial_val, batch_size=64, shuffle=True)"
      ],
      "execution_count": 35,
      "outputs": []
    },
    {
      "cell_type": "code",
      "metadata": {
        "id": "98hRDSF0IcFc"
      },
      "source": [
        "class Deep_lev(torch.nn.Module):\r\n",
        "\r\n",
        "    def __init__(self, vocab_size=30522, embedding_dim=128, hidden_dim=128) :\r\n",
        "        super().__init__()\r\n",
        "        self.embeddings = nn.Embedding(vocab_size, embedding_dim, padding_idx=0)\r\n",
        "        self.encoder = nn.LSTM(embedding_dim, hidden_dim, batch_first=True)\r\n",
        "\r\n",
        "        self.linear = nn.Linear(hidden_dim * 3, 1)\r\n",
        "\r\n",
        "\r\n",
        "    def encode_sequence(self, sequence):\r\n",
        "        embedded_sequence = self.embeddings(sequence)\r\n",
        "        out, (ht, ct) = self.encoder(embedded_sequence)\r\n",
        "        return ht[-1]\r\n",
        "\r\n",
        "    def forward(self, sequence_a, sequence_b, distance = None):\r\n",
        "        embedded_sequence_a = self.encode_sequence(sequence_a)\r\n",
        "        embedded_sequence_b = self.encode_sequence(sequence_b)\r\n",
        "        diff = torch.abs(embedded_sequence_a - embedded_sequence_b)\r\n",
        "        representation = torch.cat([embedded_sequence_a, embedded_sequence_b, diff], dim=-1)\r\n",
        "\r\n",
        "        approx_distance = self.linear(representation)\r\n",
        "\r\n",
        "        return approx_distance"
      ],
      "execution_count": 36,
      "outputs": []
    },
    {
      "cell_type": "code",
      "metadata": {
        "colab": {
          "base_uri": "https://localhost:8080/"
        },
        "id": "2pkBez_5tncp",
        "outputId": "740faa69-52ee-4099-f5f9-e3a246694ff0"
      },
      "source": [
        "deep_lv = Deep_lev().to(device)\r\n",
        "n_epochs = 40\r\n",
        "opt = torch.optim.Adam(deep_lv.parameters(), lr=0.01)\r\n",
        "scheduler = torch.optim.lr_scheduler.CosineAnnealingLR(opt, n_epochs)\r\n",
        "loss = nn.MSELoss()\r\n",
        "losses = []\r\n",
        "val_losses = []\r\n",
        "\r\n",
        "for epoch in range(n_epochs):\r\n",
        "    deep_lv.train()\r\n",
        "    epoch_loss = 0\r\n",
        "    for batch in loader:\r\n",
        "        opt.zero_grad()\r\n",
        "        preds = deep_lv(batch[0].squeeze(1).long().to(device), batch[1].squeeze(1).long().to(device))\r\n",
        "        loss_ = loss(preds.squeeze(1), batch[2].squeeze(2).squeeze(1).to(device))\r\n",
        "        loss_.backward()\r\n",
        "        epoch_loss += loss_.item()\r\n",
        "        opt.step()\r\n",
        "\r\n",
        "    losses.append(epoch_loss / len(loader))\r\n",
        "\r\n",
        "    deep_lv.eval()\r\n",
        "    with torch.no_grad():\r\n",
        "        average_loss = 0\r\n",
        "        for batch in val_loader:\r\n",
        "            preds = deep_lv(batch[0].squeeze(1).long().to(device), batch[1].squeeze(1).long().to(device))\r\n",
        "            loss_ = loss(preds.squeeze(1), batch[2].squeeze(2).squeeze(1).to(device))\r\n",
        "            average_loss += loss_.item()\r\n",
        "    val_losses.append(average_loss / len(val_loader))\r\n",
        "\r\n",
        "    scheduler.step()\r\n",
        "    print(f\"Epoch: {epoch} train_loss: {(epoch_loss / len(loader))} val_loss: {(average_loss / len(val_loader))}\")\r\n",
        "\r\n",
        "    if epoch >= 20:\r\n",
        "        if (epoch_loss / len(loader)) >= losses[-1] and (epoch_loss / len(loader)) >= losses[-2]:\r\n",
        "            print('early stopping')\r\n",
        "            torch.save(deep_lv.state_dict(), \"/content/gdrive/My Drive/Deep_levenstein.pt\")\r\n",
        "            break"
      ],
      "execution_count": 39,
      "outputs": [
        {
          "output_type": "stream",
          "text": [
            "Epoch: 0 train_loss: 9.129678009208698 val_loss: 8.814227877878675\n",
            "Epoch: 1 train_loss: 8.858582776626143 val_loss: 8.741375593578114\n",
            "Epoch: 2 train_loss: 8.849247110380675 val_loss: 8.724271757929932\n",
            "Epoch: 3 train_loss: 8.845117969605305 val_loss: 8.717440095602297\n",
            "Epoch: 4 train_loss: 8.8414488635398 val_loss: 8.699610525486516\n",
            "Epoch: 5 train_loss: 8.835635891260882 val_loss: 8.699093806977366\n",
            "Epoch: 6 train_loss: 8.835313112337422 val_loss: 8.697882818240746\n",
            "Epoch: 7 train_loss: 8.834526549817285 val_loss: 8.69588074497148\n",
            "Epoch: 8 train_loss: 8.833547798253722 val_loss: 8.692605063027026\n",
            "Epoch: 9 train_loss: 8.831733461153709 val_loss: 8.683570394328996\n",
            "Epoch: 10 train_loss: 8.830540236780198 val_loss: 8.677434283144335\n",
            "Epoch: 11 train_loss: 8.829395302271438 val_loss: 8.670688753034554\n",
            "Epoch: 12 train_loss: 8.82810860800108 val_loss: 8.664206264065761\n",
            "Epoch: 13 train_loss: 8.826503899137853 val_loss: 8.658889931790968\n",
            "Epoch: 14 train_loss: 8.824271107412713 val_loss: 8.655344002387103\n",
            "Epoch: 15 train_loss: 8.820591820931607 val_loss: 8.653612950268913\n",
            "Epoch: 16 train_loss: 8.814762121251363 val_loss: 8.654443796943216\n",
            "Epoch: 17 train_loss: 8.809831001568071 val_loss: 8.656289780841155\n",
            "Epoch: 18 train_loss: 8.804747280139322 val_loss: 8.658615217489356\n",
            "Epoch: 19 train_loss: 8.799904234472834 val_loss: 8.66090350525052\n",
            "Epoch: 20 train_loss: 8.795587065144833 val_loss: 8.662530085619759\n",
            "Epoch: 21 train_loss: 8.791895724382009 val_loss: 8.662126183509827\n",
            "Epoch: 22 train_loss: 8.788672814357655 val_loss: 8.658163685424656\n",
            "Epoch: 23 train_loss: 8.785641426612909 val_loss: 8.65169607891756\n",
            "Epoch: 24 train_loss: 8.782687776025213 val_loss: 8.6466920819937\n",
            "Epoch: 25 train_loss: 8.779817909651749 val_loss: 8.64518672578475\n",
            "Epoch: 26 train_loss: 8.776909514720446 val_loss: 8.645260528022169\n",
            "Epoch: 27 train_loss: 8.773764118443967 val_loss: 8.645168056675033\n",
            "Epoch: 28 train_loss: 8.770312735301241 val_loss: 8.645429711715847\n",
            "Epoch: 29 train_loss: 8.76687422329808 val_loss: 8.645382243044237\n",
            "Epoch: 30 train_loss: 8.764007136550424 val_loss: 8.645324924412895\n",
            "Epoch: 31 train_loss: 8.761909229703447 val_loss: 8.64756941094118\n",
            "Epoch: 32 train_loss: 8.760058562345712 val_loss: 8.648747077175216\n",
            "Epoch: 33 train_loss: 8.75758237353826 val_loss: 8.646251503159018\n",
            "Epoch: 34 train_loss: 8.75462895732815 val_loss: 8.645181150997386\n",
            "Epoch: 35 train_loss: 8.75195975338287 val_loss: 8.645404635691175\n",
            "Epoch: 36 train_loss: 8.74988316623697 val_loss: 8.645183448698006\n",
            "Epoch: 37 train_loss: 8.748248494566209 val_loss: 8.645751214494892\n",
            "Epoch: 38 train_loss: 8.746979492339904 val_loss: 8.645628772529902\n",
            "Epoch: 39 train_loss: 8.746122348106514 val_loss: 8.645169302528979\n"
          ],
          "name": "stdout"
        }
      ]
    },
    {
      "cell_type": "code",
      "metadata": {
        "id": "zh03n7b2A74d"
      },
      "source": [
        "torch.save(deep_lv.state_dict(), \"/content/gdrive/My Drive/Deep_levenstein_40epoch.pt\")"
      ],
      "execution_count": 40,
      "outputs": []
    },
    {
      "cell_type": "code",
      "metadata": {
        "id": "VDdaNnBDFSuF",
        "colab": {
          "base_uri": "https://localhost:8080/"
        },
        "outputId": "3dd42d0c-19b9-4345-cb49-02d283dee870"
      },
      "source": [
        "deep_lv = Deep_lev().to(device)\r\n",
        "deep_lv.train()\r\n",
        "opt = torch.optim.Adam(deep_lv.parameters(), lr=0.001)\r\n",
        "loss = nn.MSELoss()\r\n",
        "losses = []\r\n",
        "n_epochs = 50\r\n",
        "for epoch in range(n_epochs):\r\n",
        "    epoch_loss = 0\r\n",
        "    for batch in loader:\r\n",
        "        opt.zero_grad()\r\n",
        "        preds = deep_lv(batch[0].squeeze(1).long().to(device), batch[1].squeeze(1).long().to(device))\r\n",
        "        loss_ = loss(preds.squeeze(1), batch[2].squeeze(2).squeeze(1).to(device))\r\n",
        "        loss_.backward()\r\n",
        "        epoch_loss += loss_.item()\r\n",
        "        opt.step()\r\n",
        "\r\n",
        "    losses.append(epoch_loss / len(loader))\r\n",
        "    print(f\"Epoch: {epoch} train_loss: {(epoch_loss / len(loader))}\")\r\n",
        "    if val_loss < best_val_loss:\r\n",
        "        best_val_loss = val_loss\r\n",
        "        best_model = model\r\n",
        "    if epoch >= 20:\r\n",
        "        if (epoch_loss / len(loader)) >= losses[-1] and (epoch_loss / len(loader)) >= losses[-2]:\r\n",
        "            print('early stopping')\r\n",
        "            torch.save(deep_lv.state_dict(), 'Deep_lev.pt')\r\n",
        "            break"
      ],
      "execution_count": null,
      "outputs": [
        {
          "output_type": "stream",
          "text": [
            "Epoch: 0 train_loss: 7.709730357626756\n",
            "Epoch: 1 train_loss: 7.221348355639095\n",
            "Epoch: 2 train_loss: 7.2186108217071805\n",
            "Epoch: 3 train_loss: 7.216133877901604\n",
            "Epoch: 4 train_loss: 7.215924262076902\n",
            "Epoch: 5 train_loss: 7.215797187459355\n",
            "Epoch: 6 train_loss: 7.215193408841904\n",
            "Epoch: 7 train_loss: 7.214864653510788\n",
            "Epoch: 8 train_loss: 7.214100389815748\n",
            "Epoch: 9 train_loss: 7.213612308050878\n"
          ],
          "name": "stdout"
        }
      ]
    },
    {
      "cell_type": "code",
      "metadata": {
        "id": "atQD0igLu416"
      },
      "source": [
        "torch.save(deep_lv.state_dict(), '/content/gdrive/My Drive/Deep_levenstein_40epoch.pt')"
      ],
      "execution_count": 41,
      "outputs": []
    },
    {
      "cell_type": "code",
      "metadata": {
        "id": "uM-asgskwBk-"
      },
      "source": [
        "model_prov = Deep_lev().to(device)"
      ],
      "execution_count": 42,
      "outputs": []
    },
    {
      "cell_type": "code",
      "metadata": {
        "colab": {
          "base_uri": "https://localhost:8080/"
        },
        "id": "EbKQdfH5vGrF",
        "outputId": "3cd3968b-963d-4861-f8ff-689aef2de535"
      },
      "source": [
        "model_prov.load_state_dict(torch.load('/content/gdrive/My Drive/Deep_levenstein_40epoch.pt'))"
      ],
      "execution_count": 43,
      "outputs": [
        {
          "output_type": "execute_result",
          "data": {
            "text/plain": [
              "<All keys matched successfully>"
            ]
          },
          "metadata": {
            "tags": []
          },
          "execution_count": 43
        }
      ]
    },
    {
      "cell_type": "code",
      "metadata": {
        "id": "fBqP3WPrx7YB"
      },
      "source": [
        "index = 0 \r\n",
        "initial_test = DLDataset(test)\r\n",
        "test_loader = DataLoader(initial_test, batch_size=64, shuffle=True)"
      ],
      "execution_count": 44,
      "outputs": []
    },
    {
      "cell_type": "code",
      "metadata": {
        "colab": {
          "base_uri": "https://localhost:8080/"
        },
        "id": "pQF74_Q9wG3a",
        "outputId": "c4be27ed-8942-4f5e-ca2d-4d282b60a5cd"
      },
      "source": [
        "loss = nn.MSELoss()\r\n",
        "average_loss = 0\r\n",
        "model_prov.eval()\r\n",
        "with torch.no_grad():\r\n",
        "    for batch in test_loader:\r\n",
        "        preds = model_prov(batch[0].squeeze(1).long().to(device), batch[1].squeeze(1).long().to(device))\r\n",
        "        loss_ = loss(preds.squeeze(1), batch[2].squeeze(2).squeeze(1).to(device))\r\n",
        "        average_loss += loss_.item()\r\n",
        "        \r\n",
        "    print(\"L2 distance on test:\", average_loss / len(test_loader))"
      ],
      "execution_count": 46,
      "outputs": [
        {
          "output_type": "stream",
          "text": [
            "L2 distance on test: 8.645169302528979\n"
          ],
          "name": "stdout"
        }
      ]
    },
    {
      "cell_type": "code",
      "metadata": {
        "id": "BBXy8Z2IDNwT"
      },
      "source": [
        ""
      ],
      "execution_count": null,
      "outputs": []
    }
  ]
}