{
  "nbformat": 4,
  "nbformat_minor": 0,
  "metadata": {
    "colab": {
      "name": "MLM.ipynb",
      "provenance": []
    },
    "kernelspec": {
      "name": "python3",
      "display_name": "Python 3"
    },
    "accelerator": "GPU"
  },
  "cells": [
    {
      "cell_type": "code",
      "metadata": {
        "colab": {
          "base_uri": "https://localhost:8080/"
        },
        "id": "JvZ9QMH2INS7",
        "outputId": "a44b5af8-af42-4634-ed4c-023d7333f07a"
      },
      "source": [
        "!pip3 install torchtext==0.4.0\n",
        "\n",
        "import math\n",
        "import torch\n",
        "import torch.nn as nn\n",
        "import torch.nn.functional as F"
      ],
      "execution_count": 1,
      "outputs": [
        {
          "output_type": "stream",
          "text": [
            "Requirement already satisfied: torchtext==0.4.0 in /usr/local/lib/python3.6/dist-packages (0.4.0)\n",
            "Requirement already satisfied: six in /usr/local/lib/python3.6/dist-packages (from torchtext==0.4.0) (1.15.0)\n",
            "Requirement already satisfied: requests in /usr/local/lib/python3.6/dist-packages (from torchtext==0.4.0) (2.23.0)\n",
            "Requirement already satisfied: numpy in /usr/local/lib/python3.6/dist-packages (from torchtext==0.4.0) (1.18.5)\n",
            "Requirement already satisfied: tqdm in /usr/local/lib/python3.6/dist-packages (from torchtext==0.4.0) (4.41.1)\n",
            "Requirement already satisfied: torch in /usr/local/lib/python3.6/dist-packages (from torchtext==0.4.0) (1.7.0+cu101)\n",
            "Requirement already satisfied: chardet<4,>=3.0.2 in /usr/local/lib/python3.6/dist-packages (from requests->torchtext==0.4.0) (3.0.4)\n",
            "Requirement already satisfied: idna<3,>=2.5 in /usr/local/lib/python3.6/dist-packages (from requests->torchtext==0.4.0) (2.10)\n",
            "Requirement already satisfied: urllib3!=1.25.0,!=1.25.1,<1.26,>=1.21.1 in /usr/local/lib/python3.6/dist-packages (from requests->torchtext==0.4.0) (1.24.3)\n",
            "Requirement already satisfied: certifi>=2017.4.17 in /usr/local/lib/python3.6/dist-packages (from requests->torchtext==0.4.0) (2020.11.8)\n",
            "Requirement already satisfied: typing-extensions in /usr/local/lib/python3.6/dist-packages (from torch->torchtext==0.4.0) (3.7.4.3)\n",
            "Requirement already satisfied: future in /usr/local/lib/python3.6/dist-packages (from torch->torchtext==0.4.0) (0.16.0)\n",
            "Requirement already satisfied: dataclasses in /usr/local/lib/python3.6/dist-packages (from torch->torchtext==0.4.0) (0.8)\n"
          ],
          "name": "stdout"
        }
      ]
    },
    {
      "cell_type": "code",
      "metadata": {
        "id": "REMnhCDNIOQG"
      },
      "source": [
        "class PositionalEncoding(nn.Module):\n",
        "    def __init__(self, d_model, dropout=0.1, max_len=5000):\n",
        "        super(PositionalEncoding, self).__init__()\n",
        "        self.dropout = nn.Dropout(p=dropout)\n",
        "\n",
        "        pe = torch.zeros(max_len, d_model)\n",
        "        position = torch.arange(0, max_len, dtype=torch.float).unsqueeze(1)\n",
        "        div_term = torch.exp(torch.arange(0, d_model, 2).float() * (-math.log(10000.0) / d_model))\n",
        "        pe[:, 0::2] = torch.sin(position * div_term)\n",
        "        pe[:, 1::2] = torch.cos(position * div_term)\n",
        "        pe = pe.unsqueeze(0).transpose(0, 1)\n",
        "        self.register_buffer('pe', pe)\n",
        "\n",
        "    def forward(self, x):\n",
        "        x = x + self.pe[:x.size(0), :]\n",
        "        return self.dropout(x)"
      ],
      "execution_count": 2,
      "outputs": []
    },
    {
      "cell_type": "code",
      "metadata": {
        "id": "t5sE-SyGOC0H"
      },
      "source": [
        "class MaskedLanguageModel(nn.Module):\n",
        "\n",
        "    def __init__(self, ntoken, ninp, nhead, nhid, nlayers, dropout=0.5):\n",
        "        super().__init__()\n",
        "        self.pos_encoder = PositionalEncoding(ninp, dropout)\n",
        "        encoder_layers = nn.TransformerEncoderLayer(ninp, nhead, nhid, dropout)\n",
        "        self.transformer_encoder = nn.TransformerEncoder(encoder_layers, nlayers)\n",
        "        self.encoder = nn.Embedding(ntoken, ninp)\n",
        "        self.ninp = ninp\n",
        "        self.decoder = nn.Linear(ninp, ntoken)\n",
        "\n",
        "        self.init_weights()\n",
        "\n",
        "    def generate_square_subsequent_mask(self, sz):\n",
        "        mask = (torch.triu(torch.ones(sz, sz)) == 1).transpose(0, 1)\n",
        "        mask = mask.float().masked_fill(mask == 0, float('-inf')).masked_fill(mask == 1, float(0.0))\n",
        "        return mask\n",
        "\n",
        "    def init_weights(self):\n",
        "        initrange = 0.1\n",
        "        self.encoder.weight.data.uniform_(-initrange, initrange)\n",
        "        self.decoder.bias.data.zero_()\n",
        "        self.decoder.weight.data.uniform_(-initrange, initrange)\n",
        "\n",
        "    def forward(self, src, src_mask):\n",
        "        src = self.encoder(src) * math.sqrt(self.ninp)\n",
        "        src = self.pos_encoder(src)\n",
        "        output = self.transformer_encoder(src, src_mask)\n",
        "        output = self.decoder(output)\n",
        "        return output"
      ],
      "execution_count": 3,
      "outputs": []
    },
    {
      "cell_type": "code",
      "metadata": {
        "id": "yYvzSxPvM3tD"
      },
      "source": [
        "device = torch.device(\"cuda\" if torch.cuda.is_available() else \"cpu\")"
      ],
      "execution_count": 4,
      "outputs": []
    },
    {
      "cell_type": "code",
      "metadata": {
        "id": "32osJtwbJgAR"
      },
      "source": [
        "import torchtext\n",
        "from torchtext.data.utils import get_tokenizer\n",
        "\n",
        "\n",
        "TEXT = torchtext.data.Field(tokenize=get_tokenizer(\"basic_english\"),\n",
        "                            init_token='<sos>',\n",
        "                            eos_token='<eos>',\n",
        "                            lower=True)\n",
        "train_txt, val_txt, test_txt = torchtext.datasets.WikiText2.splits(TEXT)\n",
        "TEXT.build_vocab(train_txt)\n",
        "\n",
        "\n",
        "def get_batches(data, bsz):\n",
        "    data = TEXT.numericalize([data.examples[0].text])\n",
        "    # Divide the dataset into bsz parts.\n",
        "    nbatch = data.size(0) // bsz\n",
        "    # Trim off any extra elements that wouldn't cleanly fit (remainders).\n",
        "    data = data.narrow(0, 0, nbatch * bsz)\n",
        "    # Evenly divide the data across the bsz batches.\n",
        "    data = data.view(bsz, -1).t().contiguous()\n",
        "    return data.to(device)\n",
        "\n",
        "batch_size = 64\n",
        "eval_batch_size = 64\n",
        "train_data = get_batches(train_txt, batch_size)\n",
        "val_data = get_batches(val_txt, eval_batch_size)\n",
        "test_data = get_batches(test_txt, eval_batch_size)"
      ],
      "execution_count": 5,
      "outputs": []
    },
    {
      "cell_type": "code",
      "metadata": {
        "id": "OJ5VMi1JP2_g"
      },
      "source": [
        "bptt = 35\n",
        "def get_batch(source, i):\n",
        "    seq_len = min(bptt, len(source) - 1 - i)\n",
        "    data = source[i:i+seq_len]\n",
        "    target = source[i+1:i+1+seq_len].reshape(-1)\n",
        "    return data, target"
      ],
      "execution_count": 6,
      "outputs": []
    },
    {
      "cell_type": "code",
      "metadata": {
        "id": "I--4P4TeS5sA"
      },
      "source": [
        "ntokens = len(TEXT.vocab.stoi) # the size of vocabulary\n",
        "emsize = 64 # embedding dimension\n",
        "nhid = 64 # the dimension of the feedforward network model in nn.TransformerEncoder\n",
        "nlayers = 1 # the number of nn.TransformerEncoderLayer in nn.TransformerEncoder\n",
        "nhead = 4 # the number of heads in the multiheadattention models\n",
        "dropout = 0.1 # the dropout value\n",
        "model = MaskedLanguageModel(ntokens, emsize, nhead, nhid, nlayers, dropout).to(device)"
      ],
      "execution_count": 7,
      "outputs": []
    },
    {
      "cell_type": "code",
      "metadata": {
        "id": "pSCDFn_JTMh8"
      },
      "source": [
        "criterion = nn.CrossEntropyLoss()\n",
        "optimizer = torch.optim.Adam(model.parameters(), lr=0.001)\n",
        "# scheduler = torch.optim.lr_scheduler.StepLR(optimizer, 1.0, gamma=0.95)\n",
        "\n",
        "import time\n",
        "def train():\n",
        "    model.train() # Turn on the train mode\n",
        "    total_loss = 0.\n",
        "    start_time = time.time()\n",
        "    ntokens = len(TEXT.vocab.stoi)\n",
        "    src_mask = model.generate_square_subsequent_mask(bptt).to(device)\n",
        "    for batch, i in enumerate(range(0, train_data.size(0) - 1, bptt)):\n",
        "        data, targets = get_batch(train_data, i)\n",
        "        optimizer.zero_grad()\n",
        "        if data.size(0) != bptt:\n",
        "            src_mask = model.generate_square_subsequent_mask(data.size(0)).to(device)\n",
        "        output = model(data, src_mask)\n",
        "        loss = criterion(output.view(-1, ntokens), targets)\n",
        "        loss.backward()\n",
        "        torch.nn.utils.clip_grad_norm_(model.parameters(), 0.5)\n",
        "        optimizer.step()\n",
        "\n",
        "        total_loss += loss.item()\n",
        "        log_interval = 200\n",
        "        if batch % log_interval == 0 and batch > 0:\n",
        "            cur_loss = total_loss / log_interval\n",
        "            elapsed = time.time() - start_time\n",
        "            print('| epoch {:3d} | {:5d}/{:5d} batches | '\n",
        "                  ' ms/batch {:5.2f} | '\n",
        "                  'loss {:5.2f} | ppl {:8.2f}'.format(\n",
        "                    epoch, batch, len(train_data) // bptt,\n",
        "                    elapsed * 1000 / log_interval,\n",
        "                    cur_loss, math.exp(cur_loss)))\n",
        "            total_loss = 0\n",
        "            start_time = time.time()\n",
        "\n",
        "def evaluate(eval_model, data_source):\n",
        "    eval_model.eval() # Turn on the evaluation mode\n",
        "    total_loss = 0.\n",
        "    ntokens = len(TEXT.vocab.stoi)\n",
        "    src_mask = model.generate_square_subsequent_mask(bptt).to(device)\n",
        "    with torch.no_grad():\n",
        "        for i in range(0, data_source.size(0) - 1, bptt):\n",
        "            data, targets = get_batch(data_source, i)\n",
        "            if data.size(0) != bptt:\n",
        "                src_mask = model.generate_square_subsequent_mask(data.size(0)).to(device)\n",
        "            output = eval_model(data, src_mask)\n",
        "            output_flat = output.view(-1, ntokens)\n",
        "            total_loss += len(data) * criterion(output_flat, targets).item()\n",
        "    return total_loss / (len(data_source) - 1)"
      ],
      "execution_count": 8,
      "outputs": []
    },
    {
      "cell_type": "code",
      "metadata": {
        "colab": {
          "base_uri": "https://localhost:8080/"
        },
        "id": "aP_rL43kTYeo",
        "outputId": "4d0330a9-ed98-48d4-d68e-c7eb3b3d1044"
      },
      "source": [
        "best_val_loss = float(\"inf\")\n",
        "losses = []\n",
        "epochs = 50 # The number of epochs\n",
        "best_model = None\n",
        "\n",
        "for epoch in range(1, epochs + 1):\n",
        "    epoch_start_time = time.time()\n",
        "    train()\n",
        "    val_loss = evaluate(model, val_data)\n",
        "    losses.append(val_loss)\n",
        "    print('-' * 89)\n",
        "    print('| end of epoch {:3d} | time: {:5.2f}s | valid loss {:5.2f} | '\n",
        "          'valid ppl {:8.2f}'.format(epoch, (time.time() - epoch_start_time),\n",
        "                                     val_loss, math.exp(val_loss)))\n",
        "    print('-' * 89)\n",
        "\n",
        "    if val_loss < best_val_loss:\n",
        "        best_val_loss = val_loss\n",
        "        best_model = model\n",
        "    elif epoch >=3:\n",
        "        if val_loss >= losses[-1] and val_loss >= losses[-2]:\n",
        "            print('early stopping')\n",
        "            torch.save(best_model.state_dict(), 'MLM_wikitext.pt')\n",
        "            break "
      ],
      "execution_count": 9,
      "outputs": [
        {
          "output_type": "stream",
          "text": [
            "| epoch   1 |   200/  931 batches |  ms/batch 16.47 | loss  7.20 | ppl  1334.90\n",
            "| epoch   1 |   400/  931 batches |  ms/batch 16.23 | loss  6.17 | ppl   478.44\n",
            "| epoch   1 |   600/  931 batches |  ms/batch 16.37 | loss  5.91 | ppl   370.55\n",
            "| epoch   1 |   800/  931 batches |  ms/batch 16.29 | loss  5.84 | ppl   344.71\n",
            "-----------------------------------------------------------------------------------------\n",
            "| end of epoch   1 | time: 15.75s | valid loss  5.55 | valid ppl   257.69\n",
            "-----------------------------------------------------------------------------------------\n",
            "| epoch   2 |   200/  931 batches |  ms/batch 16.37 | loss  5.62 | ppl   276.52\n",
            "| epoch   2 |   400/  931 batches |  ms/batch 16.29 | loss  5.53 | ppl   252.30\n",
            "| epoch   2 |   600/  931 batches |  ms/batch 16.24 | loss  5.44 | ppl   230.13\n",
            "| epoch   2 |   800/  931 batches |  ms/batch 16.30 | loss  5.43 | ppl   227.97\n",
            "-----------------------------------------------------------------------------------------\n",
            "| end of epoch   2 | time: 15.73s | valid loss  5.39 | valid ppl   219.98\n",
            "-----------------------------------------------------------------------------------------\n",
            "| epoch   3 |   200/  931 batches |  ms/batch 16.36 | loss  5.31 | ppl   202.91\n",
            "| epoch   3 |   400/  931 batches |  ms/batch 16.36 | loss  5.26 | ppl   191.53\n",
            "| epoch   3 |   600/  931 batches |  ms/batch 16.31 | loss  5.19 | ppl   179.00\n",
            "| epoch   3 |   800/  931 batches |  ms/batch 16.34 | loss  5.19 | ppl   179.13\n",
            "-----------------------------------------------------------------------------------------\n",
            "| end of epoch   3 | time: 15.76s | valid loss  5.32 | valid ppl   203.44\n",
            "-----------------------------------------------------------------------------------------\n",
            "| epoch   4 |   200/  931 batches |  ms/batch 16.41 | loss  5.10 | ppl   164.78\n",
            "| epoch   4 |   400/  931 batches |  ms/batch 16.30 | loss  5.06 | ppl   157.07\n",
            "| epoch   4 |   600/  931 batches |  ms/batch 16.34 | loss  5.01 | ppl   149.73\n",
            "| epoch   4 |   800/  931 batches |  ms/batch 16.36 | loss  5.02 | ppl   151.51\n",
            "-----------------------------------------------------------------------------------------\n",
            "| end of epoch   4 | time: 15.76s | valid loss  5.28 | valid ppl   196.39\n",
            "-----------------------------------------------------------------------------------------\n",
            "| epoch   5 |   200/  931 batches |  ms/batch 16.43 | loss  4.96 | ppl   142.58\n",
            "| epoch   5 |   400/  931 batches |  ms/batch 16.50 | loss  4.92 | ppl   136.91\n",
            "| epoch   5 |   600/  931 batches |  ms/batch 16.49 | loss  4.88 | ppl   131.61\n",
            "| epoch   5 |   800/  931 batches |  ms/batch 16.54 | loss  4.90 | ppl   134.17\n",
            "-----------------------------------------------------------------------------------------\n",
            "| end of epoch   5 | time: 15.91s | valid loss  5.27 | valid ppl   194.03\n",
            "-----------------------------------------------------------------------------------------\n",
            "| epoch   6 |   200/  931 batches |  ms/batch 16.65 | loss  4.85 | ppl   128.22\n",
            "| epoch   6 |   400/  931 batches |  ms/batch 16.56 | loss  4.81 | ppl   123.20\n",
            "| epoch   6 |   600/  931 batches |  ms/batch 16.64 | loss  4.78 | ppl   119.67\n",
            "| epoch   6 |   800/  931 batches |  ms/batch 16.56 | loss  4.81 | ppl   122.22\n",
            "-----------------------------------------------------------------------------------------\n",
            "| end of epoch   6 | time: 16.01s | valid loss  5.26 | valid ppl   192.79\n",
            "-----------------------------------------------------------------------------------------\n",
            "| epoch   7 |   200/  931 batches |  ms/batch 16.67 | loss  4.77 | ppl   118.29\n",
            "| epoch   7 |   400/  931 batches |  ms/batch 16.61 | loss  4.74 | ppl   114.32\n",
            "| epoch   7 |   600/  931 batches |  ms/batch 16.55 | loss  4.71 | ppl   111.37\n",
            "| epoch   7 |   800/  931 batches |  ms/batch 16.55 | loss  4.74 | ppl   114.00\n",
            "-----------------------------------------------------------------------------------------\n",
            "| end of epoch   7 | time: 16.00s | valid loss  5.27 | valid ppl   193.45\n",
            "-----------------------------------------------------------------------------------------\n",
            "early stopping\n"
          ],
          "name": "stdout"
        }
      ]
    },
    {
      "cell_type": "code",
      "metadata": {
        "colab": {
          "base_uri": "https://localhost:8080/"
        },
        "id": "OoWgrssMU_yR",
        "outputId": "ff98cdd1-4583-4f73-ac04-d53f7d2f4f75"
      },
      "source": [
        "test_loss = evaluate(best_model, test_data)\n",
        "print('=' * 89)\n",
        "print('| End of training | test loss {:5.2f} | test ppl {:8.2f}'.format(\n",
        "    test_loss, math.exp(test_loss)))\n",
        "print('=' * 89)"
      ],
      "execution_count": 10,
      "outputs": [
        {
          "output_type": "stream",
          "text": [
            "=========================================================================================\n",
            "| End of training | test loss  5.19 | test ppl   179.09\n",
            "=========================================================================================\n"
          ],
          "name": "stdout"
        }
      ]
    },
    {
      "cell_type": "code",
      "metadata": {
        "id": "ErsDpz-qZKQ4"
      },
      "source": [
        "torch.save(best_model.state_dict(), 'MLM_wikitext.pt')"
      ],
      "execution_count": 11,
      "outputs": []
    },
    {
      "cell_type": "code",
      "metadata": {
        "id": "2GWXYo25bdod"
      },
      "source": [
        ""
      ],
      "execution_count": 11,
      "outputs": []
    }
  ]
}